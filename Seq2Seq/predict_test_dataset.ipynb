{
 "cells": [
  {
   "cell_type": "code",
   "execution_count": 1,
   "id": "d1292b8a",
   "metadata": {
    "_cell_guid": "b1076dfc-b9ad-4769-8c92-a6c4dae69d19",
    "_uuid": "8f2839f25d086af736a60e9eeb907d3b93b6e0e5",
    "execution": {
     "iopub.execute_input": "2024-07-02T02:37:09.027834Z",
     "iopub.status.busy": "2024-07-02T02:37:09.027465Z",
     "iopub.status.idle": "2024-07-02T02:37:35.357384Z",
     "shell.execute_reply": "2024-07-02T02:37:35.356460Z"
    },
    "papermill": {
     "duration": 26.342465,
     "end_time": "2024-07-02T02:37:35.359827",
     "exception": false,
     "start_time": "2024-07-02T02:37:09.017362",
     "status": "completed"
    },
    "tags": []
   },
   "outputs": [
    {
     "name": "stdout",
     "output_type": "stream",
     "text": [
      "Collecting unidecode\r\n",
      "  Downloading Unidecode-1.3.8-py3-none-any.whl.metadata (13 kB)\r\n",
      "Downloading Unidecode-1.3.8-py3-none-any.whl (235 kB)\r\n",
      "\u001b[2K   \u001b[90m━━━━━━━━━━━━━━━━━━━━━━━━━━━━━━━━━━━━━━━━\u001b[0m \u001b[32m235.5/235.5 kB\u001b[0m \u001b[31m7.6 MB/s\u001b[0m eta \u001b[36m0:00:00\u001b[0m\r\n",
      "\u001b[?25hInstalling collected packages: unidecode\r\n",
      "Successfully installed unidecode-1.3.8\r\n",
      "Requirement already satisfied: datasets in /opt/conda/lib/python3.10/site-packages (2.19.2)\r\n",
      "Requirement already satisfied: filelock in /opt/conda/lib/python3.10/site-packages (from datasets) (3.13.1)\r\n",
      "Requirement already satisfied: numpy>=1.17 in /opt/conda/lib/python3.10/site-packages (from datasets) (1.26.4)\r\n",
      "Requirement already satisfied: pyarrow>=12.0.0 in /opt/conda/lib/python3.10/site-packages (from datasets) (14.0.2)\r\n",
      "Requirement already satisfied: pyarrow-hotfix in /opt/conda/lib/python3.10/site-packages (from datasets) (0.6)\r\n",
      "Requirement already satisfied: dill<0.3.9,>=0.3.0 in /opt/conda/lib/python3.10/site-packages (from datasets) (0.3.8)\r\n",
      "Requirement already satisfied: pandas in /opt/conda/lib/python3.10/site-packages (from datasets) (2.2.1)\r\n",
      "Requirement already satisfied: requests>=2.32.1 in /opt/conda/lib/python3.10/site-packages (from datasets) (2.32.3)\r\n",
      "Requirement already satisfied: tqdm>=4.62.1 in /opt/conda/lib/python3.10/site-packages (from datasets) (4.66.4)\r\n",
      "Requirement already satisfied: xxhash in /opt/conda/lib/python3.10/site-packages (from datasets) (3.4.1)\r\n",
      "Requirement already satisfied: multiprocess in /opt/conda/lib/python3.10/site-packages (from datasets) (0.70.16)\r\n",
      "Requirement already satisfied: fsspec<=2024.3.1,>=2023.1.0 in /opt/conda/lib/python3.10/site-packages (from fsspec[http]<=2024.3.1,>=2023.1.0->datasets) (2024.3.1)\r\n",
      "Requirement already satisfied: aiohttp in /opt/conda/lib/python3.10/site-packages (from datasets) (3.9.1)\r\n",
      "Requirement already satisfied: huggingface-hub>=0.21.2 in /opt/conda/lib/python3.10/site-packages (from datasets) (0.23.2)\r\n",
      "Requirement already satisfied: packaging in /opt/conda/lib/python3.10/site-packages (from datasets) (21.3)\r\n",
      "Requirement already satisfied: pyyaml>=5.1 in /opt/conda/lib/python3.10/site-packages (from datasets) (6.0.1)\r\n",
      "Requirement already satisfied: attrs>=17.3.0 in /opt/conda/lib/python3.10/site-packages (from aiohttp->datasets) (23.2.0)\r\n",
      "Requirement already satisfied: multidict<7.0,>=4.5 in /opt/conda/lib/python3.10/site-packages (from aiohttp->datasets) (6.0.4)\r\n",
      "Requirement already satisfied: yarl<2.0,>=1.0 in /opt/conda/lib/python3.10/site-packages (from aiohttp->datasets) (1.9.3)\r\n",
      "Requirement already satisfied: frozenlist>=1.1.1 in /opt/conda/lib/python3.10/site-packages (from aiohttp->datasets) (1.4.1)\r\n",
      "Requirement already satisfied: aiosignal>=1.1.2 in /opt/conda/lib/python3.10/site-packages (from aiohttp->datasets) (1.3.1)\r\n",
      "Requirement already satisfied: async-timeout<5.0,>=4.0 in /opt/conda/lib/python3.10/site-packages (from aiohttp->datasets) (4.0.3)\r\n",
      "Requirement already satisfied: typing-extensions>=3.7.4.3 in /opt/conda/lib/python3.10/site-packages (from huggingface-hub>=0.21.2->datasets) (4.9.0)\r\n",
      "Requirement already satisfied: pyparsing!=3.0.5,>=2.0.2 in /opt/conda/lib/python3.10/site-packages (from packaging->datasets) (3.1.1)\r\n",
      "Requirement already satisfied: charset-normalizer<4,>=2 in /opt/conda/lib/python3.10/site-packages (from requests>=2.32.1->datasets) (3.3.2)\r\n",
      "Requirement already satisfied: idna<4,>=2.5 in /opt/conda/lib/python3.10/site-packages (from requests>=2.32.1->datasets) (3.6)\r\n",
      "Requirement already satisfied: urllib3<3,>=1.21.1 in /opt/conda/lib/python3.10/site-packages (from requests>=2.32.1->datasets) (1.26.18)\r\n",
      "Requirement already satisfied: certifi>=2017.4.17 in /opt/conda/lib/python3.10/site-packages (from requests>=2.32.1->datasets) (2024.2.2)\r\n",
      "Requirement already satisfied: python-dateutil>=2.8.2 in /opt/conda/lib/python3.10/site-packages (from pandas->datasets) (2.9.0.post0)\r\n",
      "Requirement already satisfied: pytz>=2020.1 in /opt/conda/lib/python3.10/site-packages (from pandas->datasets) (2023.3.post1)\r\n",
      "Requirement already satisfied: tzdata>=2022.7 in /opt/conda/lib/python3.10/site-packages (from pandas->datasets) (2023.4)\r\n",
      "Requirement already satisfied: six>=1.5 in /opt/conda/lib/python3.10/site-packages (from python-dateutil>=2.8.2->pandas->datasets) (1.16.0)\r\n"
     ]
    }
   ],
   "source": [
    "!pip install unidecode\n",
    "!pip install datasets"
   ]
  },
  {
   "cell_type": "code",
   "execution_count": 2,
   "id": "340d59eb",
   "metadata": {
    "execution": {
     "iopub.execute_input": "2024-07-02T02:37:35.380348Z",
     "iopub.status.busy": "2024-07-02T02:37:35.379591Z",
     "iopub.status.idle": "2024-07-02T02:37:39.900846Z",
     "shell.execute_reply": "2024-07-02T02:37:39.899983Z"
    },
    "papermill": {
     "duration": 4.533842,
     "end_time": "2024-07-02T02:37:39.903243",
     "exception": false,
     "start_time": "2024-07-02T02:37:35.369401",
     "status": "completed"
    },
    "tags": []
   },
   "outputs": [],
   "source": [
    "import torch\n",
    "import os\n",
    "import pandas as pd"
   ]
  },
  {
   "cell_type": "code",
   "execution_count": 3,
   "id": "6a302c45",
   "metadata": {
    "execution": {
     "iopub.execute_input": "2024-07-02T02:37:39.924135Z",
     "iopub.status.busy": "2024-07-02T02:37:39.923236Z",
     "iopub.status.idle": "2024-07-02T02:37:40.014118Z",
     "shell.execute_reply": "2024-07-02T02:37:40.013174Z"
    },
    "papermill": {
     "duration": 0.103387,
     "end_time": "2024-07-02T02:37:40.016171",
     "exception": false,
     "start_time": "2024-07-02T02:37:39.912784",
     "status": "completed"
    },
    "tags": []
   },
   "outputs": [],
   "source": [
    "DEVICE = torch.device('cuda' if torch.cuda.is_available() else 'cpu')\n",
    "ENC_EMB_DIM = 256\n",
    "DEC_EMB_DIM = 256\n",
    "ENC_HID_DIM = 512\n",
    "DEC_HID_DIM = 512\n",
    "ENC_DROPOUT = 0.5\n",
    "DEC_DROPOUT = 0.5\n",
    "\n",
    "NUM_ITERS = 80000\n",
    "BATCH_SIZE = 4\n",
    "PRINT_PER_ITER = 1\n",
    "VALID_PER_ITER = 2000\n",
    "MAX_SAMPLE_VALID = 10000\n",
    "\n",
    "MAX_LR = 0.0003    # lr will inscrease from 2e-5 to MAX_LR in iter 0 -> iter NUM_ITERS * PCT_START, then decrease to 2e-5\n",
    "PCT_START = 0.1\n",
    "\n",
    "ROOT_PATH = '/kaggle/working/'\n",
    "CHECKPOINT = os.path.join(ROOT_PATH,'checkpoints')\n",
    "EXPORT = os.path.join(ROOT_PATH,'weights')\n",
    "\n",
    "MAXLEN = 46\n",
    "NGRAM = 5\n",
    "alphabets = 'aAàÀảẢãÃáÁạẠăĂằẰẳẲẵẴắẮặẶâÂầẦẩẨẫẪấẤậẬbBcCdDđĐeEèÈẻẺẽẼéÉẹẸêÊềỀểỂễỄếẾệỆfFgGhHiIìÌỉỈĩĨíÍịỊjJkKlLmMnNoOòÒỏỎõÕóÓọỌôÔồỒổỔỗỖốỐộỘơƠờỜởỞỡỠớỚợỢpPqQrRsStTuUùÙủỦũŨúÚụỤưƯừỪửỬữỮứỨựỰvVwWxXyYỳỲỷỶỹỸýÝỵỴzZ0123456789!\"#$%&\\'()*+,-./:;<=>?@[\\]^_`{|}~ ]'\n",
    "PERCENT_NOISE = 0.3 # 0 - 2 word in 5-grams\n"
   ]
  },
  {
   "cell_type": "code",
   "execution_count": 4,
   "id": "6db30740",
   "metadata": {
    "execution": {
     "iopub.execute_input": "2024-07-02T02:37:40.037013Z",
     "iopub.status.busy": "2024-07-02T02:37:40.036685Z",
     "iopub.status.idle": "2024-07-02T02:37:40.041850Z",
     "shell.execute_reply": "2024-07-02T02:37:40.040972Z"
    },
    "papermill": {
     "duration": 0.017314,
     "end_time": "2024-07-02T02:37:40.043797",
     "exception": false,
     "start_time": "2024-07-02T02:37:40.026483",
     "status": "completed"
    },
    "tags": []
   },
   "outputs": [],
   "source": [
    "os.makedirs(ROOT_PATH, exist_ok=True)\n",
    "os.makedirs(CHECKPOINT, exist_ok=True)\n",
    "os.makedirs(EXPORT, exist_ok=True)"
   ]
  },
  {
   "cell_type": "code",
   "execution_count": 5,
   "id": "421c8396",
   "metadata": {
    "execution": {
     "iopub.execute_input": "2024-07-02T02:37:40.065401Z",
     "iopub.status.busy": "2024-07-02T02:37:40.065091Z",
     "iopub.status.idle": "2024-07-02T02:38:04.320761Z",
     "shell.execute_reply": "2024-07-02T02:38:04.319908Z"
    },
    "papermill": {
     "duration": 24.268047,
     "end_time": "2024-07-02T02:38:04.323072",
     "exception": false,
     "start_time": "2024-07-02T02:37:40.055025",
     "status": "completed"
    },
    "tags": []
   },
   "outputs": [
    {
     "data": {
      "application/vnd.jupyter.widget-view+json": {
       "model_id": "9a8e9e7cd435470f95dad671249edac2",
       "version_major": 2,
       "version_minor": 0
      },
      "text/plain": [
       "Downloading data:   0%|          | 0.00/373M [00:00<?, ?B/s]"
      ]
     },
     "metadata": {},
     "output_type": "display_data"
    },
    {
     "data": {
      "application/vnd.jupyter.widget-view+json": {
       "model_id": "42d7f994fdd5429b8099de30d85338eb",
       "version_major": 2,
       "version_minor": 0
      },
      "text/plain": [
       "Downloading data:   0%|          | 0.00/13.1M [00:00<?, ?B/s]"
      ]
     },
     "metadata": {},
     "output_type": "display_data"
    },
    {
     "data": {
      "application/vnd.jupyter.widget-view+json": {
       "model_id": "2cee7dd61d43464aa8362b6ea3fe4bd5",
       "version_major": 2,
       "version_minor": 0
      },
      "text/plain": [
       "Generating train split:   0%|          | 0/6579290 [00:00<?, ? examples/s]"
      ]
     },
     "metadata": {},
     "output_type": "display_data"
    },
    {
     "data": {
      "application/vnd.jupyter.widget-view+json": {
       "model_id": "a5253411c7604b0f9c46db2fb32b99c8",
       "version_major": 2,
       "version_minor": 0
      },
      "text/plain": [
       "Generating test split:   0%|          | 0/35999 [00:00<?, ? examples/s]"
      ]
     },
     "metadata": {},
     "output_type": "display_data"
    }
   ],
   "source": [
    "from datasets import load_dataset\n",
    "dataset = load_dataset(\"tiendoan/ngrams_vnc_dataset\")"
   ]
  },
  {
   "cell_type": "code",
   "execution_count": 6,
   "id": "f74db75f",
   "metadata": {
    "execution": {
     "iopub.execute_input": "2024-07-02T02:38:04.344187Z",
     "iopub.status.busy": "2024-07-02T02:38:04.343716Z",
     "iopub.status.idle": "2024-07-02T02:38:26.677333Z",
     "shell.execute_reply": "2024-07-02T02:38:26.676503Z"
    },
    "papermill": {
     "duration": 22.346645,
     "end_time": "2024-07-02T02:38:26.679747",
     "exception": false,
     "start_time": "2024-07-02T02:38:04.333102",
     "status": "completed"
    },
    "tags": []
   },
   "outputs": [],
   "source": [
    "val_size = int(len(dataset['train'])* 0.15)\n",
    "train_dataset = dataset['train'][:-val_size]\n",
    "val_dataset = dataset['train'][-val_size:]\n",
    "test_dataset = dataset['test']"
   ]
  },
  {
   "cell_type": "code",
   "execution_count": 7,
   "id": "162a5145",
   "metadata": {
    "execution": {
     "iopub.execute_input": "2024-07-02T02:38:26.703145Z",
     "iopub.status.busy": "2024-07-02T02:38:26.702772Z",
     "iopub.status.idle": "2024-07-02T02:38:26.712582Z",
     "shell.execute_reply": "2024-07-02T02:38:26.711635Z"
    },
    "papermill": {
     "duration": 0.023329,
     "end_time": "2024-07-02T02:38:26.714576",
     "exception": false,
     "start_time": "2024-07-02T02:38:26.691247",
     "status": "completed"
    },
    "tags": []
   },
   "outputs": [],
   "source": [
    "class Vocab():\n",
    "    def __init__(self, chars):\n",
    "        self.pad = 0\n",
    "        self.go = 1\n",
    "        self.eos = 2\n",
    "\n",
    "        self.chars = chars\n",
    "        self.c2i = {c: i + 3 for i, c in enumerate(chars)}\n",
    "        self.i2c = {i + 3: c for i, c in enumerate(chars)}\n",
    "\n",
    "        self.i2c[0] = '<pad>'\n",
    "        self.i2c[1] = '<sos>'\n",
    "        self.i2c[2] = '<eos>'\n",
    "\n",
    "    def encode(self, chars):\n",
    "        return [self.go] + [self.c2i[c] for c in chars] + [self.eos]\n",
    "\n",
    "    def decode(self, ids):\n",
    "        first = 1 if self.go in ids else 0\n",
    "        last = ids.index(self.eos) if self.eos in ids else None\n",
    "        return ''.join([self.i2c[i] for i in ids[first:last]])\n",
    "\n",
    "    def __len__(self):\n",
    "        return len(self.c2i) + 3\n",
    "\n",
    "    def batch_decode(self, arr):\n",
    "        return [self.decode(ids) for ids in arr]\n",
    "\n",
    "    def __str__(self):\n",
    "        return self.chars"
   ]
  },
  {
   "cell_type": "code",
   "execution_count": 8,
   "id": "dd81e76d",
   "metadata": {
    "execution": {
     "iopub.execute_input": "2024-07-02T02:38:26.736538Z",
     "iopub.status.busy": "2024-07-02T02:38:26.736197Z",
     "iopub.status.idle": "2024-07-02T02:38:26.746437Z",
     "shell.execute_reply": "2024-07-02T02:38:26.745507Z"
    },
    "papermill": {
     "duration": 0.023845,
     "end_time": "2024-07-02T02:38:26.748507",
     "exception": false,
     "start_time": "2024-07-02T02:38:26.724662",
     "status": "completed"
    },
    "tags": []
   },
   "outputs": [],
   "source": [
    "import torch\n",
    "import numpy as np\n",
    "\n",
    "class AutoCorrectDataset(torch.utils.data.Dataset):\n",
    "    def __init__(self, ngrams, noise_ngrams, vocab, maxlen):\n",
    "        self.ngrams = ngrams\n",
    "        self.noise_ngrams = noise_ngrams\n",
    "        self.vocab = vocab\n",
    "        self.maxlen = maxlen\n",
    "\n",
    "    def __getitem__(self, idx):\n",
    "        correct_sent = self.ngrams[idx]\n",
    "        noise_sent = self.noise_ngrams[idx]\n",
    "\n",
    "        correct_sent_idxs = self.vocab.encode(correct_sent)\n",
    "        noise_sent_idxs = self.vocab.encode(noise_sent)\n",
    "\n",
    "        src_len = len(noise_sent_idxs)\n",
    "        if self.maxlen - src_len < 0:\n",
    "            noise_sent_idxs = noise_sent_idxs[:self.maxlen]\n",
    "            src_len = len(noise_sent_idxs)\n",
    "            print(\"Over length in src\")\n",
    "        src = np.concatenate((\n",
    "            noise_sent_idxs,\n",
    "            np.zeros(self.maxlen - src_len, dtype=np.int32)))\n",
    "\n",
    "        tgt_len = len(correct_sent_idxs)\n",
    "        if self.maxlen - tgt_len < 0:\n",
    "            correct_sent_idxs = correct_sent_idxs[:self.maxlen]\n",
    "            tgt_len = len(correct_sent_idxs)\n",
    "            print(\"Over length in target\")\n",
    "        tgt = np.concatenate((\n",
    "            correct_sent_idxs,\n",
    "            np.zeros(self.maxlen - tgt_len, dtype=np.int32)))\n",
    "\n",
    "        return {\n",
    "            'src': torch.LongTensor(src),\n",
    "            'tgt': torch.LongTensor(tgt),\n",
    "        }\n",
    "\n",
    "    def __len__(self):\n",
    "        return len(self.ngrams)\n",
    "\n"
   ]
  },
  {
   "cell_type": "code",
   "execution_count": 9,
   "id": "530db032",
   "metadata": {
    "execution": {
     "iopub.execute_input": "2024-07-02T02:38:26.770222Z",
     "iopub.status.busy": "2024-07-02T02:38:26.769906Z",
     "iopub.status.idle": "2024-07-02T02:38:26.779270Z",
     "shell.execute_reply": "2024-07-02T02:38:26.778483Z"
    },
    "papermill": {
     "duration": 0.022339,
     "end_time": "2024-07-02T02:38:26.781178",
     "exception": false,
     "start_time": "2024-07-02T02:38:26.758839",
     "status": "completed"
    },
    "tags": []
   },
   "outputs": [],
   "source": [
    "import torch\n",
    "from torch import nn\n",
    "\n",
    "\n",
    "class LabelSmoothingLoss(nn.Module):\n",
    "    def __init__(self, classes, padding_idx, smoothing=0.0, dim=-1):\n",
    "        super(LabelSmoothingLoss, self).__init__()\n",
    "        self.confidence = 1.0 - smoothing\n",
    "        self.smoothing = smoothing\n",
    "        self.cls = classes\n",
    "        self.dim = dim\n",
    "        self.padding_idx = padding_idx\n",
    "\n",
    "    def forward(self, pred, target):\n",
    "        pred = pred.log_softmax(dim=self.dim)\n",
    "        with torch.no_grad():\n",
    "            # true_dist = pred.data.clone()\n",
    "            true_dist = torch.zeros_like(pred)\n",
    "            true_dist.fill_(self.smoothing / (self.cls - 2))\n",
    "            true_dist.scatter_(1, target.data.unsqueeze(1), self.confidence)\n",
    "            true_dist[:, self.padding_idx] = 0\n",
    "            mask = torch.nonzero(target.data == self.padding_idx, as_tuple=False)\n",
    "            if mask.dim() > 0:\n",
    "                true_dist.index_fill_(0, mask.squeeze(), 0.0)\n",
    "\n",
    "        return torch.mean(torch.sum(-true_dist * pred, dim=self.dim))\n"
   ]
  },
  {
   "cell_type": "code",
   "execution_count": 10,
   "id": "567d1a91",
   "metadata": {
    "execution": {
     "iopub.execute_input": "2024-07-02T02:38:26.802288Z",
     "iopub.status.busy": "2024-07-02T02:38:26.802005Z",
     "iopub.status.idle": "2024-07-02T02:38:27.391582Z",
     "shell.execute_reply": "2024-07-02T02:38:27.390371Z"
    },
    "papermill": {
     "duration": 0.602821,
     "end_time": "2024-07-02T02:38:27.393736",
     "exception": false,
     "start_time": "2024-07-02T02:38:26.790915",
     "status": "completed"
    },
    "tags": []
   },
   "outputs": [],
   "source": [
    "import torch\n",
    "import torch.nn as nn\n",
    "import torch.nn.functional as F\n",
    "\n",
    "\n",
    "class Encoder(nn.Module):\n",
    "    def __init__(self, input_dim, emb_dim, enc_hid_dim, dec_hid_dim, dropout):\n",
    "        super().__init__()\n",
    "\n",
    "        self.embedding = nn.Embedding(input_dim, emb_dim)\n",
    "        self.rnn = nn.GRU(emb_dim, enc_hid_dim, bidirectional=True)\n",
    "        self.fc = nn.Linear(enc_hid_dim * 2, dec_hid_dim)\n",
    "        self.dropout = nn.Dropout(dropout)\n",
    "\n",
    "    def forward(self, src):\n",
    "        \"\"\"\n",
    "        src: src_len x batch_size\n",
    "        outputs: src_len x batch_size x hid_dim\n",
    "        hidden: batch_size x hid_dim\n",
    "        \"\"\"\n",
    "\n",
    "        embedded = self.dropout(self.embedding(src))\n",
    "        outputs, hidden = self.rnn(embedded)\n",
    "\n",
    "        hidden = torch.tanh(self.fc(torch.cat((hidden[-2, :, :], hidden[-1, :, :]), dim=1)))\n",
    "\n",
    "        return outputs, hidden\n",
    "\n",
    "\n",
    "class Attention(nn.Module):\n",
    "\n",
    "    def __init__(self, enc_hid_dim, dec_hid_dim):\n",
    "        super().__init__()\n",
    "\n",
    "        self.attn = nn.Linear((enc_hid_dim * 2) + dec_hid_dim, dec_hid_dim)\n",
    "        self.v = nn.Linear(dec_hid_dim, 1, bias=False)\n",
    "\n",
    "    def forward(self, hidden, encoder_outputs):\n",
    "        \"\"\"\n",
    "        hidden: batch_size x hid_dim\n",
    "        encoder_outputs: src_len x batch_size x hid_dim,\n",
    "        outputs: batch_size x src_len\n",
    "        \"\"\"\n",
    "\n",
    "        batch_size = encoder_outputs.shape[1]\n",
    "        src_len = encoder_outputs.shape[0]\n",
    "\n",
    "        hidden = hidden.unsqueeze(1).repeat(1, src_len, 1)\n",
    "\n",
    "        encoder_outputs = encoder_outputs.permute(1, 0, 2)\n",
    "\n",
    "        energy = torch.tanh(self.attn(torch.cat((hidden, encoder_outputs), dim=2)))\n",
    "\n",
    "        attention = self.v(energy).squeeze(2)\n",
    "\n",
    "        return F.softmax(attention, dim=1)\n",
    "\n",
    "\n",
    "class Decoder(nn.Module):\n",
    "    def __init__(self, output_dim, emb_dim, enc_hid_dim, dec_hid_dim, dropout, attention):\n",
    "        super().__init__()\n",
    "\n",
    "        self.output_dim = output_dim\n",
    "        self.attention = attention\n",
    "\n",
    "        self.embedding = nn.Embedding(output_dim, emb_dim)\n",
    "        self.rnn = nn.GRU((enc_hid_dim * 2) + emb_dim, dec_hid_dim)\n",
    "        self.fc_out = nn.Linear((enc_hid_dim * 2) + dec_hid_dim + emb_dim, output_dim)\n",
    "        self.dropout = nn.Dropout(dropout)\n",
    "\n",
    "    def forward(self, input, hidden, encoder_outputs):\n",
    "        \"\"\"\n",
    "        inputs: batch_size\n",
    "        hidden: batch_size x hid_dim\n",
    "        encoder_outputs: src_len x batch_size x hid_dim\n",
    "        \"\"\"\n",
    "\n",
    "        input = input.unsqueeze(0)\n",
    "\n",
    "        embedded = self.dropout(self.embedding(input))\n",
    "\n",
    "        a = self.attention(hidden, encoder_outputs)\n",
    "\n",
    "        a = a.unsqueeze(1)\n",
    "\n",
    "        encoder_outputs = encoder_outputs.permute(1, 0, 2)\n",
    "\n",
    "        weighted = torch.bmm(a, encoder_outputs)\n",
    "\n",
    "        weighted = weighted.permute(1, 0, 2)\n",
    "\n",
    "        rnn_input = torch.cat((embedded, weighted), dim=2)\n",
    "\n",
    "        output, hidden = self.rnn(rnn_input, hidden.unsqueeze(0))\n",
    "\n",
    "        assert (output == hidden).all()\n",
    "\n",
    "        embedded = embedded.squeeze(0)\n",
    "        output = output.squeeze(0)\n",
    "        weighted = weighted.squeeze(0)\n",
    "\n",
    "        prediction = self.fc_out(torch.cat((output, weighted, embedded), dim=1))\n",
    "\n",
    "        return prediction, hidden.squeeze(0), a.squeeze(1)\n",
    "\n",
    "\n",
    "class Seq2Seq(nn.Module):\n",
    "    def __init__(self, input_dim, output_dim, encoder_embbeded, decoder_embedded, encoder_hidden, decoder_hidden,\n",
    "                 encoder_dropout=0.1, decoder_dropout=0.1):\n",
    "        super().__init__()\n",
    "\n",
    "        attn = Attention(encoder_hidden, decoder_hidden)\n",
    "\n",
    "        self.encoder = Encoder(input_dim, encoder_embbeded, encoder_hidden, decoder_hidden, encoder_dropout)\n",
    "        self.decoder = Decoder(output_dim, decoder_embedded, encoder_hidden, decoder_hidden, decoder_dropout, attn)\n",
    "\n",
    "    def forward_encoder(self, src):\n",
    "        \"\"\"\n",
    "        src: timestep x batch_size x channel\n",
    "        hidden: batch_size x hid_dim\n",
    "        encoder_outputs: src_len x batch_size x hid_dim\n",
    "        \"\"\"\n",
    "\n",
    "        encoder_outputs, hidden = self.encoder(src)\n",
    "\n",
    "        return (hidden, encoder_outputs)\n",
    "\n",
    "    def forward_decoder(self, tgt, memory):\n",
    "        \"\"\"\n",
    "        tgt: timestep x batch_size\n",
    "        hidden: batch_size x hid_dim\n",
    "        encouder: src_len x batch_size x hid_dim\n",
    "        output: batch_size x 1 x vocab_size\n",
    "        \"\"\"\n",
    "        tgt = tgt[-1]\n",
    "        hidden, encoder_outputs = memory\n",
    "        output, hidden, _ = self.decoder(tgt, hidden, encoder_outputs)\n",
    "        output = output.unsqueeze(1)\n",
    "\n",
    "        return output, (hidden, encoder_outputs)\n",
    "\n",
    "    def forward(self, src, trg, teacher_forcing_ratio=0.5):\n",
    "        \"\"\"\n",
    "        src: time_step x batch_size\n",
    "        trg: time_step x batch_size\n",
    "        outputs: batch_size x time_step x vocab_size\n",
    "        \"\"\"\n",
    "        batch_size = src.shape[1]\n",
    "        trg_len = trg.shape[0]\n",
    "        trg_vocab_size = self.decoder.output_dim\n",
    "        device = src.device\n",
    "\n",
    "        outputs = torch.zeros(trg_len, batch_size, trg_vocab_size).to(device)\n",
    "        encoder_outputs, hidden = self.encoder(src)\n",
    "\n",
    "        input = trg[0, :]\n",
    "        for t in range(1, trg_len):\n",
    "            output, hidden, _ = self.decoder(input, hidden, encoder_outputs)\n",
    "            outputs[t] = output\n",
    "            top1 = output.argmax(1)\n",
    "\n",
    "            # Teacher force\n",
    "            rnd_teacher = torch.rand(1).item()\n",
    "            teacher_force = rnd_teacher < teacher_forcing_ratio\n",
    "            input = trg[t, :] if teacher_force else top1\n",
    "      \n",
    "\n",
    "        outputs = outputs.transpose(0, 1).contiguous()\n",
    "        return outputs\n",
    "\n",
    "    def expand_memory(self, memory, beam_size):\n",
    "        hidden, encoder_outputs = memory\n",
    "        hidden = hidden.repeat(beam_size, 1)\n",
    "        encoder_outputs = encoder_outputs.repeat(1, beam_size, 1)\n",
    "\n",
    "        return (hidden, encoder_outputs)\n",
    "\n",
    "    def get_memory(self, memory, i):\n",
    "        hidden, encoder_outputs = memory\n",
    "        hidden = hidden[[i]]\n",
    "        encoder_outputs = encoder_outputs[:, [i], :]\n",
    "\n",
    "        return (hidden, encoder_outputs)"
   ]
  },
  {
   "cell_type": "code",
   "execution_count": 11,
   "id": "d854c083",
   "metadata": {
    "execution": {
     "iopub.execute_input": "2024-07-02T02:38:27.415362Z",
     "iopub.status.busy": "2024-07-02T02:38:27.415059Z",
     "iopub.status.idle": "2024-07-02T02:38:27.425934Z",
     "shell.execute_reply": "2024-07-02T02:38:27.425155Z"
    },
    "papermill": {
     "duration": 0.023629,
     "end_time": "2024-07-02T02:38:27.427849",
     "exception": false,
     "start_time": "2024-07-02T02:38:27.404220",
     "status": "completed"
    },
    "tags": []
   },
   "outputs": [],
   "source": [
    "from torch.nn.functional import log_softmax, softmax\n",
    "\n",
    "def translate(src, model, max_seq_length=128, sos_token=1, eos_token=2):\n",
    "    \"data: Bxsrc_len\"\n",
    "    model.eval()\n",
    "    device = src.device\n",
    "\n",
    "    with torch.no_grad():\n",
    "        # src = model.cnn(img)\n",
    "        src = src.transpose(1, 0)  # src_len x B\n",
    "        memory = model.forward_encoder(src)\n",
    "\n",
    "        translated_sentence = [[sos_token] * src.shape[1]]\n",
    "        char_probs = [[1] * src.shape[1]]\n",
    "\n",
    "        max_length = 0\n",
    "\n",
    "        while max_length <= max_seq_length and not all(np.any(np.asarray(translated_sentence).T == eos_token, axis=1)):\n",
    "            tgt_inp = torch.LongTensor(translated_sentence).to(device)\n",
    "\n",
    "            #            output = model(img, tgt_inp, tgt_key_padding_mask=None)\n",
    "            #            output = model.transformer(src, tgt_inp, tgt_key_padding_mask=None)\n",
    "            output, memory = model.forward_decoder(tgt_inp, memory)\n",
    "            output = softmax(output, dim=-1)\n",
    "            output = output.to('cpu')\n",
    "\n",
    "            values, indices = torch.topk(output, 5)\n",
    "\n",
    "            indices = indices[:, -1, 0]\n",
    "            indices = indices.tolist()\n",
    "\n",
    "            values = values[:, -1, 0]\n",
    "            values = values.tolist()\n",
    "            char_probs.append(values)\n",
    "\n",
    "            translated_sentence.append(indices)\n",
    "            max_length += 1\n",
    "\n",
    "            del output\n",
    "\n",
    "        translated_sentence = np.asarray(translated_sentence).T\n",
    "\n",
    "        char_probs = np.asarray(char_probs).T\n",
    "        char_probs = np.multiply(char_probs, translated_sentence > 3)\n",
    "        char_probs = np.sum(char_probs, axis=-1) / (char_probs > 0).sum(-1)\n",
    "\n",
    "    return translated_sentence, char_probs"
   ]
  },
  {
   "cell_type": "code",
   "execution_count": 12,
   "id": "194fbafd",
   "metadata": {
    "execution": {
     "iopub.execute_input": "2024-07-02T02:38:27.449298Z",
     "iopub.status.busy": "2024-07-02T02:38:27.449003Z",
     "iopub.status.idle": "2024-07-02T02:38:27.489458Z",
     "shell.execute_reply": "2024-07-02T02:38:27.488742Z"
    },
    "papermill": {
     "duration": 0.053661,
     "end_time": "2024-07-02T02:38:27.491585",
     "exception": false,
     "start_time": "2024-07-02T02:38:27.437924",
     "status": "completed"
    },
    "tags": []
   },
   "outputs": [],
   "source": [
    "from torch.optim import Adam, SGD, AdamW\n",
    "import torch\n",
    "from torch.optim.lr_scheduler import OneCycleLR\n",
    "import numpy as np\n",
    "import os\n",
    "import time\n",
    "from torch.utils.data import DataLoader\n",
    "from tqdm import tqdm\n",
    "\n",
    "class Trainer():\n",
    "    def __init__(self, alphabets_, train_dataset,val_dataset):\n",
    "\n",
    "        self.vocab = Vocab(alphabets_)\n",
    "        self.train_dataset = train_dataset\n",
    "        self.val_dataset = val_dataset\n",
    "        print(\"Total training samples: \", len(self.train_dataset['input']))\n",
    "        print(\"Total valid samples: \", len(self.val_dataset['input']))\n",
    "\n",
    "        INPUT_DIM = self.vocab.__len__()\n",
    "        OUTPUT_DIM = self.vocab.__len__()\n",
    "\n",
    "        self.device = DEVICE\n",
    "        self.num_iters = NUM_ITERS\n",
    "\n",
    "        self.batch_size = BATCH_SIZE\n",
    "        self.print_every = PRINT_PER_ITER\n",
    "        self.valid_every = VALID_PER_ITER\n",
    "\n",
    "        self.checkpoint = os.path.join(CHECKPOINT,'checkpoint.pth')\n",
    "        self.export_weights = os.path.join(EXPORT,'model.pth')\n",
    "        self.metrics = MAX_SAMPLE_VALID\n",
    "\n",
    "\n",
    "        self.iter = 0\n",
    "\n",
    "        self.model = Seq2Seq(input_dim=INPUT_DIM, output_dim=OUTPUT_DIM, encoder_embbeded=ENC_EMB_DIM,\n",
    "                             decoder_embedded=DEC_EMB_DIM,\n",
    "                             encoder_hidden=ENC_HID_DIM, decoder_hidden=DEC_HID_DIM, encoder_dropout=ENC_DROPOUT,\n",
    "                             decoder_dropout=DEC_DROPOUT)\n",
    "\n",
    "        self.optimizer = AdamW(self.model.parameters(), betas=(0.9, 0.98), eps=1e-09)\n",
    "        self.scheduler = OneCycleLR(self.optimizer, total_steps=self.num_iters, pct_start=PCT_START, max_lr=MAX_LR)\n",
    "\n",
    "        self.criterion = LabelSmoothingLoss(len(self.vocab), padding_idx=self.vocab.pad, smoothing=0.1)\n",
    "\n",
    "        self.train_gen = self.data_gen(self.train_dataset, self.vocab, is_train=True)\n",
    "        self.valid_gen = self.data_gen(self.val_dataset, self.vocab, is_train=False)\n",
    "\n",
    "        self.train_losses = []\n",
    "\n",
    "        # to device\n",
    "        self.model.to(self.device)\n",
    "        self.criterion.to(self.device)\n",
    "\n",
    "    def data_gen(self, dataset, vocab, is_train=True):\n",
    "        dataset = AutoCorrectDataset(ngrams = dataset['output'],noise_ngrams=dataset['input'], vocab=vocab, maxlen=MAXLEN)\n",
    "\n",
    "        shuffle = bool(is_train)\n",
    "        return DataLoader(\n",
    "            dataset, batch_size=BATCH_SIZE, shuffle=shuffle, drop_last=False\n",
    "        )\n",
    "\n",
    "    def step(self, batch):\n",
    "        self.model.train()\n",
    "\n",
    "        batch = self.batch_to_device(batch)\n",
    "        src, tgt = batch['src'], batch['tgt']\n",
    "        src, tgt = src.transpose(1, 0), tgt.transpose(1, 0)  # batch x src_len -> src_len x batch\n",
    "\n",
    "        outputs = self.model(src, tgt)  # src : src_len x B, outpus : B x tgt_len x vocab\n",
    "\n",
    "        #        loss = self.criterion(rearrange(outputs, 'b t v -> (b t) v'), rearrange(tgt_output, 'b o -> (b o)'))\n",
    "        outputs = outputs.view(-1, outputs.size(2))  # flatten(0, 1)\n",
    "\n",
    "        tgt_output = tgt.transpose(0, 1).reshape(-1)  # flatten()   # tgt: tgt_len xB , need convert to B x tgt_len\n",
    "\n",
    "        loss = self.criterion(outputs, tgt_output)\n",
    "\n",
    "        self.optimizer.zero_grad()\n",
    "\n",
    "        loss.backward()\n",
    "\n",
    "        torch.nn.utils.clip_grad_norm_(self.model.parameters(), 1)\n",
    "\n",
    "        self.optimizer.step()\n",
    "        self.scheduler.step()\n",
    "\n",
    "        return loss.item()\n",
    "\n",
    "    def train(self):\n",
    "        print(\"Begin training from iter: \", self.iter)\n",
    "        total_loss = 0\n",
    "\n",
    "        total_loader_time = 0\n",
    "        total_gpu_time = 0\n",
    "        best_cer = -1\n",
    "\n",
    "        data_iter = iter(self.train_gen)\n",
    "        for _ in range(self.num_iters):\n",
    "            self.iter += 1\n",
    "\n",
    "            start = time.time()\n",
    "\n",
    "            try:\n",
    "                batch = next(data_iter)\n",
    "            except StopIteration:\n",
    "                data_iter = iter(self.train_gen)\n",
    "                batch = next(data_iter)\n",
    "\n",
    "            total_loader_time += time.time() - start\n",
    "\n",
    "            start = time.time()\n",
    "            loss = self.step(batch)\n",
    "            total_gpu_time += time.time() - start\n",
    "\n",
    "            total_loss += loss\n",
    "            self.train_losses.append((self.iter, loss))\n",
    "\n",
    "            if self.iter % self.print_every == 0:\n",
    "                info = 'iter: {:06d} - train loss: {:.3f} - lr: {:.2e} - load time: {:.2f} - gpu time: {:.2f}'.format(\n",
    "                    self.iter,\n",
    "                    total_loss / self.print_every, self.optimizer.param_groups[0]['lr'],\n",
    "                    total_loader_time, total_gpu_time)\n",
    "\n",
    "                total_loss = 0\n",
    "                total_loader_time = 0\n",
    "                total_gpu_time = 0\n",
    "                print(info)\n",
    "\n",
    "\n",
    "            if self.iter % self.valid_every == 0:\n",
    "                val_loss, preds, actuals, inp_sents = self.validate()\n",
    "                cer, wer = self.precision(self.metrics)\n",
    "\n",
    "                info = 'iter: {:06d} - valid loss: {:.3f} - cer: {:.3f} '.format(\n",
    "                    self.iter, val_loss, cer)\n",
    "                print(info)\n",
    "                print(\"--- Sentence predict ---\")\n",
    "                for pred, inp, label in zip(preds, inp_sents, actuals):\n",
    "                    infor_predict = f'Pred: {pred} - Inp: {inp} - Label: {label}'\n",
    "                    print(infor_predict)\n",
    "\n",
    "                if cer > best_cer:\n",
    "                    self.save_weights(self.export_weights)\n",
    "                    best_cer = cer\n",
    "                self.save_checkpoint(self.checkpoint)\n",
    "\n",
    "    def validate(self):\n",
    "        self.model.eval()\n",
    "\n",
    "        total_loss = []\n",
    "        max_step = self.metrics / self.batch_size\n",
    "        with torch.no_grad():\n",
    "            for step, batch in enumerate(self.valid_gen):\n",
    "                batch = self.batch_to_device(batch)\n",
    "                src, tgt = batch['src'], batch['tgt']\n",
    "                src, tgt = src.transpose(1, 0), tgt.transpose(1, 0)\n",
    "\n",
    "                outputs = self.model(src, tgt, 0)  # turn off teaching force\n",
    "\n",
    "                outputs = outputs.flatten(0, 1)\n",
    "                tgt_output = tgt.flatten()\n",
    "                loss = self.criterion(outputs, tgt_output)\n",
    "\n",
    "                total_loss.append(loss.item())\n",
    "\n",
    "                preds, actuals, inp_sents, probs = self.predict(5)\n",
    "\n",
    "                del outputs\n",
    "                del loss\n",
    "                if step > max_step:\n",
    "                    break\n",
    "\n",
    "        total_loss = np.mean(total_loss)\n",
    "        self.model.train()\n",
    "\n",
    "        return total_loss, preds[:3], actuals[:3], inp_sents[:3]\n",
    "\n",
    "    def predict(self, sample=None):\n",
    "        pred_sents = []\n",
    "        actual_sents = []\n",
    "        inp_sents = []\n",
    "\n",
    "        for batch in self.valid_gen:\n",
    "            batch = self.batch_to_device(batch)\n",
    "\n",
    "            translated_sentence, prob = translate(batch['src'], self.model)\n",
    "            \n",
    "\n",
    "            pred_sent = self.vocab.batch_decode(translated_sentence.tolist())\n",
    "            actual_sent = self.vocab.batch_decode(batch['tgt'].tolist())\n",
    "            inp_sent = self.vocab.batch_decode(batch['src'].tolist())\n",
    "\n",
    "            pred_sents.extend(pred_sent)\n",
    "            actual_sents.extend(actual_sent)\n",
    "            inp_sents.extend(inp_sent)\n",
    "\n",
    "            if sample is not None and len(pred_sents) > sample:\n",
    "                break\n",
    "\n",
    "        return pred_sents, actual_sents, inp_sents, prob\n",
    "\n",
    "    def precision(self, sample=None):\n",
    "\n",
    "        pred_sents, actual_sents, _, _ = self.predict(sample=sample)\n",
    "        cer = char_error_rate(preds=pred_sents, target=actual_sents)\n",
    "        wer = word_error_rate(preds=pred_sents, target=actual_sents)\n",
    "        return cer, wer\n",
    "    def load_checkpoint(self, filename):\n",
    "        checkpoint = torch.load(filename)\n",
    "\n",
    "        self.optimizer.load_state_dict(checkpoint['optimizer'])\n",
    "        self.scheduler.load_state_dict(checkpoint['scheduler'])\n",
    "        self.model.load_state_dict(checkpoint['state_dict'])\n",
    "        self.iter = checkpoint['iter']\n",
    "\n",
    "        self.train_losses = checkpoint['train_losses']\n",
    "\n",
    "    def save_checkpoint(self, filename):\n",
    "        state = {'iter': self.iter, 'state_dict': self.model.state_dict(),\n",
    "                 'optimizer': self.optimizer.state_dict(), 'train_losses': self.train_losses,\n",
    "                 'scheduler': self.scheduler.state_dict()}\n",
    "\n",
    "        path, _ = os.path.split(filename)\n",
    "        os.makedirs(path, exist_ok=True)\n",
    "\n",
    "        torch.save(state, filename)\n",
    "\n",
    "    def batch_to_device(self, batch):\n",
    "\n",
    "        src = batch['src'].to(self.device, non_blocking=True)\n",
    "        tgt = batch['tgt'].to(self.device, non_blocking=True)\n",
    "\n",
    "        batch = {\n",
    "            'src': src,\n",
    "            'tgt': tgt\n",
    "        }\n",
    "\n",
    "        return batch\n",
    "    def load_weights(self, filename):\n",
    "        state_dict = torch.load(filename, map_location=torch.device(self.device))\n",
    "\n",
    "        for name, param in self.model.named_parameters():\n",
    "            if name not in state_dict:\n",
    "                print(f'{name} not found')\n",
    "            elif state_dict[name].shape != param.shape:\n",
    "                print(\n",
    "                    f'{name} missmatching shape, required {param.shape} but found {state_dict[name].shape}'\n",
    "                )\n",
    "                del state_dict[name]\n",
    "\n",
    "        self.model.load_state_dict(state_dict, strict=False)\n",
    "\n",
    "    def save_weights(self, filename):\n",
    "        path, _ = os.path.split(filename)\n",
    "        os.makedirs(path, exist_ok=True)\n",
    "\n",
    "        torch.save(self.model.state_dict(), filename)   "
   ]
  },
  {
   "cell_type": "code",
   "execution_count": 13,
   "id": "4d550dd9",
   "metadata": {
    "execution": {
     "iopub.execute_input": "2024-07-02T02:38:27.512783Z",
     "iopub.status.busy": "2024-07-02T02:38:27.512428Z",
     "iopub.status.idle": "2024-07-02T02:38:28.782069Z",
     "shell.execute_reply": "2024-07-02T02:38:28.781136Z"
    },
    "papermill": {
     "duration": 1.283291,
     "end_time": "2024-07-02T02:38:28.784763",
     "exception": false,
     "start_time": "2024-07-02T02:38:27.501472",
     "status": "completed"
    },
    "tags": []
   },
   "outputs": [],
   "source": [
    "checkpoint = torch.load('/kaggle/input/checkpoint-new-data/checkpoints/checkpoint.pth')"
   ]
  },
  {
   "cell_type": "code",
   "execution_count": 14,
   "id": "5306a769",
   "metadata": {
    "execution": {
     "iopub.execute_input": "2024-07-02T02:38:28.809605Z",
     "iopub.status.busy": "2024-07-02T02:38:28.809248Z",
     "iopub.status.idle": "2024-07-02T02:38:28.813605Z",
     "shell.execute_reply": "2024-07-02T02:38:28.812694Z"
    },
    "papermill": {
     "duration": 0.019372,
     "end_time": "2024-07-02T02:38:28.815827",
     "exception": false,
     "start_time": "2024-07-02T02:38:28.796455",
     "status": "completed"
    },
    "tags": []
   },
   "outputs": [],
   "source": [
    "model_weights = checkpoint['state_dict']"
   ]
  },
  {
   "cell_type": "code",
   "execution_count": 15,
   "id": "0ccbe362",
   "metadata": {
    "execution": {
     "iopub.execute_input": "2024-07-02T02:38:28.839904Z",
     "iopub.status.busy": "2024-07-02T02:38:28.839600Z",
     "iopub.status.idle": "2024-07-02T02:38:30.608470Z",
     "shell.execute_reply": "2024-07-02T02:38:30.607645Z"
    },
    "papermill": {
     "duration": 1.783197,
     "end_time": "2024-07-02T02:38:30.611027",
     "exception": false,
     "start_time": "2024-07-02T02:38:28.827830",
     "status": "completed"
    },
    "tags": []
   },
   "outputs": [],
   "source": [
    "import re\n",
    "import nltk\n",
    "from collections import Counter\n",
    "import torch\n",
    "\n",
    "class Predictor:\n",
    "    def __init__(self, weight_path, have_att=True):\n",
    "        ENC_EMB_DIM = 256\n",
    "        DEC_EMB_DIM = 256\n",
    "        ENC_HID_DIM = 512\n",
    "        DEC_HID_DIM = 512\n",
    "        ENC_DROPOUT = 0.5\n",
    "        DEC_DROPOUT = 0.5\n",
    "        MAX_LEN = 46\n",
    "        self.maxlen = MAX_LEN\n",
    "        self.vocab = Vocab(alphabets)\n",
    "\n",
    "        INPUT_DIM = self.vocab.__len__()\n",
    "        OUTPUT_DIM = self.vocab.__len__()\n",
    "\n",
    "        self.model = Seq2Seq(input_dim=INPUT_DIM, output_dim=OUTPUT_DIM, encoder_embbeded=ENC_EMB_DIM,\n",
    "                              decoder_embedded=DEC_EMB_DIM,\n",
    "                              encoder_hidden=ENC_HID_DIM, decoder_hidden=DEC_HID_DIM, encoder_dropout=ENC_DROPOUT,\n",
    "                              decoder_dropout=DEC_DROPOUT)\n",
    "\n",
    "\n",
    "        self.load_weights(weight_path)\n",
    "        if torch.cuda.is_available():\n",
    "            self.device = \"cuda\"\n",
    "            self.model.to('cuda')\n",
    "        else:\n",
    "            self.device = \"cpu\"\n",
    "\n",
    "        print(\"Device: \", self.device)\n",
    "        print(\"Loaded model\")\n",
    "\n",
    "    def predict_ngram(self, ngram, beamsearch=False):\n",
    "        '''\n",
    "          Denoise for ngram\n",
    "          ngram: text\n",
    "        '''\n",
    "        src = self.preprocessing(ngram)\n",
    "        src = src.unsqueeze(0)\n",
    "        src = src.to(self.device)\n",
    "\n",
    "        translated_sentence, prob = translate(src, self.model)\n",
    "        return self.vocab.decode(translated_sentence.tolist()[0])\n",
    "\n",
    "    def spelling_correct(self, sentence):\n",
    "        # Remove characters that out of vocab\n",
    "        sentence = re.sub(\n",
    "            r'[^aAàÀảẢãÃáÁạẠăĂằẰẳẲẵẴắẮặẶâÂầẦẩẨẫẪấẤậẬbBcCdDđĐeEèÈẻẺẽẼéÉẹẸêÊềỀểỂễỄếẾệỆfFgGhHiIìÌỉỈĩĨíÍịỊjJkKlLmMnNoOòÒỏỎõÕóÓọỌôÔồỒổỔỗỖốỐộỘơƠờỜởỞỡỠớỚợỢpPqQrRsStTuUùÙủỦũŨúÚụỤưƯừỪửỬữỮứỨựỰvVwWxXyYỳỲỷỶỹỸýÝỵỴzZ0123456789!\"#$%&''()*+,-./:;<=>?@[\\]^_`{|}~ ]',\n",
    "            \"\", sentence)\n",
    "\n",
    "        # Extract pharses\n",
    "        phrases, phrases_all, index_sent_dict = self.extract_phrases(sentence)\n",
    "\n",
    "        correct_phrases = []\n",
    "        for phrase in phrases:\n",
    "            ngrams = list(self.gen_ngrams(phrase, n=NGRAM))\n",
    "            correct_ngram_str_array = []\n",
    "            for ngram_list in ngrams:\n",
    "                ngram_str = \" \".join(ngram_list)\n",
    "\n",
    "                correct_ngram_str = self.predict_ngram(ngram_str)\n",
    "                correct_ngram_str_array.append(correct_ngram_str)\n",
    "            correct_phrase = self.reconstruct_from_ngrams(correct_ngram_str_array)\n",
    "            correct_phrases.append(correct_phrase)\n",
    "        return self.decode_phrases(correct_phrases, phrases_all, index_sent_dict)\n",
    "\n",
    "    def reconstruct_from_ngrams(self, predicted_ngrams):\n",
    "        '''\n",
    "        predicted_ngrams: list of ngram_str\n",
    "        '''\n",
    "\n",
    "        candidates = [Counter() for _ in range(len(predicted_ngrams) + NGRAM + 46)]\n",
    "        for nid, ngram in (enumerate(predicted_ngrams)):\n",
    "            tokens = re.split(r' +', ngram)\n",
    "            for wid, word in enumerate(tokens):\n",
    "                candidates[nid + wid].update([word])\n",
    "        return ' '.join(c.most_common(1)[0][0] for c in candidates if len(c) != 0)\n",
    "\n",
    "    def extract_phrases(self, text):\n",
    "        pattern = r'\\w[\\w ]*|\\s\\W+|\\W+'\n",
    "\n",
    "        phrases_all = re.findall(pattern, text)\n",
    "\n",
    "        index_sent_dict = {}\n",
    "        phrases_str = []\n",
    "        for ind, phrase in enumerate(phrases_all):\n",
    "            if not re.match(r'[!\"#$%&''()*+,-./:;<=>?@[\\]^_`{|}~]', phrase.strip()):\n",
    "                phrases_str.append(phrase.strip())\n",
    "                index_sent_dict[ind] = phrase\n",
    "\n",
    "        return phrases_str, phrases_all, index_sent_dict\n",
    "\n",
    "    def decode_phrases(self, correct_phrases, phrases, index_sent_dict):\n",
    "        # correct_phrases = ['lê văn', 'Hoàng', 'Hehe', 'g']\n",
    "        sentence_correct = phrases.copy()\n",
    "        for i, idx_sent in enumerate(index_sent_dict.keys()):\n",
    "            sentence_correct[idx_sent] = correct_phrases[i]\n",
    "\n",
    "        # print(sentence_correct)\n",
    "        return \"\".join(sentence_correct)\n",
    "\n",
    "    def preprocessing(self, sentence):\n",
    "\n",
    "        # Encode characters\n",
    "        noise_sent_idxs = self.vocab.encode(sentence)\n",
    "\n",
    "        # Padding to MAXLEN\n",
    "        src_len = len(noise_sent_idxs)\n",
    "        if self.maxlen - src_len < 0:\n",
    "            noise_sent_idxs = noise_sent_idxs[:self.maxlen]\n",
    "            src_len = len(noise_sent_idxs)\n",
    "            print(\"Over length in src\")\n",
    "        src = np.concatenate((\n",
    "            noise_sent_idxs,\n",
    "            np.zeros(self.maxlen - src_len, dtype=np.int32)))\n",
    "\n",
    "        return torch.LongTensor(src)\n",
    "\n",
    "    def gen_ngrams(self, sent, n=5):\n",
    "        tokens = sent.split()\n",
    "\n",
    "        return [tokens] if len(tokens) < n else nltk.ngrams(sent.split(), n)\n",
    "\n",
    "    def load_weights(self, filename):\n",
    "        state_dict = torch.load(filename, map_location=torch.device('cpu'))\n",
    "\n",
    "        for name, param in self.model.named_parameters():\n",
    "            if name not in state_dict:\n",
    "                print(f'{name} not found')\n",
    "            elif state_dict[name].shape != param.shape:\n",
    "                print(\n",
    "                    f'{name} missmatching shape, required {param.shape} but found {state_dict[name].shape}'\n",
    "                )\n",
    "                del state_dict[name]\n",
    "\n",
    "        self.model.load_state_dict(state_dict, strict=False)\n",
    "\n"
   ]
  },
  {
   "cell_type": "code",
   "execution_count": 16,
   "id": "6096c889",
   "metadata": {
    "execution": {
     "iopub.execute_input": "2024-07-02T02:38:30.633190Z",
     "iopub.status.busy": "2024-07-02T02:38:30.632881Z",
     "iopub.status.idle": "2024-07-02T02:38:30.787943Z",
     "shell.execute_reply": "2024-07-02T02:38:30.787110Z"
    },
    "papermill": {
     "duration": 0.168507,
     "end_time": "2024-07-02T02:38:30.790428",
     "exception": false,
     "start_time": "2024-07-02T02:38:30.621921",
     "status": "completed"
    },
    "tags": []
   },
   "outputs": [],
   "source": [
    "ckp = torch.load('/kaggle/input/checkpoint-new-data/checkpoints/checkpoint.pth')"
   ]
  },
  {
   "cell_type": "code",
   "execution_count": 17,
   "id": "0b716851",
   "metadata": {
    "execution": {
     "iopub.execute_input": "2024-07-02T02:38:30.812808Z",
     "iopub.status.busy": "2024-07-02T02:38:30.812462Z",
     "iopub.status.idle": "2024-07-02T02:38:30.816654Z",
     "shell.execute_reply": "2024-07-02T02:38:30.815784Z"
    },
    "papermill": {
     "duration": 0.01756,
     "end_time": "2024-07-02T02:38:30.818510",
     "exception": false,
     "start_time": "2024-07-02T02:38:30.800950",
     "status": "completed"
    },
    "tags": []
   },
   "outputs": [],
   "source": [
    "weight = ckp['state_dict']"
   ]
  },
  {
   "cell_type": "code",
   "execution_count": 18,
   "id": "81ee4e4b",
   "metadata": {
    "execution": {
     "iopub.execute_input": "2024-07-02T02:38:30.839430Z",
     "iopub.status.busy": "2024-07-02T02:38:30.839135Z",
     "iopub.status.idle": "2024-07-02T02:38:30.895489Z",
     "shell.execute_reply": "2024-07-02T02:38:30.894596Z"
    },
    "papermill": {
     "duration": 0.069121,
     "end_time": "2024-07-02T02:38:30.897529",
     "exception": false,
     "start_time": "2024-07-02T02:38:30.828408",
     "status": "completed"
    },
    "tags": []
   },
   "outputs": [],
   "source": [
    "torch.save(weight,'/kaggle/working/weight.pt')"
   ]
  },
  {
   "cell_type": "code",
   "execution_count": 19,
   "id": "b3b22990",
   "metadata": {
    "execution": {
     "iopub.execute_input": "2024-07-02T02:38:30.919436Z",
     "iopub.status.busy": "2024-07-02T02:38:30.919092Z",
     "iopub.status.idle": "2024-07-02T02:38:31.134638Z",
     "shell.execute_reply": "2024-07-02T02:38:31.133342Z"
    },
    "papermill": {
     "duration": 0.228958,
     "end_time": "2024-07-02T02:38:31.136952",
     "exception": false,
     "start_time": "2024-07-02T02:38:30.907994",
     "status": "completed"
    },
    "tags": []
   },
   "outputs": [
    {
     "name": "stdout",
     "output_type": "stream",
     "text": [
      "Device:  cuda\n",
      "Loaded model\n"
     ]
    }
   ],
   "source": [
    "predictor = Predictor(weight_path='/kaggle/working/weight.pt')"
   ]
  },
  {
   "cell_type": "code",
   "execution_count": 20,
   "id": "18b03abf",
   "metadata": {
    "execution": {
     "iopub.execute_input": "2024-07-02T02:38:31.158523Z",
     "iopub.status.busy": "2024-07-02T02:38:31.158188Z",
     "iopub.status.idle": "2024-07-02T02:38:31.164190Z",
     "shell.execute_reply": "2024-07-02T02:38:31.163371Z"
    },
    "papermill": {
     "duration": 0.019066,
     "end_time": "2024-07-02T02:38:31.166079",
     "exception": false,
     "start_time": "2024-07-02T02:38:31.147013",
     "status": "completed"
    },
    "tags": []
   },
   "outputs": [],
   "source": [
    "def predict_test(test_dataset):\n",
    "    pred_sents = []\n",
    "    actual_sents = []\n",
    "    results = []\n",
    "    for i in tqdm(range(len(test_dataset))):\n",
    "        input_sentence = test_dataset['input'][i]\n",
    "        actual_sent = test_dataset['output'][i]\n",
    "        predict_sentence = predictor.spelling_correct(input_sentence)\n",
    "        pred_sents.append(predict_sentence)\n",
    "        actual_sents.append(actual_sent)\n",
    "        results.append((predict_sentence,actual_sent))\n",
    "    return pred_sents, actual_sents, results"
   ]
  },
  {
   "cell_type": "code",
   "execution_count": 21,
   "id": "01b7688d",
   "metadata": {
    "execution": {
     "iopub.execute_input": "2024-07-02T02:38:31.188249Z",
     "iopub.status.busy": "2024-07-02T02:38:31.187461Z",
     "iopub.status.idle": "2024-07-02T02:38:31.285253Z",
     "shell.execute_reply": "2024-07-02T02:38:31.284330Z"
    },
    "papermill": {
     "duration": 0.110695,
     "end_time": "2024-07-02T02:38:31.287161",
     "exception": false,
     "start_time": "2024-07-02T02:38:31.176466",
     "status": "completed"
    },
    "tags": []
   },
   "outputs": [
    {
     "data": {
      "text/plain": [
       "'Mùa bóng này , cscCLBnước Anh đồng loạt di theo phongtrào tang giá vé vào sân , đề bù đắp chi phí khổng lồ cua nhữngphi vj chuyển nhượng và việc trả lương cầu thủ .'"
      ]
     },
     "execution_count": 21,
     "metadata": {},
     "output_type": "execute_result"
    }
   ],
   "source": [
    "input_sentence = test_dataset['input'][14]\n",
    "input_sentence"
   ]
  },
  {
   "cell_type": "code",
   "execution_count": 22,
   "id": "6e874f1b",
   "metadata": {
    "execution": {
     "iopub.execute_input": "2024-07-02T02:38:31.310339Z",
     "iopub.status.busy": "2024-07-02T02:38:31.309437Z",
     "iopub.status.idle": "2024-07-02T02:38:31.404134Z",
     "shell.execute_reply": "2024-07-02T02:38:31.403264Z"
    },
    "papermill": {
     "duration": 0.108656,
     "end_time": "2024-07-02T02:38:31.406264",
     "exception": false,
     "start_time": "2024-07-02T02:38:31.297608",
     "status": "completed"
    },
    "tags": []
   },
   "outputs": [
    {
     "data": {
      "text/plain": [
       "'Mùa bóng này, các CLB nước Anh đồng loạt đi theo phong trào tăng giá vé vào sân, đề bù đắp chi phí khổng lồ của những phi vụ chuyển nhượng và việc trả lương cầu thủ.'"
      ]
     },
     "execution_count": 22,
     "metadata": {},
     "output_type": "execute_result"
    }
   ],
   "source": [
    "actual_sent = test_dataset['output'][14]\n",
    "actual_sent"
   ]
  },
  {
   "cell_type": "code",
   "execution_count": 23,
   "id": "8f465f86",
   "metadata": {
    "execution": {
     "iopub.execute_input": "2024-07-02T02:38:31.428118Z",
     "iopub.status.busy": "2024-07-02T02:38:31.427808Z",
     "iopub.status.idle": "2024-07-02T02:38:32.668679Z",
     "shell.execute_reply": "2024-07-02T02:38:32.667832Z"
    },
    "papermill": {
     "duration": 1.254098,
     "end_time": "2024-07-02T02:38:32.671092",
     "exception": false,
     "start_time": "2024-07-02T02:38:31.416994",
     "status": "completed"
    },
    "tags": []
   },
   "outputs": [],
   "source": [
    "predict_sentence = predictor.spelling_correct(input_sentence)"
   ]
  },
  {
   "cell_type": "code",
   "execution_count": 24,
   "id": "3a078b40",
   "metadata": {
    "execution": {
     "iopub.execute_input": "2024-07-02T02:38:32.694649Z",
     "iopub.status.busy": "2024-07-02T02:38:32.694324Z",
     "iopub.status.idle": "2024-07-02T02:38:32.700033Z",
     "shell.execute_reply": "2024-07-02T02:38:32.699196Z"
    },
    "papermill": {
     "duration": 0.018845,
     "end_time": "2024-07-02T02:38:32.701930",
     "exception": false,
     "start_time": "2024-07-02T02:38:32.683085",
     "status": "completed"
    },
    "tags": []
   },
   "outputs": [
    {
     "data": {
      "text/plain": [
       "'Mùa bóng này, các CLB đồng loạt đi theo phong trào tăng giá vé vào, đề bù đắp chi phí khổng lồ của những phi vị chuyển và việc trả lương cầu thủ.'"
      ]
     },
     "execution_count": 24,
     "metadata": {},
     "output_type": "execute_result"
    }
   ],
   "source": [
    "predict_sentence"
   ]
  },
  {
   "cell_type": "code",
   "execution_count": 25,
   "id": "d5563225",
   "metadata": {
    "execution": {
     "iopub.execute_input": "2024-07-02T02:38:32.723310Z",
     "iopub.status.busy": "2024-07-02T02:38:32.723057Z",
     "iopub.status.idle": "2024-07-02T08:50:48.654334Z",
     "shell.execute_reply": "2024-07-02T08:50:48.652923Z"
    },
    "papermill": {
     "duration": 22335.94556,
     "end_time": "2024-07-02T08:50:48.657572",
     "exception": false,
     "start_time": "2024-07-02T02:38:32.712012",
     "status": "completed"
    },
    "tags": []
   },
   "outputs": [
    {
     "name": "stderr",
     "output_type": "stream",
     "text": [
      "  1%|          | 298/35999 [03:06<6:50:19,  1.45it/s]"
     ]
    },
    {
     "name": "stdout",
     "output_type": "stream",
     "text": [
      "Over length in src\n"
     ]
    },
    {
     "name": "stderr",
     "output_type": "stream",
     "text": [
      " 15%|█▌        | 5523/35999 [57:53<4:12:34,  2.01it/s]/tmp/ipykernel_24/1437351082.py:45: RuntimeWarning: invalid value encountered in divide\n",
      "  char_probs = np.sum(char_probs, axis=-1) / (char_probs > 0).sum(-1)\n",
      " 17%|█▋        | 6081/35999 [1:03:31<4:06:45,  2.02it/s]"
     ]
    },
    {
     "name": "stdout",
     "output_type": "stream",
     "text": [
      "Over length in src\n"
     ]
    },
    {
     "name": "stderr",
     "output_type": "stream",
     "text": [
      " 18%|█▊        | 6498/35999 [1:07:47<5:29:53,  1.49it/s]"
     ]
    },
    {
     "name": "stdout",
     "output_type": "stream",
     "text": [
      "Over length in src\n",
      "Over length in src\n"
     ]
    },
    {
     "name": "stderr",
     "output_type": "stream",
     "text": [
      " 25%|██▌       | 9096/35999 [1:34:26<4:21:49,  1.71it/s]"
     ]
    },
    {
     "name": "stdout",
     "output_type": "stream",
     "text": [
      "Over length in src\n"
     ]
    },
    {
     "name": "stderr",
     "output_type": "stream",
     "text": [
      " 31%|███▏      | 11330/35999 [1:57:47<4:03:48,  1.69it/s]"
     ]
    },
    {
     "name": "stdout",
     "output_type": "stream",
     "text": [
      "Over length in src\n"
     ]
    },
    {
     "name": "stderr",
     "output_type": "stream",
     "text": [
      " 32%|███▏      | 11396/35999 [1:58:32<5:16:43,  1.29it/s]"
     ]
    },
    {
     "name": "stdout",
     "output_type": "stream",
     "text": [
      "Over length in src\n"
     ]
    },
    {
     "name": "stderr",
     "output_type": "stream",
     "text": [
      " 46%|████▌     | 16441/35999 [2:50:34<2:47:30,  1.95it/s]"
     ]
    },
    {
     "name": "stdout",
     "output_type": "stream",
     "text": [
      "Over length in src\n",
      "Over length in src\n"
     ]
    },
    {
     "name": "stderr",
     "output_type": "stream",
     "text": [
      " 48%|████▊     | 17266/35999 [2:58:58<3:02:34,  1.71it/s]"
     ]
    },
    {
     "name": "stdout",
     "output_type": "stream",
     "text": [
      "Over length in src\n",
      "Over length in src\n"
     ]
    },
    {
     "name": "stderr",
     "output_type": "stream",
     "text": [
      " 49%|████▊     | 17468/35999 [3:01:03<3:26:43,  1.49it/s]"
     ]
    },
    {
     "name": "stdout",
     "output_type": "stream",
     "text": [
      "Over length in src\n"
     ]
    },
    {
     "name": "stderr",
     "output_type": "stream",
     "text": [
      " 51%|█████▏    | 18517/35999 [3:11:40<2:56:26,  1.65it/s]"
     ]
    },
    {
     "name": "stdout",
     "output_type": "stream",
     "text": [
      "Over length in src\n"
     ]
    },
    {
     "name": "stderr",
     "output_type": "stream",
     "text": [
      " 57%|█████▋    | 20514/35999 [3:32:24<3:35:20,  1.20it/s]"
     ]
    },
    {
     "name": "stdout",
     "output_type": "stream",
     "text": [
      "Over length in src\n",
      "Over length in src\n"
     ]
    },
    {
     "name": "stderr",
     "output_type": "stream",
     "text": [
      " 60%|██████    | 21747/35999 [3:45:00<2:16:52,  1.74it/s]"
     ]
    },
    {
     "name": "stdout",
     "output_type": "stream",
     "text": [
      "Over length in src\n"
     ]
    },
    {
     "name": "stderr",
     "output_type": "stream",
     "text": [
      " 72%|███████▏  | 25870/35999 [4:27:35<1:31:36,  1.84it/s]"
     ]
    },
    {
     "name": "stdout",
     "output_type": "stream",
     "text": [
      "Over length in src\n"
     ]
    },
    {
     "name": "stderr",
     "output_type": "stream",
     "text": [
      " 79%|███████▉  | 28564/35999 [4:55:36<1:21:17,  1.52it/s]"
     ]
    },
    {
     "name": "stdout",
     "output_type": "stream",
     "text": [
      "Over length in src\n"
     ]
    },
    {
     "name": "stderr",
     "output_type": "stream",
     "text": [
      " 90%|████████▉ | 32306/35999 [5:34:12<28:57,  2.13it/s]"
     ]
    },
    {
     "name": "stdout",
     "output_type": "stream",
     "text": [
      "Over length in src\n"
     ]
    },
    {
     "name": "stderr",
     "output_type": "stream",
     "text": [
      " 93%|█████████▎| 33546/35999 [5:46:50<18:49,  2.17it/s]"
     ]
    },
    {
     "name": "stdout",
     "output_type": "stream",
     "text": [
      "Over length in src\n",
      "Over length in src\n"
     ]
    },
    {
     "name": "stderr",
     "output_type": "stream",
     "text": [
      " 97%|█████████▋| 34903/35999 [6:01:07<15:02,  1.21it/s]"
     ]
    },
    {
     "name": "stdout",
     "output_type": "stream",
     "text": [
      "Over length in src\n"
     ]
    },
    {
     "name": "stderr",
     "output_type": "stream",
     "text": [
      "100%|██████████| 35999/35999 [6:12:15<00:00,  1.61it/s]\n"
     ]
    }
   ],
   "source": [
    "pred_sents, actual_sents, results1 = predict_test(test_dataset)"
   ]
  },
  {
   "cell_type": "code",
   "execution_count": 26,
   "id": "353d2be1",
   "metadata": {
    "execution": {
     "iopub.execute_input": "2024-07-02T08:50:54.734806Z",
     "iopub.status.busy": "2024-07-02T08:50:54.734420Z",
     "iopub.status.idle": "2024-07-02T08:50:54.751347Z",
     "shell.execute_reply": "2024-07-02T08:50:54.750477Z"
    },
    "papermill": {
     "duration": 3.073344,
     "end_time": "2024-07-02T08:50:54.753367",
     "exception": false,
     "start_time": "2024-07-02T08:50:51.680023",
     "status": "completed"
    },
    "tags": []
   },
   "outputs": [],
   "source": [
    "df = pd.DataFrame(results1, columns=['predict_sentence', 'actual_sent'])"
   ]
  },
  {
   "cell_type": "code",
   "execution_count": 27,
   "id": "9b6be807",
   "metadata": {
    "execution": {
     "iopub.execute_input": "2024-07-02T08:51:00.698736Z",
     "iopub.status.busy": "2024-07-02T08:51:00.698329Z",
     "iopub.status.idle": "2024-07-02T08:51:01.217850Z",
     "shell.execute_reply": "2024-07-02T08:51:01.216852Z"
    },
    "papermill": {
     "duration": 3.58077,
     "end_time": "2024-07-02T08:51:01.220261",
     "exception": false,
     "start_time": "2024-07-02T08:50:57.639491",
     "status": "completed"
    },
    "tags": []
   },
   "outputs": [],
   "source": [
    "df.to_csv('output_new_data.csv', index=False)"
   ]
  }
 ],
 "metadata": {
  "kaggle": {
   "accelerator": "nvidiaTeslaT4",
   "dataSources": [
    {
     "datasetId": 5311934,
     "sourceId": 8828852,
     "sourceType": "datasetVersion"
    }
   ],
   "dockerImageVersionId": 30733,
   "isGpuEnabled": true,
   "isInternetEnabled": true,
   "language": "python",
   "sourceType": "notebook"
  },
  "kernelspec": {
   "display_name": "Python 3",
   "language": "python",
   "name": "python3"
  },
  "language_info": {
   "codemirror_mode": {
    "name": "ipython",
    "version": 3
   },
   "file_extension": ".py",
   "mimetype": "text/x-python",
   "name": "python",
   "nbconvert_exporter": "python",
   "pygments_lexer": "ipython3",
   "version": "3.10.13"
  },
  "papermill": {
   "default_parameters": {},
   "duration": 22440.923195,
   "end_time": "2024-07-02T08:51:07.148471",
   "environment_variables": {},
   "exception": null,
   "input_path": "__notebook__.ipynb",
   "output_path": "__notebook__.ipynb",
   "parameters": {},
   "start_time": "2024-07-02T02:37:06.225276",
   "version": "2.5.0"
  },
  "widgets": {
   "application/vnd.jupyter.widget-state+json": {
    "state": {
     "01bbab177593493ba835c54d0deb4d0a": {
      "model_module": "@jupyter-widgets/controls",
      "model_module_version": "1.5.0",
      "model_name": "ProgressStyleModel",
      "state": {
       "_model_module": "@jupyter-widgets/controls",
       "_model_module_version": "1.5.0",
       "_model_name": "ProgressStyleModel",
       "_view_count": null,
       "_view_module": "@jupyter-widgets/base",
       "_view_module_version": "1.2.0",
       "_view_name": "StyleView",
       "bar_color": null,
       "description_width": ""
      }
     },
     "01e5a01d95de40f08ef388362f068362": {
      "model_module": "@jupyter-widgets/controls",
      "model_module_version": "1.5.0",
      "model_name": "ProgressStyleModel",
      "state": {
       "_model_module": "@jupyter-widgets/controls",
       "_model_module_version": "1.5.0",
       "_model_name": "ProgressStyleModel",
       "_view_count": null,
       "_view_module": "@jupyter-widgets/base",
       "_view_module_version": "1.2.0",
       "_view_name": "StyleView",
       "bar_color": null,
       "description_width": ""
      }
     },
     "0e5fbea92148470180649e43e807c2d8": {
      "model_module": "@jupyter-widgets/base",
      "model_module_version": "1.2.0",
      "model_name": "LayoutModel",
      "state": {
       "_model_module": "@jupyter-widgets/base",
       "_model_module_version": "1.2.0",
       "_model_name": "LayoutModel",
       "_view_count": null,
       "_view_module": "@jupyter-widgets/base",
       "_view_module_version": "1.2.0",
       "_view_name": "LayoutView",
       "align_content": null,
       "align_items": null,
       "align_self": null,
       "border": null,
       "bottom": null,
       "display": null,
       "flex": null,
       "flex_flow": null,
       "grid_area": null,
       "grid_auto_columns": null,
       "grid_auto_flow": null,
       "grid_auto_rows": null,
       "grid_column": null,
       "grid_gap": null,
       "grid_row": null,
       "grid_template_areas": null,
       "grid_template_columns": null,
       "grid_template_rows": null,
       "height": null,
       "justify_content": null,
       "justify_items": null,
       "left": null,
       "margin": null,
       "max_height": null,
       "max_width": null,
       "min_height": null,
       "min_width": null,
       "object_fit": null,
       "object_position": null,
       "order": null,
       "overflow": null,
       "overflow_x": null,
       "overflow_y": null,
       "padding": null,
       "right": null,
       "top": null,
       "visibility": null,
       "width": null
      }
     },
     "176de9c538424825a0fc51c3cd1e3075": {
      "model_module": "@jupyter-widgets/base",
      "model_module_version": "1.2.0",
      "model_name": "LayoutModel",
      "state": {
       "_model_module": "@jupyter-widgets/base",
       "_model_module_version": "1.2.0",
       "_model_name": "LayoutModel",
       "_view_count": null,
       "_view_module": "@jupyter-widgets/base",
       "_view_module_version": "1.2.0",
       "_view_name": "LayoutView",
       "align_content": null,
       "align_items": null,
       "align_self": null,
       "border": null,
       "bottom": null,
       "display": null,
       "flex": null,
       "flex_flow": null,
       "grid_area": null,
       "grid_auto_columns": null,
       "grid_auto_flow": null,
       "grid_auto_rows": null,
       "grid_column": null,
       "grid_gap": null,
       "grid_row": null,
       "grid_template_areas": null,
       "grid_template_columns": null,
       "grid_template_rows": null,
       "height": null,
       "justify_content": null,
       "justify_items": null,
       "left": null,
       "margin": null,
       "max_height": null,
       "max_width": null,
       "min_height": null,
       "min_width": null,
       "object_fit": null,
       "object_position": null,
       "order": null,
       "overflow": null,
       "overflow_x": null,
       "overflow_y": null,
       "padding": null,
       "right": null,
       "top": null,
       "visibility": null,
       "width": null
      }
     },
     "20f30c16757d40fabe5f39c6db584b86": {
      "model_module": "@jupyter-widgets/controls",
      "model_module_version": "1.5.0",
      "model_name": "ProgressStyleModel",
      "state": {
       "_model_module": "@jupyter-widgets/controls",
       "_model_module_version": "1.5.0",
       "_model_name": "ProgressStyleModel",
       "_view_count": null,
       "_view_module": "@jupyter-widgets/base",
       "_view_module_version": "1.2.0",
       "_view_name": "StyleView",
       "bar_color": null,
       "description_width": ""
      }
     },
     "2580922a6baa403da39be42aafd07b0d": {
      "model_module": "@jupyter-widgets/controls",
      "model_module_version": "1.5.0",
      "model_name": "HTMLModel",
      "state": {
       "_dom_classes": [],
       "_model_module": "@jupyter-widgets/controls",
       "_model_module_version": "1.5.0",
       "_model_name": "HTMLModel",
       "_view_count": null,
       "_view_module": "@jupyter-widgets/controls",
       "_view_module_version": "1.5.0",
       "_view_name": "HTMLView",
       "description": "",
       "description_tooltip": null,
       "layout": "IPY_MODEL_f16bfe481ac045a09cb1911a8ed03bec",
       "placeholder": "​",
       "style": "IPY_MODEL_c3c1d3127de94a4bac7cdc52181c65cb",
       "value": " 35999/35999 [00:00&lt;00:00, 92193.91 examples/s]"
      }
     },
     "2c670eb7c3a547d3bd43866ffefb1435": {
      "model_module": "@jupyter-widgets/controls",
      "model_module_version": "1.5.0",
      "model_name": "HTMLModel",
      "state": {
       "_dom_classes": [],
       "_model_module": "@jupyter-widgets/controls",
       "_model_module_version": "1.5.0",
       "_model_name": "HTMLModel",
       "_view_count": null,
       "_view_module": "@jupyter-widgets/controls",
       "_view_module_version": "1.5.0",
       "_view_name": "HTMLView",
       "description": "",
       "description_tooltip": null,
       "layout": "IPY_MODEL_fbd108bb3715453fb93439fd4ae658ac",
       "placeholder": "​",
       "style": "IPY_MODEL_8ad4d7a7e0e74a43af77653d84662b1e",
       "value": "Generating test split: 100%"
      }
     },
     "2cee7dd61d43464aa8362b6ea3fe4bd5": {
      "model_module": "@jupyter-widgets/controls",
      "model_module_version": "1.5.0",
      "model_name": "HBoxModel",
      "state": {
       "_dom_classes": [],
       "_model_module": "@jupyter-widgets/controls",
       "_model_module_version": "1.5.0",
       "_model_name": "HBoxModel",
       "_view_count": null,
       "_view_module": "@jupyter-widgets/controls",
       "_view_module_version": "1.5.0",
       "_view_name": "HBoxView",
       "box_style": "",
       "children": [
        "IPY_MODEL_f55d75aac86b411391a97bf7115a95f1",
        "IPY_MODEL_92cd5ccd2e6245bca085eabf1c8a2571",
        "IPY_MODEL_b947743b3cbc45aba8eecd34d0a8b096"
       ],
       "layout": "IPY_MODEL_cbdcd4ff9e19450a964a4b0172dcbc9f"
      }
     },
     "39f63a69db384a2f900e8e08df7e952f": {
      "model_module": "@jupyter-widgets/base",
      "model_module_version": "1.2.0",
      "model_name": "LayoutModel",
      "state": {
       "_model_module": "@jupyter-widgets/base",
       "_model_module_version": "1.2.0",
       "_model_name": "LayoutModel",
       "_view_count": null,
       "_view_module": "@jupyter-widgets/base",
       "_view_module_version": "1.2.0",
       "_view_name": "LayoutView",
       "align_content": null,
       "align_items": null,
       "align_self": null,
       "border": null,
       "bottom": null,
       "display": null,
       "flex": null,
       "flex_flow": null,
       "grid_area": null,
       "grid_auto_columns": null,
       "grid_auto_flow": null,
       "grid_auto_rows": null,
       "grid_column": null,
       "grid_gap": null,
       "grid_row": null,
       "grid_template_areas": null,
       "grid_template_columns": null,
       "grid_template_rows": null,
       "height": null,
       "justify_content": null,
       "justify_items": null,
       "left": null,
       "margin": null,
       "max_height": null,
       "max_width": null,
       "min_height": null,
       "min_width": null,
       "object_fit": null,
       "object_position": null,
       "order": null,
       "overflow": null,
       "overflow_x": null,
       "overflow_y": null,
       "padding": null,
       "right": null,
       "top": null,
       "visibility": null,
       "width": null
      }
     },
     "3b1f48d61eed4d12859fb632eca5840e": {
      "model_module": "@jupyter-widgets/controls",
      "model_module_version": "1.5.0",
      "model_name": "DescriptionStyleModel",
      "state": {
       "_model_module": "@jupyter-widgets/controls",
       "_model_module_version": "1.5.0",
       "_model_name": "DescriptionStyleModel",
       "_view_count": null,
       "_view_module": "@jupyter-widgets/base",
       "_view_module_version": "1.2.0",
       "_view_name": "StyleView",
       "description_width": ""
      }
     },
     "3cb4b8633f2a44b382a2df8220dde235": {
      "model_module": "@jupyter-widgets/controls",
      "model_module_version": "1.5.0",
      "model_name": "DescriptionStyleModel",
      "state": {
       "_model_module": "@jupyter-widgets/controls",
       "_model_module_version": "1.5.0",
       "_model_name": "DescriptionStyleModel",
       "_view_count": null,
       "_view_module": "@jupyter-widgets/base",
       "_view_module_version": "1.2.0",
       "_view_name": "StyleView",
       "description_width": ""
      }
     },
     "42d7f994fdd5429b8099de30d85338eb": {
      "model_module": "@jupyter-widgets/controls",
      "model_module_version": "1.5.0",
      "model_name": "HBoxModel",
      "state": {
       "_dom_classes": [],
       "_model_module": "@jupyter-widgets/controls",
       "_model_module_version": "1.5.0",
       "_model_name": "HBoxModel",
       "_view_count": null,
       "_view_module": "@jupyter-widgets/controls",
       "_view_module_version": "1.5.0",
       "_view_name": "HBoxView",
       "box_style": "",
       "children": [
        "IPY_MODEL_6a2f60b5be24435f98a0de54ee7e1a94",
        "IPY_MODEL_8a9afd7a09a7422084e8f55c5d2fda78",
        "IPY_MODEL_9c169bc8c981437b899b65ca39d38865"
       ],
       "layout": "IPY_MODEL_176de9c538424825a0fc51c3cd1e3075"
      }
     },
     "48b2572ff4d34633bb362189cb3e6e78": {
      "model_module": "@jupyter-widgets/base",
      "model_module_version": "1.2.0",
      "model_name": "LayoutModel",
      "state": {
       "_model_module": "@jupyter-widgets/base",
       "_model_module_version": "1.2.0",
       "_model_name": "LayoutModel",
       "_view_count": null,
       "_view_module": "@jupyter-widgets/base",
       "_view_module_version": "1.2.0",
       "_view_name": "LayoutView",
       "align_content": null,
       "align_items": null,
       "align_self": null,
       "border": null,
       "bottom": null,
       "display": null,
       "flex": null,
       "flex_flow": null,
       "grid_area": null,
       "grid_auto_columns": null,
       "grid_auto_flow": null,
       "grid_auto_rows": null,
       "grid_column": null,
       "grid_gap": null,
       "grid_row": null,
       "grid_template_areas": null,
       "grid_template_columns": null,
       "grid_template_rows": null,
       "height": null,
       "justify_content": null,
       "justify_items": null,
       "left": null,
       "margin": null,
       "max_height": null,
       "max_width": null,
       "min_height": null,
       "min_width": null,
       "object_fit": null,
       "object_position": null,
       "order": null,
       "overflow": null,
       "overflow_x": null,
       "overflow_y": null,
       "padding": null,
       "right": null,
       "top": null,
       "visibility": null,
       "width": null
      }
     },
     "49a9ccf3173c4e80a9c6f2a3259e7a9e": {
      "model_module": "@jupyter-widgets/controls",
      "model_module_version": "1.5.0",
      "model_name": "FloatProgressModel",
      "state": {
       "_dom_classes": [],
       "_model_module": "@jupyter-widgets/controls",
       "_model_module_version": "1.5.0",
       "_model_name": "FloatProgressModel",
       "_view_count": null,
       "_view_module": "@jupyter-widgets/controls",
       "_view_module_version": "1.5.0",
       "_view_name": "ProgressView",
       "bar_style": "success",
       "description": "",
       "description_tooltip": null,
       "layout": "IPY_MODEL_48b2572ff4d34633bb362189cb3e6e78",
       "max": 2.0,
       "min": 0.0,
       "orientation": "horizontal",
       "style": "IPY_MODEL_f185ebab32274f328b6b48b1fec8c475",
       "value": 2.0
      }
     },
     "4cb88ef345054af3b714b20b655b75c5": {
      "model_module": "@jupyter-widgets/base",
      "model_module_version": "1.2.0",
      "model_name": "LayoutModel",
      "state": {
       "_model_module": "@jupyter-widgets/base",
       "_model_module_version": "1.2.0",
       "_model_name": "LayoutModel",
       "_view_count": null,
       "_view_module": "@jupyter-widgets/base",
       "_view_module_version": "1.2.0",
       "_view_name": "LayoutView",
       "align_content": null,
       "align_items": null,
       "align_self": null,
       "border": null,
       "bottom": null,
       "display": null,
       "flex": null,
       "flex_flow": null,
       "grid_area": null,
       "grid_auto_columns": null,
       "grid_auto_flow": null,
       "grid_auto_rows": null,
       "grid_column": null,
       "grid_gap": null,
       "grid_row": null,
       "grid_template_areas": null,
       "grid_template_columns": null,
       "grid_template_rows": null,
       "height": null,
       "justify_content": null,
       "justify_items": null,
       "left": null,
       "margin": null,
       "max_height": null,
       "max_width": null,
       "min_height": null,
       "min_width": null,
       "object_fit": null,
       "object_position": null,
       "order": null,
       "overflow": null,
       "overflow_x": null,
       "overflow_y": null,
       "padding": null,
       "right": null,
       "top": null,
       "visibility": null,
       "width": null
      }
     },
     "68cfa9f531bd44aab93eb9bc491dafe6": {
      "model_module": "@jupyter-widgets/controls",
      "model_module_version": "1.5.0",
      "model_name": "DescriptionStyleModel",
      "state": {
       "_model_module": "@jupyter-widgets/controls",
       "_model_module_version": "1.5.0",
       "_model_name": "DescriptionStyleModel",
       "_view_count": null,
       "_view_module": "@jupyter-widgets/base",
       "_view_module_version": "1.2.0",
       "_view_name": "StyleView",
       "description_width": ""
      }
     },
     "6a2f60b5be24435f98a0de54ee7e1a94": {
      "model_module": "@jupyter-widgets/controls",
      "model_module_version": "1.5.0",
      "model_name": "HTMLModel",
      "state": {
       "_dom_classes": [],
       "_model_module": "@jupyter-widgets/controls",
       "_model_module_version": "1.5.0",
       "_model_name": "HTMLModel",
       "_view_count": null,
       "_view_module": "@jupyter-widgets/controls",
       "_view_module_version": "1.5.0",
       "_view_name": "HTMLView",
       "description": "",
       "description_tooltip": null,
       "layout": "IPY_MODEL_8a9d828b78df475aad3bd3707ad405b6",
       "placeholder": "​",
       "style": "IPY_MODEL_3b1f48d61eed4d12859fb632eca5840e",
       "value": "Downloading data: 100%"
      }
     },
     "6b440aa4766e4d2089f25a7156fae67d": {
      "model_module": "@jupyter-widgets/base",
      "model_module_version": "1.2.0",
      "model_name": "LayoutModel",
      "state": {
       "_model_module": "@jupyter-widgets/base",
       "_model_module_version": "1.2.0",
       "_model_name": "LayoutModel",
       "_view_count": null,
       "_view_module": "@jupyter-widgets/base",
       "_view_module_version": "1.2.0",
       "_view_name": "LayoutView",
       "align_content": null,
       "align_items": null,
       "align_self": null,
       "border": null,
       "bottom": null,
       "display": null,
       "flex": null,
       "flex_flow": null,
       "grid_area": null,
       "grid_auto_columns": null,
       "grid_auto_flow": null,
       "grid_auto_rows": null,
       "grid_column": null,
       "grid_gap": null,
       "grid_row": null,
       "grid_template_areas": null,
       "grid_template_columns": null,
       "grid_template_rows": null,
       "height": null,
       "justify_content": null,
       "justify_items": null,
       "left": null,
       "margin": null,
       "max_height": null,
       "max_width": null,
       "min_height": null,
       "min_width": null,
       "object_fit": null,
       "object_position": null,
       "order": null,
       "overflow": null,
       "overflow_x": null,
       "overflow_y": null,
       "padding": null,
       "right": null,
       "top": null,
       "visibility": null,
       "width": null
      }
     },
     "705322bc29924ebb845376e7e1a545cc": {
      "model_module": "@jupyter-widgets/controls",
      "model_module_version": "1.5.0",
      "model_name": "HTMLModel",
      "state": {
       "_dom_classes": [],
       "_model_module": "@jupyter-widgets/controls",
       "_model_module_version": "1.5.0",
       "_model_name": "HTMLModel",
       "_view_count": null,
       "_view_module": "@jupyter-widgets/controls",
       "_view_module_version": "1.5.0",
       "_view_name": "HTMLView",
       "description": "",
       "description_tooltip": null,
       "layout": "IPY_MODEL_4cb88ef345054af3b714b20b655b75c5",
       "placeholder": "​",
       "style": "IPY_MODEL_3cb4b8633f2a44b382a2df8220dde235",
       "value": " 2/2 [00:00&lt;00:00, 216.28it/s]"
      }
     },
     "8a9afd7a09a7422084e8f55c5d2fda78": {
      "model_module": "@jupyter-widgets/controls",
      "model_module_version": "1.5.0",
      "model_name": "FloatProgressModel",
      "state": {
       "_dom_classes": [],
       "_model_module": "@jupyter-widgets/controls",
       "_model_module_version": "1.5.0",
       "_model_name": "FloatProgressModel",
       "_view_count": null,
       "_view_module": "@jupyter-widgets/controls",
       "_view_module_version": "1.5.0",
       "_view_name": "ProgressView",
       "bar_style": "success",
       "description": "",
       "description_tooltip": null,
       "layout": "IPY_MODEL_c6cf956f35f84f93a470f978177faf30",
       "max": 13076950.0,
       "min": 0.0,
       "orientation": "horizontal",
       "style": "IPY_MODEL_bc06bad586f14dc68f6156d2092a9a5d",
       "value": 13076950.0
      }
     },
     "8a9d828b78df475aad3bd3707ad405b6": {
      "model_module": "@jupyter-widgets/base",
      "model_module_version": "1.2.0",
      "model_name": "LayoutModel",
      "state": {
       "_model_module": "@jupyter-widgets/base",
       "_model_module_version": "1.2.0",
       "_model_name": "LayoutModel",
       "_view_count": null,
       "_view_module": "@jupyter-widgets/base",
       "_view_module_version": "1.2.0",
       "_view_name": "LayoutView",
       "align_content": null,
       "align_items": null,
       "align_self": null,
       "border": null,
       "bottom": null,
       "display": null,
       "flex": null,
       "flex_flow": null,
       "grid_area": null,
       "grid_auto_columns": null,
       "grid_auto_flow": null,
       "grid_auto_rows": null,
       "grid_column": null,
       "grid_gap": null,
       "grid_row": null,
       "grid_template_areas": null,
       "grid_template_columns": null,
       "grid_template_rows": null,
       "height": null,
       "justify_content": null,
       "justify_items": null,
       "left": null,
       "margin": null,
       "max_height": null,
       "max_width": null,
       "min_height": null,
       "min_width": null,
       "object_fit": null,
       "object_position": null,
       "order": null,
       "overflow": null,
       "overflow_x": null,
       "overflow_y": null,
       "padding": null,
       "right": null,
       "top": null,
       "visibility": null,
       "width": null
      }
     },
     "8ad4d7a7e0e74a43af77653d84662b1e": {
      "model_module": "@jupyter-widgets/controls",
      "model_module_version": "1.5.0",
      "model_name": "DescriptionStyleModel",
      "state": {
       "_model_module": "@jupyter-widgets/controls",
       "_model_module_version": "1.5.0",
       "_model_name": "DescriptionStyleModel",
       "_view_count": null,
       "_view_module": "@jupyter-widgets/base",
       "_view_module_version": "1.2.0",
       "_view_name": "StyleView",
       "description_width": ""
      }
     },
     "922ce49f6bfc4f3c92b0d5722d333966": {
      "model_module": "@jupyter-widgets/controls",
      "model_module_version": "1.5.0",
      "model_name": "HTMLModel",
      "state": {
       "_dom_classes": [],
       "_model_module": "@jupyter-widgets/controls",
       "_model_module_version": "1.5.0",
       "_model_name": "HTMLModel",
       "_view_count": null,
       "_view_module": "@jupyter-widgets/controls",
       "_view_module_version": "1.5.0",
       "_view_name": "HTMLView",
       "description": "",
       "description_tooltip": null,
       "layout": "IPY_MODEL_dfe2c6afacb64bf99bdd920444d5ad62",
       "placeholder": "​",
       "style": "IPY_MODEL_68cfa9f531bd44aab93eb9bc491dafe6",
       "value": "Downloading data: 100%"
      }
     },
     "92cd5ccd2e6245bca085eabf1c8a2571": {
      "model_module": "@jupyter-widgets/controls",
      "model_module_version": "1.5.0",
      "model_name": "FloatProgressModel",
      "state": {
       "_dom_classes": [],
       "_model_module": "@jupyter-widgets/controls",
       "_model_module_version": "1.5.0",
       "_model_name": "FloatProgressModel",
       "_view_count": null,
       "_view_module": "@jupyter-widgets/controls",
       "_view_module_version": "1.5.0",
       "_view_name": "ProgressView",
       "bar_style": "success",
       "description": "",
       "description_tooltip": null,
       "layout": "IPY_MODEL_c512bb003007414f94515bba126e5d2d",
       "max": 6579290.0,
       "min": 0.0,
       "orientation": "horizontal",
       "style": "IPY_MODEL_01e5a01d95de40f08ef388362f068362",
       "value": 6579290.0
      }
     },
     "9303fcaf7c3345bb8e2058193092deba": {
      "model_module": "@jupyter-widgets/controls",
      "model_module_version": "1.5.0",
      "model_name": "HBoxModel",
      "state": {
       "_dom_classes": [],
       "_model_module": "@jupyter-widgets/controls",
       "_model_module_version": "1.5.0",
       "_model_name": "HBoxModel",
       "_view_count": null,
       "_view_module": "@jupyter-widgets/controls",
       "_view_module_version": "1.5.0",
       "_view_name": "HBoxView",
       "box_style": "",
       "children": [
        "IPY_MODEL_cc529fdd49d0406283463fd225ef6b71",
        "IPY_MODEL_49a9ccf3173c4e80a9c6f2a3259e7a9e",
        "IPY_MODEL_705322bc29924ebb845376e7e1a545cc"
       ],
       "layout": "IPY_MODEL_bc7567c5476e44d28b1e163f3b95449e"
      }
     },
     "95853be8b9b84ab49fc0263ce386adc2": {
      "model_module": "@jupyter-widgets/base",
      "model_module_version": "1.2.0",
      "model_name": "LayoutModel",
      "state": {
       "_model_module": "@jupyter-widgets/base",
       "_model_module_version": "1.2.0",
       "_model_name": "LayoutModel",
       "_view_count": null,
       "_view_module": "@jupyter-widgets/base",
       "_view_module_version": "1.2.0",
       "_view_name": "LayoutView",
       "align_content": null,
       "align_items": null,
       "align_self": null,
       "border": null,
       "bottom": null,
       "display": null,
       "flex": null,
       "flex_flow": null,
       "grid_area": null,
       "grid_auto_columns": null,
       "grid_auto_flow": null,
       "grid_auto_rows": null,
       "grid_column": null,
       "grid_gap": null,
       "grid_row": null,
       "grid_template_areas": null,
       "grid_template_columns": null,
       "grid_template_rows": null,
       "height": null,
       "justify_content": null,
       "justify_items": null,
       "left": null,
       "margin": null,
       "max_height": null,
       "max_width": null,
       "min_height": null,
       "min_width": null,
       "object_fit": null,
       "object_position": null,
       "order": null,
       "overflow": null,
       "overflow_x": null,
       "overflow_y": null,
       "padding": null,
       "right": null,
       "top": null,
       "visibility": null,
       "width": null
      }
     },
     "98c89f90aab74c13a03e622210121f4e": {
      "model_module": "@jupyter-widgets/controls",
      "model_module_version": "1.5.0",
      "model_name": "DescriptionStyleModel",
      "state": {
       "_model_module": "@jupyter-widgets/controls",
       "_model_module_version": "1.5.0",
       "_model_name": "DescriptionStyleModel",
       "_view_count": null,
       "_view_module": "@jupyter-widgets/base",
       "_view_module_version": "1.2.0",
       "_view_name": "StyleView",
       "description_width": ""
      }
     },
     "9a1a9c5c513341e49e0b44f519caaf8a": {
      "model_module": "@jupyter-widgets/controls",
      "model_module_version": "1.5.0",
      "model_name": "HTMLModel",
      "state": {
       "_dom_classes": [],
       "_model_module": "@jupyter-widgets/controls",
       "_model_module_version": "1.5.0",
       "_model_name": "HTMLModel",
       "_view_count": null,
       "_view_module": "@jupyter-widgets/controls",
       "_view_module_version": "1.5.0",
       "_view_name": "HTMLView",
       "description": "",
       "description_tooltip": null,
       "layout": "IPY_MODEL_9e0dc2cea2e5458983142afa60d2c5bd",
       "placeholder": "​",
       "style": "IPY_MODEL_a5e082c6f4ec475684d410ba3f0084b1",
       "value": " 373M/373M [00:01&lt;00:00, 301MB/s]"
      }
     },
     "9a8e9e7cd435470f95dad671249edac2": {
      "model_module": "@jupyter-widgets/controls",
      "model_module_version": "1.5.0",
      "model_name": "HBoxModel",
      "state": {
       "_dom_classes": [],
       "_model_module": "@jupyter-widgets/controls",
       "_model_module_version": "1.5.0",
       "_model_name": "HBoxModel",
       "_view_count": null,
       "_view_module": "@jupyter-widgets/controls",
       "_view_module_version": "1.5.0",
       "_view_name": "HBoxView",
       "box_style": "",
       "children": [
        "IPY_MODEL_922ce49f6bfc4f3c92b0d5722d333966",
        "IPY_MODEL_db9ebfc77cc34aac83e7cfdd38cb7c0b",
        "IPY_MODEL_9a1a9c5c513341e49e0b44f519caaf8a"
       ],
       "layout": "IPY_MODEL_6b440aa4766e4d2089f25a7156fae67d"
      }
     },
     "9c169bc8c981437b899b65ca39d38865": {
      "model_module": "@jupyter-widgets/controls",
      "model_module_version": "1.5.0",
      "model_name": "HTMLModel",
      "state": {
       "_dom_classes": [],
       "_model_module": "@jupyter-widgets/controls",
       "_model_module_version": "1.5.0",
       "_model_name": "HTMLModel",
       "_view_count": null,
       "_view_module": "@jupyter-widgets/controls",
       "_view_module_version": "1.5.0",
       "_view_name": "HTMLView",
       "description": "",
       "description_tooltip": null,
       "layout": "IPY_MODEL_95853be8b9b84ab49fc0263ce386adc2",
       "placeholder": "​",
       "style": "IPY_MODEL_c1647a1f637448aeaa57eb76f7c08d53",
       "value": " 13.1M/13.1M [00:00&lt;00:00, 38.7MB/s]"
      }
     },
     "9e0dc2cea2e5458983142afa60d2c5bd": {
      "model_module": "@jupyter-widgets/base",
      "model_module_version": "1.2.0",
      "model_name": "LayoutModel",
      "state": {
       "_model_module": "@jupyter-widgets/base",
       "_model_module_version": "1.2.0",
       "_model_name": "LayoutModel",
       "_view_count": null,
       "_view_module": "@jupyter-widgets/base",
       "_view_module_version": "1.2.0",
       "_view_name": "LayoutView",
       "align_content": null,
       "align_items": null,
       "align_self": null,
       "border": null,
       "bottom": null,
       "display": null,
       "flex": null,
       "flex_flow": null,
       "grid_area": null,
       "grid_auto_columns": null,
       "grid_auto_flow": null,
       "grid_auto_rows": null,
       "grid_column": null,
       "grid_gap": null,
       "grid_row": null,
       "grid_template_areas": null,
       "grid_template_columns": null,
       "grid_template_rows": null,
       "height": null,
       "justify_content": null,
       "justify_items": null,
       "left": null,
       "margin": null,
       "max_height": null,
       "max_width": null,
       "min_height": null,
       "min_width": null,
       "object_fit": null,
       "object_position": null,
       "order": null,
       "overflow": null,
       "overflow_x": null,
       "overflow_y": null,
       "padding": null,
       "right": null,
       "top": null,
       "visibility": null,
       "width": null
      }
     },
     "a5253411c7604b0f9c46db2fb32b99c8": {
      "model_module": "@jupyter-widgets/controls",
      "model_module_version": "1.5.0",
      "model_name": "HBoxModel",
      "state": {
       "_dom_classes": [],
       "_model_module": "@jupyter-widgets/controls",
       "_model_module_version": "1.5.0",
       "_model_name": "HBoxModel",
       "_view_count": null,
       "_view_module": "@jupyter-widgets/controls",
       "_view_module_version": "1.5.0",
       "_view_name": "HBoxView",
       "box_style": "",
       "children": [
        "IPY_MODEL_2c670eb7c3a547d3bd43866ffefb1435",
        "IPY_MODEL_f2cf177801ed41c79188918559209ab9",
        "IPY_MODEL_2580922a6baa403da39be42aafd07b0d"
       ],
       "layout": "IPY_MODEL_ebbbeafa43814773b8c82114a4d1a89f"
      }
     },
     "a5e082c6f4ec475684d410ba3f0084b1": {
      "model_module": "@jupyter-widgets/controls",
      "model_module_version": "1.5.0",
      "model_name": "DescriptionStyleModel",
      "state": {
       "_model_module": "@jupyter-widgets/controls",
       "_model_module_version": "1.5.0",
       "_model_name": "DescriptionStyleModel",
       "_view_count": null,
       "_view_module": "@jupyter-widgets/base",
       "_view_module_version": "1.2.0",
       "_view_name": "StyleView",
       "description_width": ""
      }
     },
     "b0e770d13fd74a809a50fd1f3f9441db": {
      "model_module": "@jupyter-widgets/base",
      "model_module_version": "1.2.0",
      "model_name": "LayoutModel",
      "state": {
       "_model_module": "@jupyter-widgets/base",
       "_model_module_version": "1.2.0",
       "_model_name": "LayoutModel",
       "_view_count": null,
       "_view_module": "@jupyter-widgets/base",
       "_view_module_version": "1.2.0",
       "_view_name": "LayoutView",
       "align_content": null,
       "align_items": null,
       "align_self": null,
       "border": null,
       "bottom": null,
       "display": null,
       "flex": null,
       "flex_flow": null,
       "grid_area": null,
       "grid_auto_columns": null,
       "grid_auto_flow": null,
       "grid_auto_rows": null,
       "grid_column": null,
       "grid_gap": null,
       "grid_row": null,
       "grid_template_areas": null,
       "grid_template_columns": null,
       "grid_template_rows": null,
       "height": null,
       "justify_content": null,
       "justify_items": null,
       "left": null,
       "margin": null,
       "max_height": null,
       "max_width": null,
       "min_height": null,
       "min_width": null,
       "object_fit": null,
       "object_position": null,
       "order": null,
       "overflow": null,
       "overflow_x": null,
       "overflow_y": null,
       "padding": null,
       "right": null,
       "top": null,
       "visibility": null,
       "width": null
      }
     },
     "b947743b3cbc45aba8eecd34d0a8b096": {
      "model_module": "@jupyter-widgets/controls",
      "model_module_version": "1.5.0",
      "model_name": "HTMLModel",
      "state": {
       "_dom_classes": [],
       "_model_module": "@jupyter-widgets/controls",
       "_model_module_version": "1.5.0",
       "_model_name": "HTMLModel",
       "_view_count": null,
       "_view_module": "@jupyter-widgets/controls",
       "_view_module_version": "1.5.0",
       "_view_name": "HTMLView",
       "description": "",
       "description_tooltip": null,
       "layout": "IPY_MODEL_cabcc38307c8497086f43c6904594931",
       "placeholder": "​",
       "style": "IPY_MODEL_98c89f90aab74c13a03e622210121f4e",
       "value": " 6579290/6579290 [00:17&lt;00:00, 366356.09 examples/s]"
      }
     },
     "bc06bad586f14dc68f6156d2092a9a5d": {
      "model_module": "@jupyter-widgets/controls",
      "model_module_version": "1.5.0",
      "model_name": "ProgressStyleModel",
      "state": {
       "_model_module": "@jupyter-widgets/controls",
       "_model_module_version": "1.5.0",
       "_model_name": "ProgressStyleModel",
       "_view_count": null,
       "_view_module": "@jupyter-widgets/base",
       "_view_module_version": "1.2.0",
       "_view_name": "StyleView",
       "bar_color": null,
       "description_width": ""
      }
     },
     "bc7567c5476e44d28b1e163f3b95449e": {
      "model_module": "@jupyter-widgets/base",
      "model_module_version": "1.2.0",
      "model_name": "LayoutModel",
      "state": {
       "_model_module": "@jupyter-widgets/base",
       "_model_module_version": "1.2.0",
       "_model_name": "LayoutModel",
       "_view_count": null,
       "_view_module": "@jupyter-widgets/base",
       "_view_module_version": "1.2.0",
       "_view_name": "LayoutView",
       "align_content": null,
       "align_items": null,
       "align_self": null,
       "border": null,
       "bottom": null,
       "display": null,
       "flex": null,
       "flex_flow": null,
       "grid_area": null,
       "grid_auto_columns": null,
       "grid_auto_flow": null,
       "grid_auto_rows": null,
       "grid_column": null,
       "grid_gap": null,
       "grid_row": null,
       "grid_template_areas": null,
       "grid_template_columns": null,
       "grid_template_rows": null,
       "height": null,
       "justify_content": null,
       "justify_items": null,
       "left": null,
       "margin": null,
       "max_height": null,
       "max_width": null,
       "min_height": null,
       "min_width": null,
       "object_fit": null,
       "object_position": null,
       "order": null,
       "overflow": null,
       "overflow_x": null,
       "overflow_y": null,
       "padding": null,
       "right": null,
       "top": null,
       "visibility": null,
       "width": null
      }
     },
     "c1647a1f637448aeaa57eb76f7c08d53": {
      "model_module": "@jupyter-widgets/controls",
      "model_module_version": "1.5.0",
      "model_name": "DescriptionStyleModel",
      "state": {
       "_model_module": "@jupyter-widgets/controls",
       "_model_module_version": "1.5.0",
       "_model_name": "DescriptionStyleModel",
       "_view_count": null,
       "_view_module": "@jupyter-widgets/base",
       "_view_module_version": "1.2.0",
       "_view_name": "StyleView",
       "description_width": ""
      }
     },
     "c3c1d3127de94a4bac7cdc52181c65cb": {
      "model_module": "@jupyter-widgets/controls",
      "model_module_version": "1.5.0",
      "model_name": "DescriptionStyleModel",
      "state": {
       "_model_module": "@jupyter-widgets/controls",
       "_model_module_version": "1.5.0",
       "_model_name": "DescriptionStyleModel",
       "_view_count": null,
       "_view_module": "@jupyter-widgets/base",
       "_view_module_version": "1.2.0",
       "_view_name": "StyleView",
       "description_width": ""
      }
     },
     "c512bb003007414f94515bba126e5d2d": {
      "model_module": "@jupyter-widgets/base",
      "model_module_version": "1.2.0",
      "model_name": "LayoutModel",
      "state": {
       "_model_module": "@jupyter-widgets/base",
       "_model_module_version": "1.2.0",
       "_model_name": "LayoutModel",
       "_view_count": null,
       "_view_module": "@jupyter-widgets/base",
       "_view_module_version": "1.2.0",
       "_view_name": "LayoutView",
       "align_content": null,
       "align_items": null,
       "align_self": null,
       "border": null,
       "bottom": null,
       "display": null,
       "flex": null,
       "flex_flow": null,
       "grid_area": null,
       "grid_auto_columns": null,
       "grid_auto_flow": null,
       "grid_auto_rows": null,
       "grid_column": null,
       "grid_gap": null,
       "grid_row": null,
       "grid_template_areas": null,
       "grid_template_columns": null,
       "grid_template_rows": null,
       "height": null,
       "justify_content": null,
       "justify_items": null,
       "left": null,
       "margin": null,
       "max_height": null,
       "max_width": null,
       "min_height": null,
       "min_width": null,
       "object_fit": null,
       "object_position": null,
       "order": null,
       "overflow": null,
       "overflow_x": null,
       "overflow_y": null,
       "padding": null,
       "right": null,
       "top": null,
       "visibility": null,
       "width": null
      }
     },
     "c6cf956f35f84f93a470f978177faf30": {
      "model_module": "@jupyter-widgets/base",
      "model_module_version": "1.2.0",
      "model_name": "LayoutModel",
      "state": {
       "_model_module": "@jupyter-widgets/base",
       "_model_module_version": "1.2.0",
       "_model_name": "LayoutModel",
       "_view_count": null,
       "_view_module": "@jupyter-widgets/base",
       "_view_module_version": "1.2.0",
       "_view_name": "LayoutView",
       "align_content": null,
       "align_items": null,
       "align_self": null,
       "border": null,
       "bottom": null,
       "display": null,
       "flex": null,
       "flex_flow": null,
       "grid_area": null,
       "grid_auto_columns": null,
       "grid_auto_flow": null,
       "grid_auto_rows": null,
       "grid_column": null,
       "grid_gap": null,
       "grid_row": null,
       "grid_template_areas": null,
       "grid_template_columns": null,
       "grid_template_rows": null,
       "height": null,
       "justify_content": null,
       "justify_items": null,
       "left": null,
       "margin": null,
       "max_height": null,
       "max_width": null,
       "min_height": null,
       "min_width": null,
       "object_fit": null,
       "object_position": null,
       "order": null,
       "overflow": null,
       "overflow_x": null,
       "overflow_y": null,
       "padding": null,
       "right": null,
       "top": null,
       "visibility": null,
       "width": null
      }
     },
     "cabcc38307c8497086f43c6904594931": {
      "model_module": "@jupyter-widgets/base",
      "model_module_version": "1.2.0",
      "model_name": "LayoutModel",
      "state": {
       "_model_module": "@jupyter-widgets/base",
       "_model_module_version": "1.2.0",
       "_model_name": "LayoutModel",
       "_view_count": null,
       "_view_module": "@jupyter-widgets/base",
       "_view_module_version": "1.2.0",
       "_view_name": "LayoutView",
       "align_content": null,
       "align_items": null,
       "align_self": null,
       "border": null,
       "bottom": null,
       "display": null,
       "flex": null,
       "flex_flow": null,
       "grid_area": null,
       "grid_auto_columns": null,
       "grid_auto_flow": null,
       "grid_auto_rows": null,
       "grid_column": null,
       "grid_gap": null,
       "grid_row": null,
       "grid_template_areas": null,
       "grid_template_columns": null,
       "grid_template_rows": null,
       "height": null,
       "justify_content": null,
       "justify_items": null,
       "left": null,
       "margin": null,
       "max_height": null,
       "max_width": null,
       "min_height": null,
       "min_width": null,
       "object_fit": null,
       "object_position": null,
       "order": null,
       "overflow": null,
       "overflow_x": null,
       "overflow_y": null,
       "padding": null,
       "right": null,
       "top": null,
       "visibility": null,
       "width": null
      }
     },
     "cbdcd4ff9e19450a964a4b0172dcbc9f": {
      "model_module": "@jupyter-widgets/base",
      "model_module_version": "1.2.0",
      "model_name": "LayoutModel",
      "state": {
       "_model_module": "@jupyter-widgets/base",
       "_model_module_version": "1.2.0",
       "_model_name": "LayoutModel",
       "_view_count": null,
       "_view_module": "@jupyter-widgets/base",
       "_view_module_version": "1.2.0",
       "_view_name": "LayoutView",
       "align_content": null,
       "align_items": null,
       "align_self": null,
       "border": null,
       "bottom": null,
       "display": null,
       "flex": null,
       "flex_flow": null,
       "grid_area": null,
       "grid_auto_columns": null,
       "grid_auto_flow": null,
       "grid_auto_rows": null,
       "grid_column": null,
       "grid_gap": null,
       "grid_row": null,
       "grid_template_areas": null,
       "grid_template_columns": null,
       "grid_template_rows": null,
       "height": null,
       "justify_content": null,
       "justify_items": null,
       "left": null,
       "margin": null,
       "max_height": null,
       "max_width": null,
       "min_height": null,
       "min_width": null,
       "object_fit": null,
       "object_position": null,
       "order": null,
       "overflow": null,
       "overflow_x": null,
       "overflow_y": null,
       "padding": null,
       "right": null,
       "top": null,
       "visibility": null,
       "width": null
      }
     },
     "cc529fdd49d0406283463fd225ef6b71": {
      "model_module": "@jupyter-widgets/controls",
      "model_module_version": "1.5.0",
      "model_name": "HTMLModel",
      "state": {
       "_dom_classes": [],
       "_model_module": "@jupyter-widgets/controls",
       "_model_module_version": "1.5.0",
       "_model_name": "HTMLModel",
       "_view_count": null,
       "_view_module": "@jupyter-widgets/controls",
       "_view_module_version": "1.5.0",
       "_view_name": "HTMLView",
       "description": "",
       "description_tooltip": null,
       "layout": "IPY_MODEL_b0e770d13fd74a809a50fd1f3f9441db",
       "placeholder": "​",
       "style": "IPY_MODEL_e5a554f263784593b7e302829bb287dc",
       "value": "Computing checksums: 100%"
      }
     },
     "d6819a3174424fbb8fe51847ae8421f3": {
      "model_module": "@jupyter-widgets/controls",
      "model_module_version": "1.5.0",
      "model_name": "DescriptionStyleModel",
      "state": {
       "_model_module": "@jupyter-widgets/controls",
       "_model_module_version": "1.5.0",
       "_model_name": "DescriptionStyleModel",
       "_view_count": null,
       "_view_module": "@jupyter-widgets/base",
       "_view_module_version": "1.2.0",
       "_view_name": "StyleView",
       "description_width": ""
      }
     },
     "db9ebfc77cc34aac83e7cfdd38cb7c0b": {
      "model_module": "@jupyter-widgets/controls",
      "model_module_version": "1.5.0",
      "model_name": "FloatProgressModel",
      "state": {
       "_dom_classes": [],
       "_model_module": "@jupyter-widgets/controls",
       "_model_module_version": "1.5.0",
       "_model_name": "FloatProgressModel",
       "_view_count": null,
       "_view_module": "@jupyter-widgets/controls",
       "_view_module_version": "1.5.0",
       "_view_name": "ProgressView",
       "bar_style": "success",
       "description": "",
       "description_tooltip": null,
       "layout": "IPY_MODEL_39f63a69db384a2f900e8e08df7e952f",
       "max": 373135703.0,
       "min": 0.0,
       "orientation": "horizontal",
       "style": "IPY_MODEL_01bbab177593493ba835c54d0deb4d0a",
       "value": 373135703.0
      }
     },
     "dfe2c6afacb64bf99bdd920444d5ad62": {
      "model_module": "@jupyter-widgets/base",
      "model_module_version": "1.2.0",
      "model_name": "LayoutModel",
      "state": {
       "_model_module": "@jupyter-widgets/base",
       "_model_module_version": "1.2.0",
       "_model_name": "LayoutModel",
       "_view_count": null,
       "_view_module": "@jupyter-widgets/base",
       "_view_module_version": "1.2.0",
       "_view_name": "LayoutView",
       "align_content": null,
       "align_items": null,
       "align_self": null,
       "border": null,
       "bottom": null,
       "display": null,
       "flex": null,
       "flex_flow": null,
       "grid_area": null,
       "grid_auto_columns": null,
       "grid_auto_flow": null,
       "grid_auto_rows": null,
       "grid_column": null,
       "grid_gap": null,
       "grid_row": null,
       "grid_template_areas": null,
       "grid_template_columns": null,
       "grid_template_rows": null,
       "height": null,
       "justify_content": null,
       "justify_items": null,
       "left": null,
       "margin": null,
       "max_height": null,
       "max_width": null,
       "min_height": null,
       "min_width": null,
       "object_fit": null,
       "object_position": null,
       "order": null,
       "overflow": null,
       "overflow_x": null,
       "overflow_y": null,
       "padding": null,
       "right": null,
       "top": null,
       "visibility": null,
       "width": null
      }
     },
     "e5a554f263784593b7e302829bb287dc": {
      "model_module": "@jupyter-widgets/controls",
      "model_module_version": "1.5.0",
      "model_name": "DescriptionStyleModel",
      "state": {
       "_model_module": "@jupyter-widgets/controls",
       "_model_module_version": "1.5.0",
       "_model_name": "DescriptionStyleModel",
       "_view_count": null,
       "_view_module": "@jupyter-widgets/base",
       "_view_module_version": "1.2.0",
       "_view_name": "StyleView",
       "description_width": ""
      }
     },
     "e67555cefc8d4c9bb875b1c1e2cdf6da": {
      "model_module": "@jupyter-widgets/base",
      "model_module_version": "1.2.0",
      "model_name": "LayoutModel",
      "state": {
       "_model_module": "@jupyter-widgets/base",
       "_model_module_version": "1.2.0",
       "_model_name": "LayoutModel",
       "_view_count": null,
       "_view_module": "@jupyter-widgets/base",
       "_view_module_version": "1.2.0",
       "_view_name": "LayoutView",
       "align_content": null,
       "align_items": null,
       "align_self": null,
       "border": null,
       "bottom": null,
       "display": null,
       "flex": null,
       "flex_flow": null,
       "grid_area": null,
       "grid_auto_columns": null,
       "grid_auto_flow": null,
       "grid_auto_rows": null,
       "grid_column": null,
       "grid_gap": null,
       "grid_row": null,
       "grid_template_areas": null,
       "grid_template_columns": null,
       "grid_template_rows": null,
       "height": null,
       "justify_content": null,
       "justify_items": null,
       "left": null,
       "margin": null,
       "max_height": null,
       "max_width": null,
       "min_height": null,
       "min_width": null,
       "object_fit": null,
       "object_position": null,
       "order": null,
       "overflow": null,
       "overflow_x": null,
       "overflow_y": null,
       "padding": null,
       "right": null,
       "top": null,
       "visibility": null,
       "width": null
      }
     },
     "ebbbeafa43814773b8c82114a4d1a89f": {
      "model_module": "@jupyter-widgets/base",
      "model_module_version": "1.2.0",
      "model_name": "LayoutModel",
      "state": {
       "_model_module": "@jupyter-widgets/base",
       "_model_module_version": "1.2.0",
       "_model_name": "LayoutModel",
       "_view_count": null,
       "_view_module": "@jupyter-widgets/base",
       "_view_module_version": "1.2.0",
       "_view_name": "LayoutView",
       "align_content": null,
       "align_items": null,
       "align_self": null,
       "border": null,
       "bottom": null,
       "display": null,
       "flex": null,
       "flex_flow": null,
       "grid_area": null,
       "grid_auto_columns": null,
       "grid_auto_flow": null,
       "grid_auto_rows": null,
       "grid_column": null,
       "grid_gap": null,
       "grid_row": null,
       "grid_template_areas": null,
       "grid_template_columns": null,
       "grid_template_rows": null,
       "height": null,
       "justify_content": null,
       "justify_items": null,
       "left": null,
       "margin": null,
       "max_height": null,
       "max_width": null,
       "min_height": null,
       "min_width": null,
       "object_fit": null,
       "object_position": null,
       "order": null,
       "overflow": null,
       "overflow_x": null,
       "overflow_y": null,
       "padding": null,
       "right": null,
       "top": null,
       "visibility": null,
       "width": null
      }
     },
     "f16bfe481ac045a09cb1911a8ed03bec": {
      "model_module": "@jupyter-widgets/base",
      "model_module_version": "1.2.0",
      "model_name": "LayoutModel",
      "state": {
       "_model_module": "@jupyter-widgets/base",
       "_model_module_version": "1.2.0",
       "_model_name": "LayoutModel",
       "_view_count": null,
       "_view_module": "@jupyter-widgets/base",
       "_view_module_version": "1.2.0",
       "_view_name": "LayoutView",
       "align_content": null,
       "align_items": null,
       "align_self": null,
       "border": null,
       "bottom": null,
       "display": null,
       "flex": null,
       "flex_flow": null,
       "grid_area": null,
       "grid_auto_columns": null,
       "grid_auto_flow": null,
       "grid_auto_rows": null,
       "grid_column": null,
       "grid_gap": null,
       "grid_row": null,
       "grid_template_areas": null,
       "grid_template_columns": null,
       "grid_template_rows": null,
       "height": null,
       "justify_content": null,
       "justify_items": null,
       "left": null,
       "margin": null,
       "max_height": null,
       "max_width": null,
       "min_height": null,
       "min_width": null,
       "object_fit": null,
       "object_position": null,
       "order": null,
       "overflow": null,
       "overflow_x": null,
       "overflow_y": null,
       "padding": null,
       "right": null,
       "top": null,
       "visibility": null,
       "width": null
      }
     },
     "f185ebab32274f328b6b48b1fec8c475": {
      "model_module": "@jupyter-widgets/controls",
      "model_module_version": "1.5.0",
      "model_name": "ProgressStyleModel",
      "state": {
       "_model_module": "@jupyter-widgets/controls",
       "_model_module_version": "1.5.0",
       "_model_name": "ProgressStyleModel",
       "_view_count": null,
       "_view_module": "@jupyter-widgets/base",
       "_view_module_version": "1.2.0",
       "_view_name": "StyleView",
       "bar_color": null,
       "description_width": ""
      }
     },
     "f2cf177801ed41c79188918559209ab9": {
      "model_module": "@jupyter-widgets/controls",
      "model_module_version": "1.5.0",
      "model_name": "FloatProgressModel",
      "state": {
       "_dom_classes": [],
       "_model_module": "@jupyter-widgets/controls",
       "_model_module_version": "1.5.0",
       "_model_name": "FloatProgressModel",
       "_view_count": null,
       "_view_module": "@jupyter-widgets/controls",
       "_view_module_version": "1.5.0",
       "_view_name": "ProgressView",
       "bar_style": "success",
       "description": "",
       "description_tooltip": null,
       "layout": "IPY_MODEL_0e5fbea92148470180649e43e807c2d8",
       "max": 35999.0,
       "min": 0.0,
       "orientation": "horizontal",
       "style": "IPY_MODEL_20f30c16757d40fabe5f39c6db584b86",
       "value": 35999.0
      }
     },
     "f55d75aac86b411391a97bf7115a95f1": {
      "model_module": "@jupyter-widgets/controls",
      "model_module_version": "1.5.0",
      "model_name": "HTMLModel",
      "state": {
       "_dom_classes": [],
       "_model_module": "@jupyter-widgets/controls",
       "_model_module_version": "1.5.0",
       "_model_name": "HTMLModel",
       "_view_count": null,
       "_view_module": "@jupyter-widgets/controls",
       "_view_module_version": "1.5.0",
       "_view_name": "HTMLView",
       "description": "",
       "description_tooltip": null,
       "layout": "IPY_MODEL_e67555cefc8d4c9bb875b1c1e2cdf6da",
       "placeholder": "​",
       "style": "IPY_MODEL_d6819a3174424fbb8fe51847ae8421f3",
       "value": "Generating train split: 100%"
      }
     },
     "fbd108bb3715453fb93439fd4ae658ac": {
      "model_module": "@jupyter-widgets/base",
      "model_module_version": "1.2.0",
      "model_name": "LayoutModel",
      "state": {
       "_model_module": "@jupyter-widgets/base",
       "_model_module_version": "1.2.0",
       "_model_name": "LayoutModel",
       "_view_count": null,
       "_view_module": "@jupyter-widgets/base",
       "_view_module_version": "1.2.0",
       "_view_name": "LayoutView",
       "align_content": null,
       "align_items": null,
       "align_self": null,
       "border": null,
       "bottom": null,
       "display": null,
       "flex": null,
       "flex_flow": null,
       "grid_area": null,
       "grid_auto_columns": null,
       "grid_auto_flow": null,
       "grid_auto_rows": null,
       "grid_column": null,
       "grid_gap": null,
       "grid_row": null,
       "grid_template_areas": null,
       "grid_template_columns": null,
       "grid_template_rows": null,
       "height": null,
       "justify_content": null,
       "justify_items": null,
       "left": null,
       "margin": null,
       "max_height": null,
       "max_width": null,
       "min_height": null,
       "min_width": null,
       "object_fit": null,
       "object_position": null,
       "order": null,
       "overflow": null,
       "overflow_x": null,
       "overflow_y": null,
       "padding": null,
       "right": null,
       "top": null,
       "visibility": null,
       "width": null
      }
     }
    },
    "version_major": 2,
    "version_minor": 0
   }
  }
 },
 "nbformat": 4,
 "nbformat_minor": 5
}

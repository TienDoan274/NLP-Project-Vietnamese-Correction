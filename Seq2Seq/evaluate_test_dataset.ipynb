{
 "cells": [
  {
   "cell_type": "code",
   "execution_count": 1,
   "id": "344bbe02",
   "metadata": {
    "_cell_guid": "b1076dfc-b9ad-4769-8c92-a6c4dae69d19",
    "_uuid": "8f2839f25d086af736a60e9eeb907d3b93b6e0e5",
    "execution": {
     "iopub.execute_input": "2024-07-02T13:28:29.445427Z",
     "iopub.status.busy": "2024-07-02T13:28:29.444905Z",
     "iopub.status.idle": "2024-07-02T13:28:42.898927Z",
     "shell.execute_reply": "2024-07-02T13:28:42.897987Z"
    },
    "papermill": {
     "duration": 13.460585,
     "end_time": "2024-07-02T13:28:42.901138",
     "exception": false,
     "start_time": "2024-07-02T13:28:29.440553",
     "status": "completed"
    },
    "tags": []
   },
   "outputs": [
    {
     "name": "stdout",
     "output_type": "stream",
     "text": [
      "Requirement already satisfied: torchmetrics in /opt/conda/lib/python3.10/site-packages (1.4.0.post0)\r\n",
      "Requirement already satisfied: numpy>1.20.0 in /opt/conda/lib/python3.10/site-packages (from torchmetrics) (1.26.4)\r\n",
      "Requirement already satisfied: packaging>17.1 in /opt/conda/lib/python3.10/site-packages (from torchmetrics) (21.3)\r\n",
      "Requirement already satisfied: torch>=1.10.0 in /opt/conda/lib/python3.10/site-packages (from torchmetrics) (2.1.2)\r\n",
      "Requirement already satisfied: lightning-utilities>=0.8.0 in /opt/conda/lib/python3.10/site-packages (from torchmetrics) (0.11.2)\r\n",
      "Requirement already satisfied: setuptools in /opt/conda/lib/python3.10/site-packages (from lightning-utilities>=0.8.0->torchmetrics) (69.0.3)\r\n",
      "Requirement already satisfied: typing-extensions in /opt/conda/lib/python3.10/site-packages (from lightning-utilities>=0.8.0->torchmetrics) (4.9.0)\r\n",
      "Requirement already satisfied: pyparsing!=3.0.5,>=2.0.2 in /opt/conda/lib/python3.10/site-packages (from packaging>17.1->torchmetrics) (3.1.1)\r\n",
      "Requirement already satisfied: filelock in /opt/conda/lib/python3.10/site-packages (from torch>=1.10.0->torchmetrics) (3.13.1)\r\n",
      "Requirement already satisfied: sympy in /opt/conda/lib/python3.10/site-packages (from torch>=1.10.0->torchmetrics) (1.12.1)\r\n",
      "Requirement already satisfied: networkx in /opt/conda/lib/python3.10/site-packages (from torch>=1.10.0->torchmetrics) (3.2.1)\r\n",
      "Requirement already satisfied: jinja2 in /opt/conda/lib/python3.10/site-packages (from torch>=1.10.0->torchmetrics) (3.1.2)\r\n",
      "Requirement already satisfied: fsspec in /opt/conda/lib/python3.10/site-packages (from torch>=1.10.0->torchmetrics) (2024.3.1)\r\n",
      "Requirement already satisfied: MarkupSafe>=2.0 in /opt/conda/lib/python3.10/site-packages (from jinja2->torch>=1.10.0->torchmetrics) (2.1.3)\r\n",
      "Requirement already satisfied: mpmath<1.4.0,>=1.1.0 in /opt/conda/lib/python3.10/site-packages (from sympy->torch>=1.10.0->torchmetrics) (1.3.0)\r\n"
     ]
    }
   ],
   "source": [
    "!pip install torchmetrics"
   ]
  },
  {
   "cell_type": "code",
   "execution_count": 2,
   "id": "77d98b6d",
   "metadata": {
    "execution": {
     "iopub.execute_input": "2024-07-02T13:28:42.908887Z",
     "iopub.status.busy": "2024-07-02T13:28:42.908373Z",
     "iopub.status.idle": "2024-07-02T13:28:49.744777Z",
     "shell.execute_reply": "2024-07-02T13:28:49.743845Z"
    },
    "papermill": {
     "duration": 6.842797,
     "end_time": "2024-07-02T13:28:49.747153",
     "exception": false,
     "start_time": "2024-07-02T13:28:42.904356",
     "status": "completed"
    },
    "tags": []
   },
   "outputs": [],
   "source": [
    "import torch\n",
    "import numpy as np\n",
    "import pandas as pd\n",
    "from torchmetrics.functional.text import char_error_rate, word_error_rate"
   ]
  },
  {
   "cell_type": "code",
   "execution_count": 3,
   "id": "3b7bb637",
   "metadata": {
    "execution": {
     "iopub.execute_input": "2024-07-02T13:28:49.754406Z",
     "iopub.status.busy": "2024-07-02T13:28:49.753983Z",
     "iopub.status.idle": "2024-07-02T13:28:50.248875Z",
     "shell.execute_reply": "2024-07-02T13:28:50.248071Z"
    },
    "papermill": {
     "duration": 0.501012,
     "end_time": "2024-07-02T13:28:50.251293",
     "exception": false,
     "start_time": "2024-07-02T13:28:49.750281",
     "status": "completed"
    },
    "tags": []
   },
   "outputs": [],
   "source": [
    "df = pd.read_csv('/kaggle/input/new-data-set-predict/output_new_data.csv')"
   ]
  },
  {
   "cell_type": "code",
   "execution_count": 4,
   "id": "6f0dd0ee",
   "metadata": {
    "execution": {
     "iopub.execute_input": "2024-07-02T13:28:50.258978Z",
     "iopub.status.busy": "2024-07-02T13:28:50.258226Z",
     "iopub.status.idle": "2024-07-02T13:28:50.265998Z",
     "shell.execute_reply": "2024-07-02T13:28:50.265205Z"
    },
    "papermill": {
     "duration": 0.013448,
     "end_time": "2024-07-02T13:28:50.267906",
     "exception": false,
     "start_time": "2024-07-02T13:28:50.254458",
     "status": "completed"
    },
    "tags": []
   },
   "outputs": [],
   "source": [
    "pred_sents = df['predict_sentence']"
   ]
  },
  {
   "cell_type": "code",
   "execution_count": 5,
   "id": "4cecba19",
   "metadata": {
    "execution": {
     "iopub.execute_input": "2024-07-02T13:28:50.275123Z",
     "iopub.status.busy": "2024-07-02T13:28:50.274513Z",
     "iopub.status.idle": "2024-07-02T13:28:50.278402Z",
     "shell.execute_reply": "2024-07-02T13:28:50.277618Z"
    },
    "papermill": {
     "duration": 0.009413,
     "end_time": "2024-07-02T13:28:50.280260",
     "exception": false,
     "start_time": "2024-07-02T13:28:50.270847",
     "status": "completed"
    },
    "tags": []
   },
   "outputs": [],
   "source": [
    "actual_sents = df['actual_sent']"
   ]
  },
  {
   "cell_type": "code",
   "execution_count": 6,
   "id": "675e7df0",
   "metadata": {
    "execution": {
     "iopub.execute_input": "2024-07-02T13:28:50.287174Z",
     "iopub.status.busy": "2024-07-02T13:28:50.286751Z",
     "iopub.status.idle": "2024-07-02T13:40:05.980684Z",
     "shell.execute_reply": "2024-07-02T13:40:05.979750Z"
    },
    "papermill": {
     "duration": 675.702176,
     "end_time": "2024-07-02T13:40:05.985366",
     "exception": false,
     "start_time": "2024-07-02T13:28:50.283190",
     "status": "completed"
    },
    "tags": []
   },
   "outputs": [
    {
     "data": {
      "text/plain": [
       "tensor(0.0697)"
      ]
     },
     "execution_count": 6,
     "metadata": {},
     "output_type": "execute_result"
    }
   ],
   "source": [
    "cer = char_error_rate(preds=pred_sents, target=actual_sents)\n",
    "cer"
   ]
  },
  {
   "cell_type": "code",
   "execution_count": 7,
   "id": "da21f467",
   "metadata": {
    "execution": {
     "iopub.execute_input": "2024-07-02T13:40:05.993042Z",
     "iopub.status.busy": "2024-07-02T13:40:05.992553Z",
     "iopub.status.idle": "2024-07-02T13:40:40.189563Z",
     "shell.execute_reply": "2024-07-02T13:40:40.188644Z"
    },
    "papermill": {
     "duration": 34.205894,
     "end_time": "2024-07-02T13:40:40.194445",
     "exception": false,
     "start_time": "2024-07-02T13:40:05.988551",
     "status": "completed"
    },
    "tags": []
   },
   "outputs": [
    {
     "data": {
      "text/plain": [
       "tensor(0.1493)"
      ]
     },
     "execution_count": 7,
     "metadata": {},
     "output_type": "execute_result"
    }
   ],
   "source": [
    "wer = word_error_rate(preds=pred_sents, target=actual_sents)\n",
    "wer"
   ]
  }
 ],
 "metadata": {
  "kaggle": {
   "accelerator": "nvidiaTeslaT4",
   "dataSources": [
    {
     "sourceId": 186453981,
     "sourceType": "kernelVersion"
    }
   ],
   "isGpuEnabled": true,
   "isInternetEnabled": true,
   "language": "python",
   "sourceType": "notebook"
  },
  "kernelspec": {
   "display_name": "Python 3",
   "language": "python",
   "name": "python3"
  },
  "language_info": {
   "codemirror_mode": {
    "name": "ipython",
    "version": 3
   },
   "file_extension": ".py",
   "mimetype": "text/x-python",
   "name": "python",
   "nbconvert_exporter": "python",
   "pygments_lexer": "ipython3",
   "version": "3.10.13"
  },
  "papermill": {
   "default_parameters": {},
   "duration": 734.67452,
   "end_time": "2024-07-02T13:40:41.420000",
   "environment_variables": {},
   "exception": null,
   "input_path": "__notebook__.ipynb",
   "output_path": "__notebook__.ipynb",
   "parameters": {},
   "start_time": "2024-07-02T13:28:26.745480",
   "version": "2.5.0"
  }
 },
 "nbformat": 4,
 "nbformat_minor": 5
}

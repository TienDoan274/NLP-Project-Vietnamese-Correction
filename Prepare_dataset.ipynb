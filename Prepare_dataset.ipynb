{
  "cells": [
    {
      "cell_type": "code",
      "execution_count": 1,
      "metadata": {
        "colab": {
          "base_uri": "https://localhost:8080/"
        },
        "id": "fv_DJy4cc_U_",
        "outputId": "5f92b6db-33a5-4b9e-da76-033aef50e492"
      },
      "outputs": [
        {
          "name": "stdout",
          "output_type": "stream",
          "text": [
            "Looking in indexes: https://pypi.org/simple, https://pypi.ngc.nvidia.com\n",
            "Requirement already satisfied: unidecode in d:\\anaconda3\\lib\\site-packages (1.2.0)\n",
            "Requirement already satisfied: python-Levenshtein in d:\\anaconda3\\lib\\site-packages (0.25.1)\n",
            "Requirement already satisfied: Levenshtein==0.25.1 in d:\\anaconda3\\lib\\site-packages (from python-Levenshtein) (0.25.1)\n",
            "Requirement already satisfied: rapidfuzz<4.0.0,>=3.8.0 in d:\\anaconda3\\lib\\site-packages (from Levenshtein==0.25.1->python-Levenshtein) (3.9.1)\n",
            "Looking in indexes: https://pypi.org/simple, https://pypi.ngc.nvidia.com\n",
            "Requirement already satisfied: evaluate in d:\\anaconda3\\lib\\site-packages (0.4.2)\n",
            "Requirement already satisfied: datasets>=2.0.0 in d:\\anaconda3\\lib\\site-packages (from evaluate) (2.18.0)\n",
            "Requirement already satisfied: numpy>=1.17 in d:\\anaconda3\\lib\\site-packages (from evaluate) (1.23.5)\n",
            "Requirement already satisfied: dill in d:\\anaconda3\\lib\\site-packages (from evaluate) (0.3.8)\n",
            "Requirement already satisfied: pandas in d:\\anaconda3\\lib\\site-packages (from evaluate) (1.5.3)\n",
            "Requirement already satisfied: requests>=2.19.0 in d:\\anaconda3\\lib\\site-packages (from evaluate) (2.31.0)\n",
            "Requirement already satisfied: tqdm>=4.62.1 in d:\\anaconda3\\lib\\site-packages (from evaluate) (4.64.1)\n",
            "Requirement already satisfied: xxhash in d:\\anaconda3\\lib\\site-packages (from evaluate) (3.4.1)\n",
            "Requirement already satisfied: multiprocess in d:\\anaconda3\\lib\\site-packages (from evaluate) (0.70.16)\n",
            "Requirement already satisfied: fsspec>=2021.05.0 in d:\\anaconda3\\lib\\site-packages (from fsspec[http]>=2021.05.0->evaluate) (2024.2.0)\n",
            "Requirement already satisfied: huggingface-hub>=0.7.0 in d:\\anaconda3\\lib\\site-packages (from evaluate) (0.22.2)\n",
            "Requirement already satisfied: packaging in d:\\anaconda3\\lib\\site-packages (from evaluate) (23.2)\n",
            "Requirement already satisfied: filelock in d:\\anaconda3\\lib\\site-packages (from datasets>=2.0.0->evaluate) (3.13.3)\n",
            "Requirement already satisfied: pyarrow>=12.0.0 in d:\\anaconda3\\lib\\site-packages (from datasets>=2.0.0->evaluate) (14.0.2)\n",
            "Requirement already satisfied: pyarrow-hotfix in d:\\anaconda3\\lib\\site-packages (from datasets>=2.0.0->evaluate) (0.6)\n",
            "Requirement already satisfied: aiohttp in d:\\anaconda3\\lib\\site-packages (from datasets>=2.0.0->evaluate) (3.8.3)\n",
            "Requirement already satisfied: pyyaml>=5.1 in d:\\anaconda3\\lib\\site-packages (from datasets>=2.0.0->evaluate) (6.0)\n",
            "Requirement already satisfied: typing-extensions>=3.7.4.3 in d:\\anaconda3\\lib\\site-packages (from huggingface-hub>=0.7.0->evaluate) (4.9.0)\n",
            "Requirement already satisfied: charset-normalizer<4,>=2 in d:\\anaconda3\\lib\\site-packages (from requests>=2.19.0->evaluate) (2.0.4)\n",
            "Requirement already satisfied: idna<4,>=2.5 in d:\\anaconda3\\lib\\site-packages (from requests>=2.19.0->evaluate) (3.4)\n",
            "Requirement already satisfied: urllib3<3,>=1.21.1 in d:\\anaconda3\\lib\\site-packages (from requests>=2.19.0->evaluate) (1.26.14)\n",
            "Requirement already satisfied: certifi>=2017.4.17 in d:\\anaconda3\\lib\\site-packages (from requests>=2.19.0->evaluate) (2024.6.2)\n",
            "Requirement already satisfied: colorama in d:\\anaconda3\\lib\\site-packages (from tqdm>=4.62.1->evaluate) (0.4.6)\n",
            "Requirement already satisfied: python-dateutil>=2.8.1 in d:\\anaconda3\\lib\\site-packages (from pandas->evaluate) (2.8.2)\n",
            "Requirement already satisfied: pytz>=2020.1 in d:\\anaconda3\\lib\\site-packages (from pandas->evaluate) (2022.7)\n",
            "Requirement already satisfied: attrs>=17.3.0 in d:\\anaconda3\\lib\\site-packages (from aiohttp->datasets>=2.0.0->evaluate) (22.1.0)\n",
            "Requirement already satisfied: multidict<7.0,>=4.5 in d:\\anaconda3\\lib\\site-packages (from aiohttp->datasets>=2.0.0->evaluate) (6.0.2)\n",
            "Requirement already satisfied: async-timeout<5.0,>=4.0.0a3 in d:\\anaconda3\\lib\\site-packages (from aiohttp->datasets>=2.0.0->evaluate) (4.0.2)\n",
            "Requirement already satisfied: yarl<2.0,>=1.0 in d:\\anaconda3\\lib\\site-packages (from aiohttp->datasets>=2.0.0->evaluate) (1.8.1)\n",
            "Requirement already satisfied: frozenlist>=1.1.1 in d:\\anaconda3\\lib\\site-packages (from aiohttp->datasets>=2.0.0->evaluate) (1.3.3)\n",
            "Requirement already satisfied: aiosignal>=1.1.2 in d:\\anaconda3\\lib\\site-packages (from aiohttp->datasets>=2.0.0->evaluate) (1.2.0)\n",
            "Requirement already satisfied: six>=1.5 in d:\\anaconda3\\lib\\site-packages (from python-dateutil>=2.8.1->pandas->evaluate) (1.16.0)\n",
            "Looking in indexes: https://pypi.org/simple, https://pypi.ngc.nvidia.com\n",
            "Requirement already satisfied: sacrebleu in d:\\anaconda3\\lib\\site-packages (2.4.2)\n",
            "Requirement already satisfied: portalocker in d:\\anaconda3\\lib\\site-packages (from sacrebleu) (2.8.2)\n",
            "Requirement already satisfied: regex in d:\\anaconda3\\lib\\site-packages (from sacrebleu) (2022.7.9)\n",
            "Requirement already satisfied: tabulate>=0.8.9 in d:\\anaconda3\\lib\\site-packages (from sacrebleu) (0.8.10)\n",
            "Requirement already satisfied: numpy>=1.17 in d:\\anaconda3\\lib\\site-packages (from sacrebleu) (1.23.5)\n",
            "Requirement already satisfied: colorama in d:\\anaconda3\\lib\\site-packages (from sacrebleu) (0.4.6)\n",
            "Requirement already satisfied: lxml in d:\\anaconda3\\lib\\site-packages (from sacrebleu) (4.9.1)\n",
            "Requirement already satisfied: pywin32>=226 in d:\\anaconda3\\lib\\site-packages (from portalocker->sacrebleu) (305.1)\n"
          ]
        }
      ],
      "source": [
        "!pip install unidecode python-Levenshtein\n",
        "!pip install evaluate\n",
        "!pip install sacrebleu"
      ]
    },
    {
      "cell_type": "markdown",
      "metadata": {
        "id": "-UwEGTJB-Vr7"
      },
      "source": [
        "# DOWNLOAD DATASET"
      ]
    },
    {
      "cell_type": "code",
      "execution_count": 2,
      "metadata": {
        "colab": {
          "base_uri": "https://localhost:8080/"
        },
        "id": "p21Sh5xR7vlK",
        "outputId": "50df734e-373a-41f9-85db-f579d126e9bd"
      },
      "outputs": [
        {
          "name": "stderr",
          "output_type": "stream",
          "text": [
            "[nltk_data] Downloading package punkt to C:\\Users\\TIEN\n",
            "[nltk_data]     DOAN\\AppData\\Roaming\\nltk_data...\n",
            "[nltk_data]   Package punkt is already up-to-date!\n"
          ]
        },
        {
          "data": {
            "text/plain": [
              "True"
            ]
          },
          "execution_count": 2,
          "metadata": {},
          "output_type": "execute_result"
        }
      ],
      "source": [
        "from glob import glob\n",
        "import os\n",
        "import numpy as np\n",
        "import pandas as pd\n",
        "import sys\n",
        "import re\n",
        "\n",
        "import nltk\n",
        "nltk.download('punkt') # Download the Punkt tokenizer models if you haven't already\n"
      ]
    },
    {
      "cell_type": "code",
      "execution_count": 3,
      "metadata": {
        "colab": {
          "base_uri": "https://localhost:8080/"
        },
        "id": "-t1UpH1U76SB",
        "outputId": "65cf1793-7f4b-4feb-fb63-0e2270f8dc6b"
      },
      "outputs": [
        {
          "name": "stderr",
          "output_type": "stream",
          "text": [
            "Cloning into 'VNTC'...\n",
            "Updating files:  46% (7/15)\n",
            "Updating files:  53% (8/15)\n",
            "Updating files:  60% (9/15)\n",
            "Updating files:  66% (10/15)\n",
            "Updating files:  73% (11/15)\n",
            "Updating files:  80% (12/15)\n",
            "Updating files:  86% (13/15)\n",
            "Updating files:  93% (14/15)\n",
            "Updating files: 100% (15/15)\n",
            "Updating files: 100% (15/15), done.\n",
            "Filtering content: 100% (2/2)\n",
            "Filtering content: 100% (2/2), 168.95 MiB | 1.11 MiB/s, done.\n"
          ]
        }
      ],
      "source": [
        "!git clone https://github.com/duyvuleo/VNTC.git"
      ]
    },
    {
      "cell_type": "code",
      "execution_count": 11,
      "metadata": {
        "colab": {
          "base_uri": "https://localhost:8080/"
        },
        "id": "UymN7HJy8gtC",
        "outputId": "1ebdfee8-37c1-41e5-bb66-731f4be0eb0a"
      },
      "outputs": [
        {
          "name": "stdout",
          "output_type": "stream",
          "text": [
            "Looking in indexes: https://pypi.org/simple, https://pypi.ngc.nvidia.com\n",
            "Requirement already satisfied: patool in d:\\anaconda3\\lib\\site-packages (2.3.0)\n"
          ]
        }
      ],
      "source": [
        "!pip install patool"
      ]
    },
    {
      "cell_type": "code",
      "execution_count": 4,
      "metadata": {
        "colab": {
          "base_uri": "https://localhost:8080/",
          "height": 382
        },
        "collapsed": true,
        "id": "BPjzRt6y8PtF",
        "outputId": "4089590a-9122-4dad-f12a-ad2575872047"
      },
      "outputs": [
        {
          "name": "stderr",
          "output_type": "stream",
          "text": [
            "INFO patool: Extracting D:/DAI HOC/NAM 2/Kì 2/NLP/Đồ án/NLP-Project-Vietnamese-Correction/VNTC/Data/27Topics/Ver1.1/Train.rar ...\n"
          ]
        },
        {
          "ename": "PatoolError",
          "evalue": "could not find an executable program to extract format rar; candidates are rar,unrar,7z,7zz,7zzs,unar",
          "output_type": "error",
          "traceback": [
            "\u001b[1;31m---------------------------------------------------------------------------\u001b[0m",
            "\u001b[1;31mPatoolError\u001b[0m                               Traceback (most recent call last)",
            "Cell \u001b[1;32mIn[4], line 2\u001b[0m\n\u001b[0;32m      1\u001b[0m \u001b[38;5;28;01mimport\u001b[39;00m \u001b[38;5;21;01mpatoolib\u001b[39;00m\n\u001b[1;32m----> 2\u001b[0m \u001b[43mpatoolib\u001b[49m\u001b[38;5;241;43m.\u001b[39;49m\u001b[43mextract_archive\u001b[49m\u001b[43m(\u001b[49m\u001b[38;5;124;43m\"\u001b[39;49m\u001b[38;5;124;43mD:/DAI HOC/NAM 2/Kì 2/NLP/Đồ án/NLP-Project-Vietnamese-Correction/VNTC/Data/27Topics/Ver1.1/Train.rar\u001b[39;49m\u001b[38;5;124;43m\"\u001b[39;49m\u001b[43m,\u001b[49m\u001b[43m \u001b[49m\u001b[43moutdir\u001b[49m\u001b[38;5;241;43m=\u001b[39;49m\u001b[38;5;124;43m\"\u001b[39;49m\u001b[38;5;124;43m./Train\u001b[39;49m\u001b[38;5;124;43m\"\u001b[39;49m\u001b[43m)\u001b[49m\n",
            "File \u001b[1;32md:\\anaconda3\\lib\\site-packages\\patoolib\\__init__.py:994\u001b[0m, in \u001b[0;36mextract_archive\u001b[1;34m(archive, verbosity, outdir, program, interactive, password)\u001b[0m\n\u001b[0;32m    992\u001b[0m \u001b[38;5;28;01mif\u001b[39;00m verbosity \u001b[38;5;241m>\u001b[39m\u001b[38;5;241m=\u001b[39m \u001b[38;5;241m0\u001b[39m:\n\u001b[0;32m    993\u001b[0m     log\u001b[38;5;241m.\u001b[39mlog_info(\u001b[38;5;124mf\u001b[39m\u001b[38;5;124m\"\u001b[39m\u001b[38;5;124mExtracting \u001b[39m\u001b[38;5;132;01m{\u001b[39;00marchive\u001b[38;5;132;01m}\u001b[39;00m\u001b[38;5;124m ...\u001b[39m\u001b[38;5;124m\"\u001b[39m)\n\u001b[1;32m--> 994\u001b[0m \u001b[38;5;28;01mreturn\u001b[39;00m \u001b[43m_extract_archive\u001b[49m\u001b[43m(\u001b[49m\n\u001b[0;32m    995\u001b[0m \u001b[43m    \u001b[49m\u001b[43marchive\u001b[49m\u001b[43m,\u001b[49m\n\u001b[0;32m    996\u001b[0m \u001b[43m    \u001b[49m\u001b[43mverbosity\u001b[49m\u001b[38;5;241;43m=\u001b[39;49m\u001b[43mverbosity\u001b[49m\u001b[43m,\u001b[49m\n\u001b[0;32m    997\u001b[0m \u001b[43m    \u001b[49m\u001b[43minteractive\u001b[49m\u001b[38;5;241;43m=\u001b[39;49m\u001b[43minteractive\u001b[49m\u001b[43m,\u001b[49m\n\u001b[0;32m    998\u001b[0m \u001b[43m    \u001b[49m\u001b[43moutdir\u001b[49m\u001b[38;5;241;43m=\u001b[39;49m\u001b[43moutdir\u001b[49m\u001b[43m,\u001b[49m\n\u001b[0;32m    999\u001b[0m \u001b[43m    \u001b[49m\u001b[43mprogram\u001b[49m\u001b[38;5;241;43m=\u001b[39;49m\u001b[43mprogram\u001b[49m\u001b[43m,\u001b[49m\n\u001b[0;32m   1000\u001b[0m \u001b[43m    \u001b[49m\u001b[43mpassword\u001b[49m\u001b[38;5;241;43m=\u001b[39;49m\u001b[43mpassword\u001b[49m\u001b[43m,\u001b[49m\n\u001b[0;32m   1001\u001b[0m \u001b[43m\u001b[49m\u001b[43m)\u001b[49m\n",
            "File \u001b[1;32md:\\anaconda3\\lib\\site-packages\\patoolib\\__init__.py:711\u001b[0m, in \u001b[0;36m_extract_archive\u001b[1;34m(archive, verbosity, interactive, outdir, program, format, compression, password)\u001b[0m\n\u001b[0;32m    709\u001b[0m     \u001b[38;5;28mformat\u001b[39m, compression \u001b[38;5;241m=\u001b[39m get_archive_format(archive)\n\u001b[0;32m    710\u001b[0m check_archive_format(\u001b[38;5;28mformat\u001b[39m, compression)\n\u001b[1;32m--> 711\u001b[0m program \u001b[38;5;241m=\u001b[39m \u001b[43mfind_archive_program\u001b[49m\u001b[43m(\u001b[49m\n\u001b[0;32m    712\u001b[0m \u001b[43m    \u001b[49m\u001b[38;5;28;43mformat\u001b[39;49m\u001b[43m,\u001b[49m\u001b[43m \u001b[49m\u001b[38;5;124;43m'\u001b[39;49m\u001b[38;5;124;43mextract\u001b[39;49m\u001b[38;5;124;43m'\u001b[39;49m\u001b[43m,\u001b[49m\u001b[43m \u001b[49m\u001b[43mprogram\u001b[49m\u001b[38;5;241;43m=\u001b[39;49m\u001b[43mprogram\u001b[49m\u001b[43m,\u001b[49m\u001b[43m \u001b[49m\u001b[43mpassword\u001b[49m\u001b[38;5;241;43m=\u001b[39;49m\u001b[43mpassword\u001b[49m\n\u001b[0;32m    713\u001b[0m \u001b[43m\u001b[49m\u001b[43m)\u001b[49m\n\u001b[0;32m    714\u001b[0m check_program_compression(archive, \u001b[38;5;124m'\u001b[39m\u001b[38;5;124mextract\u001b[39m\u001b[38;5;124m'\u001b[39m, program, compression)\n\u001b[0;32m    715\u001b[0m get_archive_cmdlist \u001b[38;5;241m=\u001b[39m get_archive_cmdlist_func(program, \u001b[38;5;124m'\u001b[39m\u001b[38;5;124mextract\u001b[39m\u001b[38;5;124m'\u001b[39m, \u001b[38;5;28mformat\u001b[39m)\n",
            "File \u001b[1;32md:\\anaconda3\\lib\\site-packages\\patoolib\\__init__.py:564\u001b[0m, in \u001b[0;36mfind_archive_program\u001b[1;34m(format, command, program, password)\u001b[0m\n\u001b[0;32m    562\u001b[0m         \u001b[38;5;28;01mreturn\u001b[39;00m exe\n\u001b[0;32m    563\u001b[0m \u001b[38;5;66;03m# no programs found\u001b[39;00m\n\u001b[1;32m--> 564\u001b[0m \u001b[38;5;28;01mraise\u001b[39;00m util\u001b[38;5;241m.\u001b[39mPatoolError(\n\u001b[0;32m    565\u001b[0m     \u001b[38;5;124mf\u001b[39m\u001b[38;5;124m\"\u001b[39m\u001b[38;5;124mcould not find an executable program to \u001b[39m\u001b[38;5;132;01m{\u001b[39;00mcommand\u001b[38;5;132;01m}\u001b[39;00m\u001b[38;5;124m format \u001b[39m\u001b[38;5;132;01m{\u001b[39;00m\u001b[38;5;28mformat\u001b[39m\u001b[38;5;132;01m}\u001b[39;00m\u001b[38;5;124m; candidates are \u001b[39m\u001b[38;5;124m\"\u001b[39m\n\u001b[0;32m    566\u001b[0m     \u001b[38;5;241m+\u001b[39m \u001b[38;5;124m\"\u001b[39m\u001b[38;5;124m,\u001b[39m\u001b[38;5;124m\"\u001b[39m\u001b[38;5;241m.\u001b[39mjoin(programs)\n\u001b[0;32m    567\u001b[0m )\n",
            "\u001b[1;31mPatoolError\u001b[0m: could not find an executable program to extract format rar; candidates are rar,unrar,7z,7zz,7zzs,unar"
          ]
        }
      ],
      "source": [
        "import patoolib\n",
        "patoolib.extract_archive(\"./VNTC/Data/27Topics/Ver1.1/Train.rar\", outdir=\"./Train\")\n",
        "patoolib.extract_archive(\"./VNTC/Data/27Topics/Ver1.1/Test.rar\", outdir=\"./Test\")\n"
      ]
    },
    {
      "cell_type": "code",
      "execution_count": null,
      "metadata": {
        "colab": {
          "base_uri": "https://localhost:8080/"
        },
        "id": "qJlqLhwK7vlR",
        "outputId": "079df361-71bd-404c-c835-29a1fbe0cef0"
      },
      "outputs": [
        {
          "data": {
            "text/plain": [
              "26451"
            ]
          },
          "execution_count": 6,
          "metadata": {},
          "output_type": "execute_result"
        }
      ],
      "source": [
        "file_paths_train = glob('./Train/new train/*/*.txt')\n",
        "file_paths_test = glob('./Test/new test/*/*.txt')\n",
        "file_paths = file_paths_train + file_paths_test\n",
        "len(file_paths)"
      ]
    },
    {
      "cell_type": "markdown",
      "metadata": {
        "id": "OehWRG_C-fkd"
      },
      "source": [
        "# PREPARE DATA"
      ]
    },
    {
      "cell_type": "code",
      "execution_count": null,
      "metadata": {
        "colab": {
          "base_uri": "https://localhost:8080/"
        },
        "id": "gxflc8QA7vlS",
        "outputId": "2c8dce45-dc17-465f-906e-206e2b0680e9"
      },
      "outputs": [
        {
          "name": "stderr",
          "output_type": "stream",
          "text": [
            "<ipython-input-7-d05506e76d3e>:1: TqdmExperimentalWarning: Using `tqdm.autonotebook.tqdm` in notebook mode. Use `tqdm.tqdm` instead to force console mode (e.g. in jupyter console)\n",
            "  from tqdm.autonotebook import tqdm\n"
          ]
        }
      ],
      "source": [
        "from tqdm.autonotebook import tqdm"
      ]
    },
    {
      "cell_type": "code",
      "execution_count": null,
      "metadata": {
        "colab": {
          "base_uri": "https://localhost:8080/",
          "height": 49,
          "referenced_widgets": [
            "76f8873031544309ae64f65312255cdd",
            "6030a5dd75404f0c97f54c07d99174bc",
            "2209f1f7bd2d4ebe82bfe32fd0e996d0",
            "24c8cc93764043d09ad362cca4bb7082",
            "b6f47e996bf04a7a8f4668ab26a0eb74",
            "06b76605048d43fea37cdc97a0877fdb",
            "5325154bdc1c4ca5aad9fa986ac73c6e",
            "701d5b5c5e634fac9d8cbdd9acd45eba",
            "b0c297c0634a4738a6182c3519679118",
            "7037e40fb2a745a0bddd1338ec834874",
            "32922f7126624f6db6d7cf93f0ad4211"
          ]
        },
        "id": "1JNMZvZ_7vlS",
        "outputId": "1a3a1bbe-d018-4cb6-ba75-be5ac5c8dc60"
      },
      "outputs": [
        {
          "data": {
            "application/vnd.jupyter.widget-view+json": {
              "model_id": "76f8873031544309ae64f65312255cdd",
              "version_major": 2,
              "version_minor": 0
            },
            "text/plain": [
              "  0%|          | 0/26451 [00:00<?, ?it/s]"
            ]
          },
          "metadata": {},
          "output_type": "display_data"
        }
      ],
      "source": [
        "data = []\n",
        "count = 0\n",
        "for path in tqdm(file_paths):\n",
        "  with open(path,'rb') as f:\n",
        "    contents = f.read()\n",
        "    contents = contents.decode(\"utf-16\")\n",
        "    contents = contents.replace(\"\\r\\n\",\". \")\n",
        "    sentences = nltk.sent_tokenize(contents)\n",
        "\n",
        "    data.extend(sentences)\n",
        "\n",
        "# Shuffle\n",
        "import random\n",
        "\n",
        "random.shuffle(data)"
      ]
    },
    {
      "cell_type": "code",
      "execution_count": null,
      "metadata": {
        "colab": {
          "base_uri": "https://localhost:8080/",
          "height": 49,
          "referenced_widgets": [
            "d599bd7fdf4148fdb203397d4dffc90d",
            "0ae438932b1a4d619116e115dbebc5fc",
            "efb0d94aa11d487c8794eee71ded353b",
            "ce6c8ed557ea4188b3520fc1e14eb2ba",
            "6fdaab153cca4e3689f170157b873756",
            "dd0d79136e6f4cbe99aa49db5abfe930",
            "111499f03bcf455e8ccf332f93450616",
            "db5caf6d629b40b3b649acf3c59ae6e1",
            "f9e3b537f080420faabff39e855b301e",
            "ef56597f7c8242a7ac123b13b68f0a48",
            "be134a39e0b54df6bebe6b8a4744980f"
          ]
        },
        "id": "KP6HIsUt7vlT",
        "outputId": "9f96d963-c1e8-4c11-bb15-1bb2a13bd76e"
      },
      "outputs": [
        {
          "data": {
            "application/vnd.jupyter.widget-view+json": {
              "model_id": "d599bd7fdf4148fdb203397d4dffc90d",
              "version_major": 2,
              "version_minor": 0
            },
            "text/plain": [
              "  0%|          | 0/653815 [00:00<?, ?it/s]"
            ]
          },
          "metadata": {},
          "output_type": "display_data"
        }
      ],
      "source": [
        "data_processed = []\n",
        "\n",
        "# Use tqdm to create a progress bar\n",
        "for content in tqdm(data):\n",
        "    if len(content) > 50:\n",
        "        content = content.replace('..', '.'). \\\n",
        "                            replace('\"', ''). \\\n",
        "                            replace(': .', '.'). \\\n",
        "                            replace('. .', '.'). \\\n",
        "                            replace(\"'\", ''). \\\n",
        "                            replace('“', ''). \\\n",
        "                            replace('”', '')\n",
        "\n",
        "        # Check length of words\n",
        "        words = content.split()\n",
        "        for word in words:\n",
        "            if len(word) > 10:\n",
        "                content = None\n",
        "\n",
        "        if content == None:\n",
        "            continue\n",
        "\n",
        "        if content[0] == '-':\n",
        "            content = content.replace('-', '')\n",
        "\n",
        "        if content[0] == ' ':\n",
        "            content = content[1:]\n",
        "\n",
        "        if '. - ' in content:\n",
        "            content = content.replace('. - ', '. ')\n",
        "\n",
        "        if '.. ' in content:\n",
        "            content = content.replace('.. ', '... ')\n",
        "\n",
        "        if '?.' in content:\n",
        "            content = content.replace('?.', '?')\n",
        "\n",
        "        if ' ?.' in content:\n",
        "            content = content.replace(' ?.', '?')\n",
        "\n",
        "        if '&' in content:\n",
        "            continue\n",
        "\n",
        "        if '( ' in content:\n",
        "            content = content.replace('( ', '(')\n",
        "\n",
        "        if ' )' in content:\n",
        "            content = content.replace(' )', ')')\n",
        "\n",
        "        if '()' in content:\n",
        "            content = content.replace('()', '')\n",
        "\n",
        "        if content[-2:] == ' .':\n",
        "            content = content.replace(content[-2:], '.')\n",
        "            #print(content)\n",
        "\n",
        "        if '… ' in content:\n",
        "            content = content.replace('… ', '... ')\n",
        "\n",
        "        if '….' in content:\n",
        "            content = content.replace('….', '...')\n",
        "\n",
        "        if '…' in content:\n",
        "            continue\n",
        "\n",
        "        if ':.' in content:\n",
        "            continue\n",
        "\n",
        "        if content.isascii():\n",
        "            continue\n",
        "\n",
        "        if '  ' in content:\n",
        "            content = content.replace('  ', ' ')\n",
        "\n",
        "        match = re.search(r\"\\.\\s\\d+\\.$\", content)\n",
        "        if match:\n",
        "            content = re.sub(r\"\\.\\s\\d+\\.$\", \".\", content)\n",
        "\n",
        "        if content[0] == '·':\n",
        "            continue\n",
        "\n",
        "\n",
        "        data_processed.append(content)\n"
      ]
    },
    {
      "cell_type": "code",
      "execution_count": null,
      "metadata": {
        "colab": {
          "base_uri": "https://localhost:8080/"
        },
        "id": "3caQJXir7vlT",
        "outputId": "30a4da70-0f25-4c3d-b59f-c98bc309a60c"
      },
      "outputs": [
        {
          "data": {
            "text/plain": [
              "369673"
            ]
          },
          "execution_count": 10,
          "metadata": {},
          "output_type": "execute_result"
        }
      ],
      "source": [
        "len(data_processed)"
      ]
    },
    {
      "cell_type": "code",
      "execution_count": null,
      "metadata": {
        "colab": {
          "base_uri": "https://localhost:8080/"
        },
        "id": "U4R4VbSE7vlU",
        "outputId": "82eac4df-77b9-4e05-927f-fae2397832a1"
      },
      "outputs": [
        {
          "name": "stdout",
          "output_type": "stream",
          "text": [
            "359993\n"
          ]
        }
      ],
      "source": [
        "# extract Latin- characters only\n",
        "alphabet = '^[ _abcdefghijklmnopqrstuvwxyz0123456789áàảãạâấầẩẫậăắằẳẵặóòỏõọôốồổỗộơớờởỡợéèẻẽẹêếềểễệúùủũụưứừửữựíìỉĩịýỳỷỹỵđ!/\\\"\\',\\-\\.:;?_\\(\\)]+$'\n",
        "data=[]\n",
        "\n",
        "for sentence in data_processed:\n",
        "    if re.match(alphabet, sentence.lower()):\n",
        "        sentence = sentence.strip()\n",
        "\n",
        "        data.append(sentence)\n",
        "\n",
        "print(len(data))"
      ]
    },
    {
      "cell_type": "markdown",
      "metadata": {
        "id": "xt29eWD7fNhW"
      },
      "source": [
        "# CHIA TRAIN VÀ TEST"
      ]
    },
    {
      "cell_type": "code",
      "execution_count": null,
      "metadata": {
        "id": "FUkvL9zNfMHq"
      },
      "outputs": [],
      "source": [
        "test_size = int(0.1*len(data))\n",
        "\n",
        "train_data = data[:-test_size]\n",
        "test_data = data[-test_size:]"
      ]
    },
    {
      "cell_type": "markdown",
      "metadata": {
        "id": "065JAieR-141"
      },
      "source": [
        "# NGRAM TRAIN"
      ]
    },
    {
      "cell_type": "code",
      "execution_count": null,
      "metadata": {
        "colab": {
          "base_uri": "https://localhost:8080/"
        },
        "id": "4JZaqLjR7vlV",
        "outputId": "90a338c3-b01a-410a-f0ad-f92ed791a4d8"
      },
      "outputs": [
        {
          "name": "stderr",
          "output_type": "stream",
          "text": [
            "100%|██████████| 302492/302492 [00:03<00:00, 84939.76it/s] \n"
          ]
        }
      ],
      "source": [
        "import nltk\n",
        "import pandas as pd\n",
        "from tqdm import tqdm\n",
        "import re\n",
        "import itertools\n",
        "import sys\n",
        "import numpy as np\n",
        "\n",
        "def extract_phrases(text):\n",
        "        return re.findall(r'\\w[\\w ]+', text)\n",
        "\n",
        "def gen_ngrams(text, n=5):\n",
        "    tokens = text.split()\n",
        "\n",
        "    return [tokens] if len(tokens) < n else nltk.ngrams(text.split(), n)\n",
        "\n",
        "def processing(data):\n",
        "\n",
        "    phrases = itertools.chain.from_iterable(extract_phrases(text) for text in data)\n",
        "    print(phrases[:5])\n",
        "    phrases = [p.strip() for p in phrases if len(p.split()) > 1]\n",
        "    print(phrases[:5])\n",
        "    # gen ngrams\n",
        "    list_ngrams = []\n",
        "    for p in tqdm(phrases):\n",
        "\n",
        "        list_ngrams.extend(\n",
        "            \" \".join(ngr)\n",
        "            for ngr in gen_ngrams(p, 5)\n",
        "            if len(\" \".join(ngr)) < 46\n",
        "        )\n",
        "\n",
        "    return list_ngrams\n",
        "\n",
        "train_ngrams = processing(train_data)\n"
      ]
    },
    {
      "cell_type": "code",
      "execution_count": null,
      "metadata": {
        "colab": {
          "base_uri": "https://localhost:8080/"
        },
        "id": "ixYs47-43poq",
        "outputId": "f635b13c-8693-4d26-f49e-778af45b5520"
      },
      "outputs": [
        {
          "data": {
            "text/plain": [
              "2026887"
            ]
          },
          "execution_count": 54,
          "metadata": {},
          "output_type": "execute_result"
        }
      ],
      "source": [
        "len(train_ngrams)"
      ]
    },
    {
      "cell_type": "markdown",
      "metadata": {
        "id": "aLLxFRcr-_1a"
      },
      "source": [
        "# ADD NOISE"
      ]
    },
    {
      "cell_type": "code",
      "execution_count": null,
      "metadata": {
        "colab": {
          "base_uri": "https://localhost:8080/"
        },
        "id": "iTw2dKIvgZq5",
        "outputId": "ca1934b8-65d9-4fea-f5f1-10afb0101aec"
      },
      "outputs": [
        {
          "name": "stderr",
          "output_type": "stream",
          "text": [
            "[nltk_data] Downloading package punkt to /root/nltk_data...\n",
            "[nltk_data]   Package punkt is already up-to-date!\n"
          ]
        }
      ],
      "source": [
        "import numpy as np\n",
        "import re\n",
        "import unidecode\n",
        "import nltk\n",
        "nltk.download('punkt')\n",
        "from nltk.tokenize import word_tokenize\n",
        "import string\n",
        "\n",
        "\n",
        "class SynthesizeData(object):\n",
        "    \"\"\"\n",
        "    Uitils class to create artificial miss-spelled words\n",
        "    Args:\n",
        "        vocab_path: path to vocab file. Vocab file is expected to be a set of words, separate by ' ', no newline charactor.\n",
        "    \"\"\"\n",
        "\n",
        "    def __init__(self, vocab_path=\"\"):\n",
        "\n",
        "        self.tokenizer = word_tokenize\n",
        "        self.word_couples = [['sương', 'xương'], ['sĩ', 'sỹ'], ['sẽ', 'sẻ'], ['sã', 'sả'], ['sả', 'xả'], ['sẽ', 'sẻ'],\n",
        "                             ['mùi', 'muồi'],\n",
        "                             ['chỉnh', 'chỉn'], ['sữa', 'sửa'], ['chuẩn', 'chẩn'], ['lẻ', 'lẽ'], ['chẳng', 'chẵng'],\n",
        "                             ['cổ', 'cỗ'],\n",
        "                             ['sát', 'xát'], ['cập', 'cặp'], ['truyện', 'chuyện'], ['xá', 'sá'], ['giả', 'dả'],\n",
        "                             ['đỡ', 'đở'],\n",
        "                             ['giữ', 'dữ'], ['giã', 'dã'], ['xảo', 'sảo'], ['kiểm', 'kiễm'], ['cuộc', 'cục'],\n",
        "                             ['dạng', 'dạn'],\n",
        "                             ['tản', 'tảng'], ['ngành', 'nghành'], ['nghề', 'ngề'], ['nổ', 'nỗ'], ['rảnh', 'rãnh'],\n",
        "                             ['sẵn', 'sẳn'],\n",
        "                             ['sáng', 'xán'], ['xuất', 'suất'], ['suôn', 'suông'], ['sử', 'xử'], ['sắc', 'xắc'],\n",
        "                             ['chữa', 'chửa'],\n",
        "                             ['thắn', 'thắng'], ['dỡ', 'dở'], ['trải', 'trãi'], ['trao', 'trau'], ['trung', 'chung'],\n",
        "                             ['thăm', 'tham'],\n",
        "                             ['sét', 'xét'], ['dục', 'giục'], ['tả', 'tã'], ['sông', 'xông'], ['sáo', 'xáo'],\n",
        "                             ['sang', 'xang'],['tôi','tui'],\n",
        "                             ['ngã', 'ngả'], ['xuống', 'suống'], ['xuồng', 'suồng']]\n",
        "\n",
        "        self.char_couples = [['i', 'y'], ['s', 'x'], ['gi', 'd'],\n",
        "                             ['ă', 'â'], ['ch', 'tr'], ['ng', 'n'],['b','p'],['r','g'],\n",
        "                             ['nh', 'n'], ['ngh', 'ng'], ['ục', 'uộc'], ['o', 'u'],\n",
        "                             ['ă', 'a'], ['o', 'ô'], ['ả', 'ã'], ['ổ', 'ỗ'], ['ủ', 'ũ'], ['ễ', 'ể'],\n",
        "                             ['e', 'ê'], ['à', 'ờ'], ['ằ', 'à'], ['ẩn', 'uẩn'], ['ẽ', 'ẻ'], ['ùi', 'uồi'], ['ă', 'â'],\n",
        "                             ['ở', 'ỡ'], ['ỹ', 'ỷ'], ['ỉ', 'ĩ'], ['ị', 'ỵ'],\n",
        "                             ['ấ', 'á'], ['n', 'l'], ['qu', 'w'], ['ph', 'f'], ['d', 'z'], ['c', 'k'], ['qu', 'q'],\n",
        "                             ['i', 'j'], ['gi', 'j'],['gi','z'],['qu','v'],['m','n']\n",
        "                             ]\n",
        "\n",
        "        self.teencode_dict = {'mình': ['mk', 'mik', 'mjk'], 'vô': ['zô', 'zo', 'vo'], 'vậy': ['zậy', 'z', 'zay', 'za'],\n",
        "                              'phải': ['fải', 'fai', ], 'biết': ['bit', 'biet'],\n",
        "                              'rồi': ['rùi', 'ròi', 'r'], 'bây': ['bi', 'bay'], 'giờ': ['h', ],\n",
        "                              'không': ['k', 'ko', 'khong', 'hk', 'hong', 'hông', '0', 'kg', 'kh', ],\n",
        "                              'đi': ['di', 'dj', ], 'gì': ['j', ], 'em': ['e', ], 'được': ['dc', 'đc', ], 'tao': ['t'],\n",
        "                              'tôi': ['t'], 'chồng': ['ck'], 'vợ': ['vk']\n",
        "\n",
        "                              }\n",
        "\n",
        "        self.typo={\"ă\":\"aw\",\"â\":\"aa\",\"á\":\"as\",\"à\":\"af\",\"ả\":\"ar\",\"ã\":\"ax\",\"ạ\":\"aj\",\"ắ\":\"aws\",\"ổ\":\"oor\",\"ỗ\":\"oox\",\"ộ\":\"ooj\",\"ơ\":\"ow\",\n",
        "                  \"ằ\":\"awf\",\"ẳ\":\"awr\",\"ẵ\":\"awx\",\"ặ\":\"awj\",\"ó\":\"os\",\"ò\":\"of\",\"ỏ\":\"or\",\"õ\":\"ox\",\"ọ\":\"oj\",\"ô\":\"oo\",\"ố\":\"oos\",\"ồ\":\"oof\",\n",
        "                  \"ớ\":\"ows\",\"ờ\":\"owf\",\"ở\":\"owr\",\"ỡ\":\"owx\",\"ợ\":\"owj\",\"é\":\"es\",\"è\":\"ef\",\"ẻ\":\"er\",\"ẽ\":\"ex\",\"ẹ\":\"ej\",\"ê\":\"ee\",\"ế\":\"ees\",\"ề\":\"eef\",\n",
        "                  \"ể\":\"eer\",\"ễ\":\"eex\",\"ệ\":\"eej\",\"ú\":\"us\",\"ù\":\"uf\",\"ủ\":\"ur\",\"ũ\":\"ux\",\"ụ\":\"uj\",\"ư\":\"uw\",\"ứ\":\"uws\",\"ừ\":\"uwf\",\"ử\":\"uwr\",\"ữ\":\"uwx\",\n",
        "                  \"ự\":\"uwj\",\"í\":\"is\",\"ì\":\"if\",\"ỉ\":\"ir\",\"ị\":\"ij\",\"ĩ\":\"ix\",\"ý\":\"ys\",\"ỳ\":\"yf\",\"ỷ\":\"yr\",\"ỵ\":\"yj\",\"đ\":\"dd\",\n",
        "                  \"Ă\":\"Aw\",\"Â\":\"Aa\",\"Á\":\"As\",\"À\":\"Af\",\"Ả\":\"Ar\",\"Ã\":\"Ax\",\"Ạ\":\"Aj\",\"Ắ\":\"Aws\",\"Ổ\":\"Oor\",\"Ỗ\":\"Oox\",\"Ộ\":\"Ooj\",\"Ơ\":\"Ow\",\n",
        "                  \"Ằ\":\"AWF\",\"Ẳ\":\"Awr\",\"Ẵ\":\"Awx\",\"Ặ\":\"Awj\",\"Ó\":\"Os\",\"Ò\":\"Of\",\"Ỏ\":\"Or\",\"Õ\":\"Ox\",\"Ọ\":\"Oj\",\"Ô\":\"Oo\",\"Ố\":\"Oos\",\"Ồ\":\"Oof\",\n",
        "                  \"Ớ\":\"Ows\",\"Ờ\":\"Owf\",\"Ở\":\"Owr\",\"Ỡ\":\"Owx\",\"Ợ\":\"Owj\",\"É\":\"Es\",\"È\":\"Ef\",\"Ẻ\":\"Er\",\"Ẽ\":\"Ex\",\"Ẹ\":\"Ej\",\"Ê\":\"Ee\",\"Ế\":\"Ees\",\"Ề\":\"Eef\",\n",
        "                  \"Ể\":\"Eer\",\"Ễ\":\"Eex\",\"Ệ\":\"Eej\",\"Ú\":\"Us\",\"Ù\":\"Uf\",\"Ủ\":\"Ur\",\"Ũ\":\"Ux\",\"Ụ\":\"Uj\",\"Ư\":\"Uw\",\"Ứ\":\"Uws\",\"Ừ\":\"Uwf\",\"Ử\":\"Uwr\",\"Ữ\":\"Uwx\",\n",
        "                  \"Ự\":\"Uwj\",\"Í\":\"Is\",\"Ì\":\"If\",\"Ỉ\":\"Ir\",\"Ị\":\"Ij\",\"Ĩ\":\"Ix\",\"Ý\":\"Ys\",\"Ỳ\":\"Yf\",\"Ỷ\":\"Yr\",\"Ỵ\":\"Yj\",\"Đ\":\"Dd\"}\n",
        "        # self.typo = {\"ă\": [\"aw\", \"a8\"], \"â\": [\"aa\", \"a6\"], \"á\": [\"as\", \"a1\"], \"à\": [\"af\", \"a2\"], \"ả\": [\"ar\", \"a3\"],\n",
        "        #              \"ã\": [\"ax\", \"a4\"], \"ạ\": [\"aj\", \"a5\"], \"ắ\": [\"aws\", \"ă1\"], \"ổ\": [\"oor\", \"ô3\"], \"ỗ\": [\"oox\", \"ô4\"],\n",
        "        #              \"ộ\": [\"ooj\", \"ô5\"], \"ơ\": [\"ow\", \"o7\"],\n",
        "        #              \"ằ\": [\"awf\", \"ă2\"], \"ẳ\": [\"awr\", \"ă3\"], \"ẵ\": [\"awx\", \"ă4\"], \"ặ\": [\"awj\", \"ă5\"], \"ó\": [\"os\", \"o1\"],\n",
        "        #              \"ò\": [\"of\", \"o2\"], \"ỏ\": [\"or\", \"o3\"], \"õ\": [\"ox\", \"o4\"], \"ọ\": [\"oj\", \"o5\"], \"ô\": [\"oo\", \"o6\"],\n",
        "        #              \"ố\": [\"oos\", \"ô1\"], \"ồ\": [\"oof\", \"ô2\"],\n",
        "        #              \"ớ\": [\"ows\", \"ơ1\"], \"ờ\": [\"owf\", \"ơ2\"], \"ở\": [\"owr\", \"ơ2\"], \"ỡ\": [\"owx\", \"ơ4\"], \"ợ\": [\"owj\", \"ơ5\"],\n",
        "        #              \"é\": [\"es\", \"e1\"], \"è\": [\"ef\", \"e2\"], \"ẻ\": [\"er\", \"e3\"], \"ẽ\": [\"ex\", \"e4\"], \"ẹ\": [\"ej\", \"e5\"],\n",
        "        #              \"ê\": [\"ee\", \"e6\"], \"ế\": [\"ees\", \"ê1\"], \"ề\": [\"eef\", \"ê2\"],\n",
        "        #              \"ể\": [\"eer\", \"ê3\"], \"ễ\": [\"eex\", \"ê3\"], \"ệ\": [\"eej\", \"ê5\"], \"ú\": [\"us\", \"u1\"], \"ù\": [\"uf\", \"u2\"],\n",
        "        #              \"ủ\": [\"ur\", \"u3\"], \"ũ\": [\"ux\", \"u4\"], \"ụ\": [\"uj\", \"u5\"], \"ư\": [\"uw\", \"u7\"], \"ứ\": [\"uws\", \"ư1\"],\n",
        "        #              \"ừ\": [\"uwf\", \"ư2\"], \"ử\": [\"uwr\", \"ư3\"], \"ữ\": [\"uwx\", \"ư4\"],\n",
        "        #              \"ự\": [\"uwj\", \"ư5\"], \"í\": [\"is\", \"i1\"], \"ì\": [\"if\", \"i2\"], \"ỉ\": [\"ir\", \"i3\"], \"ị\": [\"ij\", \"i5\"],\n",
        "        #              \"ĩ\": [\"ix\", \"i4\"], \"ý\": [\"ys\", \"y1\"], \"ỳ\": [\"yf\", \"y2\"], \"ỷ\": [\"yr\", \"y3\"], \"ỵ\": [\"yj\", \"y5\"],\n",
        "        #              \"đ\": [\"dd\", \"d9\"],\n",
        "        #              \"Ă\": [\"Aw\", \"A8\"], \"Â\": [\"Aa\", \"A6\"], \"Á\": [\"As\", \"A1\"], \"À\": [\"Af\", \"A2\"], \"Ả\": [\"Ar\", \"A3\"],\n",
        "        #              \"Ã\": [\"Ax\", \"A4\"], \"Ạ\": [\"Aj\", \"A5\"], \"Ắ\": [\"Aws\", \"Ă1\"], \"Ổ\": [\"Oor\", \"Ô3\"], \"Ỗ\": [\"Oox\", \"Ô4\"],\n",
        "        #              \"Ộ\": [\"Ooj\", \"Ô5\"], \"Ơ\": [\"Ow\", \"O7\"],\n",
        "        #              \"Ằ\": [\"AWF\", \"Ă2\"], \"Ẳ\": [\"Awr\", \"Ă3\"], \"Ẵ\": [\"Awx\", \"Ă4\"], \"Ặ\": [\"Awj\", \"Ă5\"], \"Ó\": [\"Os\", \"O1\"],\n",
        "        #              \"Ò\": [\"Of\", \"O2\"], \"Ỏ\": [\"Or\", \"O3\"], \"Õ\": [\"Ox\", \"O4\"], \"Ọ\": [\"Oj\", \"O5\"], \"Ô\": [\"Oo\", \"O6\"],\n",
        "        #              \"Ố\": [\"Oos\", \"Ô1\"], \"Ồ\": [\"Oof\", \"Ô2\"],\n",
        "        #              \"Ớ\": [\"Ows\", \"Ơ1\"], \"Ờ\": [\"Owf\", \"Ơ2\"], \"Ở\": [\"Owr\", \"Ơ3\"], \"Ỡ\": [\"Owx\", \"Ơ4\"], \"Ợ\": [\"Owj\", \"Ơ5\"],\n",
        "        #              \"É\": [\"Es\", \"E1\"], \"È\": [\"Ef\", \"E2\"], \"Ẻ\": [\"Er\", \"E3\"], \"Ẽ\": [\"Ex\", \"E4\"], \"Ẹ\": [\"Ej\", \"E5\"],\n",
        "        #              \"Ê\": [\"Ee\", \"E6\"], \"Ế\": [\"Ees\", \"Ê1\"], \"Ề\": [\"Eef\", \"Ê2\"],\n",
        "        #              \"Ể\": [\"Eer\", \"Ê3\"], \"Ễ\": [\"Eex\", \"Ê4\"], \"Ệ\": [\"Eej\", \"Ê5\"], \"Ú\": [\"Us\", \"U1\"], \"Ù\": [\"Uf\", \"U2\"],\n",
        "        #              \"Ủ\": [\"Ur\", \"U3\"], \"Ũ\": [\"Ux\", \"U4\"], \"Ụ\": [\"Uj\", \"U5\"], \"Ư\": [\"Uw\", \"U7\"], \"Ứ\": [\"Uws\", \"Ư1\"],\n",
        "        #              \"Ừ\": [\"Uwf\", \"Ư2\"], \"Ử\": [\"Uwr\", \"Ư3\"], \"Ữ\": [\"Uwx\", \"Ư4\"],\n",
        "        #              \"Ự\": [\"Uwj\", \"Ư5\"], \"Í\": [\"Is\", \"I1\"], \"Ì\": [\"If\", \"I2\"], \"Ỉ\": [\"Ir\", \"I3\"], \"Ị\": [\"Ij\", \"I5\"],\n",
        "        #              \"Ĩ\": [\"Ix\", \"I4\"], \"Ý\": [\"Ys\", \"Y1\"], \"Ỳ\": [\"Yf\", \"Y2\"], \"Ỷ\": [\"Yr\", \"Y3\"], \"Ỵ\": [\"Yj\", \"Y5\"],\n",
        "        #              \"Đ\": [\"Dd\", \"D9\"]}\n",
        "\n",
        "        self.all_word_candidates = self.get_all_word_candidates(self.word_couples)\n",
        "        self.string_all_word_candidates = ' '.join(self.all_word_candidates)\n",
        "        self.all_char_candidates = self.get_all_char_candidates()\n",
        "\n",
        "    def replace_teencode(self, word):\n",
        "        candidates = self.teencode_dict.get(word, None)\n",
        "        if candidates is not None:\n",
        "            chosen_one = 0\n",
        "            if len(candidates) > 1:\n",
        "                chosen_one = np.random.randint(0, len(candidates))\n",
        "            return candidates[chosen_one]\n",
        "\n",
        "\n",
        "    def replace_word_candidate(self, word):\n",
        "        \n",
        "        capital_flag = word[0].isupper()\n",
        "        word = word.lower()\n",
        "        if capital_flag and word in self.teencode_dict:\n",
        "            return self.replace_teencode(word).capitalize()\n",
        "        elif word in self.teencode_dict:\n",
        "            return self.replace_teencode(word)\n",
        "\n",
        "        for couple in self.word_couples:\n",
        "            for i in range(2):\n",
        "                if couple[i] == word:\n",
        "                    if i == 0:\n",
        "                        return couple[1].capitalize() if capital_flag else couple[1]\n",
        "                    else:\n",
        "                        return couple[0].capitalize() if capital_flag else couple[0]\n",
        "\n",
        "    def replace_char_candidate(self, char):\n",
        "        \n",
        "        for couple in self.char_couples:\n",
        "            for i in range(2):\n",
        "                if couple[i] == char:\n",
        "                    return couple[1] if i == 0 else couple[0]\n",
        "\n",
        "    def replace_char_candidate_typo(self, char):\n",
        "       \n",
        "        i = np.random.randint(0, 2)\n",
        "\n",
        "        return self.typo[char][i]\n",
        "\n",
        "    def get_all_char_candidates(self, ):\n",
        "\n",
        "        all_char_candidates = []\n",
        "        for couple in self.char_couples:\n",
        "            all_char_candidates.extend(couple)\n",
        "        return all_char_candidates\n",
        "\n",
        "    def get_all_word_candidates(self, word_couples):\n",
        "\n",
        "        all_word_candidates = []\n",
        "        for couple in self.word_couples:\n",
        "            all_word_candidates.extend(couple)\n",
        "        return all_word_candidates\n",
        "\n",
        "    def remove_diacritics(self, text, onehot_label):\n",
        "       \n",
        "        idx = np.random.randint(0, len(onehot_label))\n",
        "        prevent_loop = 0\n",
        "        # Tìm từ phù hợp (Chưa được sửa và từ đó có dấu chữ như ô,ơ,ă,ể,ậ...)\n",
        "        while onehot_label[idx] == 1 or text[idx] == unidecode.unidecode(text[idx]) or text[idx] in string.punctuation:\n",
        "            idx = np.random.randint(0, len(onehot_label))\n",
        "            prevent_loop += 1\n",
        "            if prevent_loop > 10:\n",
        "                return False, text, onehot_label\n",
        "\n",
        "        onehot_label[idx] = 1\n",
        "        # Đổi thành chữ không có dấu\n",
        "        text[idx] = unidecode.unidecode(text[idx])\n",
        "        return True, text, onehot_label\n",
        "\n",
        "    def remove_letter(self, text, onehot_label):\n",
        "        # Bỏ một chữ của 1 từ trong câu\n",
        "        idx = np.random.randint(0, len(onehot_label))\n",
        "        prevent_loop = 0\n",
        "        # Tìm từ hợp lệ để thay đổi\n",
        "        while onehot_label[idx] == 1 or text[idx].isnumeric() or text[idx] in string.punctuation:\n",
        "            idx = np.random.randint(0, len(onehot_label))\n",
        "            prevent_loop += 1\n",
        "            if prevent_loop > 10:\n",
        "                return False, text, onehot_label\n",
        "\n",
        "        #Chọn ngẫu nhiên một chữ cái để loại bỏ\n",
        "        chosen_letter = text[idx][np.random.randint(0, len(text[idx]))]\n",
        "        try:\n",
        "            text[idx] = re.sub(chosen_letter, '', text[idx])\n",
        "        except:\n",
        "            return False, text, onehot_label\n",
        "\n",
        "        onehot_label[idx] = 1\n",
        "        return True, text, onehot_label\n",
        "\n",
        "    def replace_with_other_word(self, text, onehot_label):\n",
        "       \n",
        "        candidates = [\n",
        "            (i, text[i])\n",
        "            for i in range(len(text))\n",
        "            if text[i].lower() in self.all_word_candidates\n",
        "            or text[i].lower() in self.teencode_dict.keys()\n",
        "        ] \n",
        "        # Tìm các từ có thể thay đổi trong câu\n",
        "        if not candidates:\n",
        "            return False, text, onehot_label\n",
        "\n",
        "        idx = np.random.randint(0, len(candidates))\n",
        "        prevent_loop = 0\n",
        "        while onehot_label[candidates[idx][0]] == 1:\n",
        "            idx = np.random.choice(np.arange(0, len(candidates)))\n",
        "            prevent_loop += 1\n",
        "            if prevent_loop > 5:\n",
        "                return False, text, onehot_label\n",
        "\n",
        "        # Thay từ đó thành từ mới\n",
        "        text[candidates[idx][0]] = self.replace_word_candidate(candidates[idx][1])\n",
        "        onehot_label[candidates[idx][0]] = 1\n",
        "        return True, text, onehot_label\n",
        "\n",
        "    def replace_with_other_letter(self, text, onehot_label):\n",
        "        # onehot_label: chuỗi nhị phân, mỗi số 0 hoặc 1 tương ứng với một từ đã sửa(1) hay chưa(0)\n",
        "        # thay đổi các kí tự hoặc cụm kí tự hay bị nhầm lẫn trong tiếng Việt\n",
        "        candidates = [] # Tìm các từ mà có (cụm) kí tự có thể thay đổi\n",
        "        for i in range(len(text)):\n",
        "            for char in self.all_char_candidates:\n",
        "                if re.search(char, text[i]) is not None:\n",
        "                    candidates.append((i, char)) # i là index của từ trong câu; char là (cụm) kí tự có thể thay đổi\n",
        "                    break\n",
        "\n",
        "        if not candidates:\n",
        "            return False, text, onehot_label\n",
        "        \n",
        "        # Tìm ngẫu nhiên trong các candidates để thay đổi cụm (kí tự)\n",
        "        idx = np.random.randint(0, len(candidates))\n",
        "        prevent_loop = 0\n",
        "        while onehot_label[candidates[idx][0]] == 1: # Lấy giá trị i trong candidates để kiểm tra từ đó đã sửa chưa\n",
        "            idx = np.random.randint(0, len(candidates))\n",
        "            prevent_loop += 1\n",
        "            if prevent_loop > 5:\n",
        "                return False, text, onehot_label\n",
        "\n",
        "        replaced = self.replace_char_candidate(candidates[idx][1]) # Tìm (cụm) kí tự để đổi thành\n",
        "        text[candidates[idx][0]] = re.sub(candidates[idx][1], replaced, text[candidates[idx][0]]) # thay đổi (cụm) kí tự trong từ\n",
        "\n",
        "        onehot_label[candidates[idx][0]] = 1\n",
        "        return True, text, onehot_label\n",
        "\n",
        "    def replace_with_typo_letter(self, text, onehot_label):\n",
        "        \n",
        "        # find index noise\n",
        "        idx = np.random.randint(0, len(onehot_label))\n",
        "        prevent_loop = 0\n",
        "        # tìm từ phù hợp để thay đổi\n",
        "        while onehot_label[idx] == 1 or text[idx].isnumeric() or text[idx] in string.punctuation:\n",
        "            idx = np.random.randint(0, len(onehot_label))\n",
        "            prevent_loop += 1\n",
        "            if prevent_loop > 10:\n",
        "                return False, text, onehot_label\n",
        "\n",
        "        index_noise = idx\n",
        "        onehot_label[index_noise] = 1\n",
        "\n",
        "        word_noise = text[index_noise]\n",
        "        for j in range(0, len(word_noise)):\n",
        "            # tìm chữ trong từ được chọn để thay\n",
        "            char = word_noise[j]\n",
        "            if char in self.typo:\n",
        "                replaced = self.replace_char_candidate_typo(char) # Lấy kết quả sau khi thay của chữ đó\n",
        "                word_noise = word_noise[: j] + replaced + word_noise[j + 1:]\n",
        "                text[index_noise] = word_noise\n",
        "                return True, text, onehot_label\n",
        "        return True, text, onehot_label\n",
        "\n",
        "    def random_space_ratio(self,text, ratio = 0.1):\n",
        "        \"\"\"\n",
        "        Randomly remove spaces from a string with a given ratio.\n",
        "\n",
        "        Args:\n",
        "          text: The string to process.\n",
        "          ratio: The ratio of spaces to remove (between 0 and 1).\n",
        "\n",
        "        Returns:\n",
        "          The string with random spaces removed.\n",
        "        \"\"\"\n",
        "        mask = np.random.rand(len(text)) < ratio\n",
        "\n",
        "        text = [char for i, char in enumerate(text) if not (char == \" \" and mask[i])]\n",
        "\n",
        "        return \"\".join(text)\n",
        "\n",
        "    def add_noise(self, sentence, percent_err=0.3, num_type_err=5):\n",
        "        tokens = self.tokenizer(sentence)\n",
        "        onehot_label = [0] * len(tokens)\n",
        "\n",
        "        num_wrong = int(np.ceil(percent_err * len(tokens)))\n",
        "        num_wrong = np.random.randint(1, num_wrong + 1)\n",
        "        if np.random.rand() < 0.05:\n",
        "            num_wrong = 0\n",
        "\n",
        "        for _ in range(0, num_wrong):\n",
        "            err = np.random.randint(0, num_type_err + 1)\n",
        "\n",
        "            if err == 0:\n",
        "                _, tokens, onehot_label = self.replace_with_other_letter(tokens, onehot_label)\n",
        "            elif err == 1 or err == 2:\n",
        "                _, tokens, onehot_label = self.replace_with_typo_letter(tokens, onehot_label)\n",
        "            elif err == 3:\n",
        "                _, tokens, onehot_label = self.replace_with_other_word(tokens, onehot_label)\n",
        "            elif err == 4:\n",
        "                _, tokens, onehot_label = self.remove_letter(tokens, onehot_label)\n",
        "            elif err == 5:\n",
        "                _, tokens, onehot_label = self.remove_diacritics(tokens, onehot_label)\n",
        "            else:\n",
        "                continue\n",
        "\n",
        "        tokens = ' '.join(tokens)\n",
        "        tokens = self.random_space_ratio(text = tokens)\n",
        "\n",
        "        return tokens\n",
        "\n"
      ]
    },
    {
      "cell_type": "code",
      "execution_count": null,
      "metadata": {
        "colab": {
          "base_uri": "https://localhost:8080/"
        },
        "id": "2zXOIgzGSWRL",
        "outputId": "29cad9f5-0662-44be-caab-d389666cabbd"
      },
      "outputs": [
        {
          "name": "stderr",
          "output_type": "stream",
          "text": [
            "100%|██████████| 6579290/6579290 [20:51<00:00, 5255.15it/s]\n"
          ]
        }
      ],
      "source": [
        "synt = SynthesizeData()\n",
        "noise_train_ngrams = []\n",
        "for ngram in tqdm(train_ngrams):\n",
        "  noise_train_ngrams.append(synt.add_noise(ngram))"
      ]
    },
    {
      "cell_type": "code",
      "execution_count": null,
      "metadata": {
        "colab": {
          "base_uri": "https://localhost:8080/"
        },
        "id": "ONIBa6mzgdFt",
        "outputId": "8b170caf-9e50-42e6-8ef2-e25acf491b8b"
      },
      "outputs": [
        {
          "name": "stderr",
          "output_type": "stream",
          "text": [
            "100%|██████████| 35999/35999 [00:45<00:00, 788.56it/s]\n"
          ]
        }
      ],
      "source": [
        "noise_test_data = []\n",
        "for sentence in tqdm(test_data):\n",
        "  noise_test_data.append(synt.add_noise(sentence))"
      ]
    },
    {
      "cell_type": "markdown",
      "metadata": {
        "id": "-tqlMYr1gdRv"
      },
      "source": [
        "# GHI VÀO FILE CSV"
      ]
    },
    {
      "cell_type": "code",
      "execution_count": null,
      "metadata": {
        "id": "Z7B-mv4ccagj"
      },
      "outputs": [],
      "source": [
        "import csv\n",
        "\n",
        "with open('train_data.csv', 'w', newline='', encoding='utf-8') as f:\n",
        "    writer = csv.writer(f)\n",
        "    writer.writerow(['input','output'])\n",
        "    for noise_ngram,ngram in zip(noise_train_ngrams,train_ngrams):\n",
        "        writer.writerow([noise_ngram,ngram])"
      ]
    },
    {
      "cell_type": "code",
      "execution_count": null,
      "metadata": {
        "id": "e4oRlMxEdkaE"
      },
      "outputs": [],
      "source": [
        "with open('test_data.csv', 'w', newline='', encoding='utf-8') as f:\n",
        "    writer = csv.writer(f)\n",
        "    writer.writerow(['input','output'])\n",
        "    for noise_sen,sen in zip(noise_test_data,test_data):\n",
        "        writer.writerow([noise_sen,sen])"
      ]
    },
    {
      "cell_type": "markdown",
      "metadata": {},
      "source": [
        "Data được upload lên Hugging Face \"tiendoan/ngrams_vnc_dataset\""
      ]
    },
    {
      "cell_type": "code",
      "execution_count": null,
      "metadata": {
        "id": "vfGIby0y4iam"
      },
      "outputs": [],
      "source": []
    }
  ],
  "metadata": {
    "accelerator": "GPU",
    "colab": {
      "gpuType": "T4",
      "provenance": [],
      "toc_visible": true
    },
    "kernelspec": {
      "display_name": "Python 3",
      "name": "python3"
    },
    "language_info": {
      "codemirror_mode": {
        "name": "ipython",
        "version": 3
      },
      "file_extension": ".py",
      "mimetype": "text/x-python",
      "name": "python",
      "nbconvert_exporter": "python",
      "pygments_lexer": "ipython3",
      "version": "3.10.9"
    },
    "orig_nbformat": 4,
    "vscode": {
      "interpreter": {
        "hash": "3b7a843eca1cab639b36c3fbecef55435faf57387ff90456c4ff67b93cd6a8d2"
      }
    },
    "widgets": {
      "application/vnd.jupyter.widget-state+json": {
        "06b76605048d43fea37cdc97a0877fdb": {
          "model_module": "@jupyter-widgets/base",
          "model_module_version": "1.2.0",
          "model_name": "LayoutModel",
          "state": {
            "_model_module": "@jupyter-widgets/base",
            "_model_module_version": "1.2.0",
            "_model_name": "LayoutModel",
            "_view_count": null,
            "_view_module": "@jupyter-widgets/base",
            "_view_module_version": "1.2.0",
            "_view_name": "LayoutView",
            "align_content": null,
            "align_items": null,
            "align_self": null,
            "border": null,
            "bottom": null,
            "display": null,
            "flex": null,
            "flex_flow": null,
            "grid_area": null,
            "grid_auto_columns": null,
            "grid_auto_flow": null,
            "grid_auto_rows": null,
            "grid_column": null,
            "grid_gap": null,
            "grid_row": null,
            "grid_template_areas": null,
            "grid_template_columns": null,
            "grid_template_rows": null,
            "height": null,
            "justify_content": null,
            "justify_items": null,
            "left": null,
            "margin": null,
            "max_height": null,
            "max_width": null,
            "min_height": null,
            "min_width": null,
            "object_fit": null,
            "object_position": null,
            "order": null,
            "overflow": null,
            "overflow_x": null,
            "overflow_y": null,
            "padding": null,
            "right": null,
            "top": null,
            "visibility": null,
            "width": null
          }
        },
        "0ae438932b1a4d619116e115dbebc5fc": {
          "model_module": "@jupyter-widgets/controls",
          "model_module_version": "1.5.0",
          "model_name": "HTMLModel",
          "state": {
            "_dom_classes": [],
            "_model_module": "@jupyter-widgets/controls",
            "_model_module_version": "1.5.0",
            "_model_name": "HTMLModel",
            "_view_count": null,
            "_view_module": "@jupyter-widgets/controls",
            "_view_module_version": "1.5.0",
            "_view_name": "HTMLView",
            "description": "",
            "description_tooltip": null,
            "layout": "IPY_MODEL_dd0d79136e6f4cbe99aa49db5abfe930",
            "placeholder": "​",
            "style": "IPY_MODEL_111499f03bcf455e8ccf332f93450616",
            "value": "100%"
          }
        },
        "111499f03bcf455e8ccf332f93450616": {
          "model_module": "@jupyter-widgets/controls",
          "model_module_version": "1.5.0",
          "model_name": "DescriptionStyleModel",
          "state": {
            "_model_module": "@jupyter-widgets/controls",
            "_model_module_version": "1.5.0",
            "_model_name": "DescriptionStyleModel",
            "_view_count": null,
            "_view_module": "@jupyter-widgets/base",
            "_view_module_version": "1.2.0",
            "_view_name": "StyleView",
            "description_width": ""
          }
        },
        "2209f1f7bd2d4ebe82bfe32fd0e996d0": {
          "model_module": "@jupyter-widgets/controls",
          "model_module_version": "1.5.0",
          "model_name": "FloatProgressModel",
          "state": {
            "_dom_classes": [],
            "_model_module": "@jupyter-widgets/controls",
            "_model_module_version": "1.5.0",
            "_model_name": "FloatProgressModel",
            "_view_count": null,
            "_view_module": "@jupyter-widgets/controls",
            "_view_module_version": "1.5.0",
            "_view_name": "ProgressView",
            "bar_style": "success",
            "description": "",
            "description_tooltip": null,
            "layout": "IPY_MODEL_701d5b5c5e634fac9d8cbdd9acd45eba",
            "max": 26451,
            "min": 0,
            "orientation": "horizontal",
            "style": "IPY_MODEL_b0c297c0634a4738a6182c3519679118",
            "value": 26451
          }
        },
        "24c8cc93764043d09ad362cca4bb7082": {
          "model_module": "@jupyter-widgets/controls",
          "model_module_version": "1.5.0",
          "model_name": "HTMLModel",
          "state": {
            "_dom_classes": [],
            "_model_module": "@jupyter-widgets/controls",
            "_model_module_version": "1.5.0",
            "_model_name": "HTMLModel",
            "_view_count": null,
            "_view_module": "@jupyter-widgets/controls",
            "_view_module_version": "1.5.0",
            "_view_name": "HTMLView",
            "description": "",
            "description_tooltip": null,
            "layout": "IPY_MODEL_7037e40fb2a745a0bddd1338ec834874",
            "placeholder": "​",
            "style": "IPY_MODEL_32922f7126624f6db6d7cf93f0ad4211",
            "value": " 26451/26451 [00:32&lt;00:00, 1337.19it/s]"
          }
        },
        "32922f7126624f6db6d7cf93f0ad4211": {
          "model_module": "@jupyter-widgets/controls",
          "model_module_version": "1.5.0",
          "model_name": "DescriptionStyleModel",
          "state": {
            "_model_module": "@jupyter-widgets/controls",
            "_model_module_version": "1.5.0",
            "_model_name": "DescriptionStyleModel",
            "_view_count": null,
            "_view_module": "@jupyter-widgets/base",
            "_view_module_version": "1.2.0",
            "_view_name": "StyleView",
            "description_width": ""
          }
        },
        "5325154bdc1c4ca5aad9fa986ac73c6e": {
          "model_module": "@jupyter-widgets/controls",
          "model_module_version": "1.5.0",
          "model_name": "DescriptionStyleModel",
          "state": {
            "_model_module": "@jupyter-widgets/controls",
            "_model_module_version": "1.5.0",
            "_model_name": "DescriptionStyleModel",
            "_view_count": null,
            "_view_module": "@jupyter-widgets/base",
            "_view_module_version": "1.2.0",
            "_view_name": "StyleView",
            "description_width": ""
          }
        },
        "6030a5dd75404f0c97f54c07d99174bc": {
          "model_module": "@jupyter-widgets/controls",
          "model_module_version": "1.5.0",
          "model_name": "HTMLModel",
          "state": {
            "_dom_classes": [],
            "_model_module": "@jupyter-widgets/controls",
            "_model_module_version": "1.5.0",
            "_model_name": "HTMLModel",
            "_view_count": null,
            "_view_module": "@jupyter-widgets/controls",
            "_view_module_version": "1.5.0",
            "_view_name": "HTMLView",
            "description": "",
            "description_tooltip": null,
            "layout": "IPY_MODEL_06b76605048d43fea37cdc97a0877fdb",
            "placeholder": "​",
            "style": "IPY_MODEL_5325154bdc1c4ca5aad9fa986ac73c6e",
            "value": "100%"
          }
        },
        "6fdaab153cca4e3689f170157b873756": {
          "model_module": "@jupyter-widgets/base",
          "model_module_version": "1.2.0",
          "model_name": "LayoutModel",
          "state": {
            "_model_module": "@jupyter-widgets/base",
            "_model_module_version": "1.2.0",
            "_model_name": "LayoutModel",
            "_view_count": null,
            "_view_module": "@jupyter-widgets/base",
            "_view_module_version": "1.2.0",
            "_view_name": "LayoutView",
            "align_content": null,
            "align_items": null,
            "align_self": null,
            "border": null,
            "bottom": null,
            "display": null,
            "flex": null,
            "flex_flow": null,
            "grid_area": null,
            "grid_auto_columns": null,
            "grid_auto_flow": null,
            "grid_auto_rows": null,
            "grid_column": null,
            "grid_gap": null,
            "grid_row": null,
            "grid_template_areas": null,
            "grid_template_columns": null,
            "grid_template_rows": null,
            "height": null,
            "justify_content": null,
            "justify_items": null,
            "left": null,
            "margin": null,
            "max_height": null,
            "max_width": null,
            "min_height": null,
            "min_width": null,
            "object_fit": null,
            "object_position": null,
            "order": null,
            "overflow": null,
            "overflow_x": null,
            "overflow_y": null,
            "padding": null,
            "right": null,
            "top": null,
            "visibility": null,
            "width": null
          }
        },
        "701d5b5c5e634fac9d8cbdd9acd45eba": {
          "model_module": "@jupyter-widgets/base",
          "model_module_version": "1.2.0",
          "model_name": "LayoutModel",
          "state": {
            "_model_module": "@jupyter-widgets/base",
            "_model_module_version": "1.2.0",
            "_model_name": "LayoutModel",
            "_view_count": null,
            "_view_module": "@jupyter-widgets/base",
            "_view_module_version": "1.2.0",
            "_view_name": "LayoutView",
            "align_content": null,
            "align_items": null,
            "align_self": null,
            "border": null,
            "bottom": null,
            "display": null,
            "flex": null,
            "flex_flow": null,
            "grid_area": null,
            "grid_auto_columns": null,
            "grid_auto_flow": null,
            "grid_auto_rows": null,
            "grid_column": null,
            "grid_gap": null,
            "grid_row": null,
            "grid_template_areas": null,
            "grid_template_columns": null,
            "grid_template_rows": null,
            "height": null,
            "justify_content": null,
            "justify_items": null,
            "left": null,
            "margin": null,
            "max_height": null,
            "max_width": null,
            "min_height": null,
            "min_width": null,
            "object_fit": null,
            "object_position": null,
            "order": null,
            "overflow": null,
            "overflow_x": null,
            "overflow_y": null,
            "padding": null,
            "right": null,
            "top": null,
            "visibility": null,
            "width": null
          }
        },
        "7037e40fb2a745a0bddd1338ec834874": {
          "model_module": "@jupyter-widgets/base",
          "model_module_version": "1.2.0",
          "model_name": "LayoutModel",
          "state": {
            "_model_module": "@jupyter-widgets/base",
            "_model_module_version": "1.2.0",
            "_model_name": "LayoutModel",
            "_view_count": null,
            "_view_module": "@jupyter-widgets/base",
            "_view_module_version": "1.2.0",
            "_view_name": "LayoutView",
            "align_content": null,
            "align_items": null,
            "align_self": null,
            "border": null,
            "bottom": null,
            "display": null,
            "flex": null,
            "flex_flow": null,
            "grid_area": null,
            "grid_auto_columns": null,
            "grid_auto_flow": null,
            "grid_auto_rows": null,
            "grid_column": null,
            "grid_gap": null,
            "grid_row": null,
            "grid_template_areas": null,
            "grid_template_columns": null,
            "grid_template_rows": null,
            "height": null,
            "justify_content": null,
            "justify_items": null,
            "left": null,
            "margin": null,
            "max_height": null,
            "max_width": null,
            "min_height": null,
            "min_width": null,
            "object_fit": null,
            "object_position": null,
            "order": null,
            "overflow": null,
            "overflow_x": null,
            "overflow_y": null,
            "padding": null,
            "right": null,
            "top": null,
            "visibility": null,
            "width": null
          }
        },
        "76f8873031544309ae64f65312255cdd": {
          "model_module": "@jupyter-widgets/controls",
          "model_module_version": "1.5.0",
          "model_name": "HBoxModel",
          "state": {
            "_dom_classes": [],
            "_model_module": "@jupyter-widgets/controls",
            "_model_module_version": "1.5.0",
            "_model_name": "HBoxModel",
            "_view_count": null,
            "_view_module": "@jupyter-widgets/controls",
            "_view_module_version": "1.5.0",
            "_view_name": "HBoxView",
            "box_style": "",
            "children": [
              "IPY_MODEL_6030a5dd75404f0c97f54c07d99174bc",
              "IPY_MODEL_2209f1f7bd2d4ebe82bfe32fd0e996d0",
              "IPY_MODEL_24c8cc93764043d09ad362cca4bb7082"
            ],
            "layout": "IPY_MODEL_b6f47e996bf04a7a8f4668ab26a0eb74"
          }
        },
        "b0c297c0634a4738a6182c3519679118": {
          "model_module": "@jupyter-widgets/controls",
          "model_module_version": "1.5.0",
          "model_name": "ProgressStyleModel",
          "state": {
            "_model_module": "@jupyter-widgets/controls",
            "_model_module_version": "1.5.0",
            "_model_name": "ProgressStyleModel",
            "_view_count": null,
            "_view_module": "@jupyter-widgets/base",
            "_view_module_version": "1.2.0",
            "_view_name": "StyleView",
            "bar_color": null,
            "description_width": ""
          }
        },
        "b6f47e996bf04a7a8f4668ab26a0eb74": {
          "model_module": "@jupyter-widgets/base",
          "model_module_version": "1.2.0",
          "model_name": "LayoutModel",
          "state": {
            "_model_module": "@jupyter-widgets/base",
            "_model_module_version": "1.2.0",
            "_model_name": "LayoutModel",
            "_view_count": null,
            "_view_module": "@jupyter-widgets/base",
            "_view_module_version": "1.2.0",
            "_view_name": "LayoutView",
            "align_content": null,
            "align_items": null,
            "align_self": null,
            "border": null,
            "bottom": null,
            "display": null,
            "flex": null,
            "flex_flow": null,
            "grid_area": null,
            "grid_auto_columns": null,
            "grid_auto_flow": null,
            "grid_auto_rows": null,
            "grid_column": null,
            "grid_gap": null,
            "grid_row": null,
            "grid_template_areas": null,
            "grid_template_columns": null,
            "grid_template_rows": null,
            "height": null,
            "justify_content": null,
            "justify_items": null,
            "left": null,
            "margin": null,
            "max_height": null,
            "max_width": null,
            "min_height": null,
            "min_width": null,
            "object_fit": null,
            "object_position": null,
            "order": null,
            "overflow": null,
            "overflow_x": null,
            "overflow_y": null,
            "padding": null,
            "right": null,
            "top": null,
            "visibility": null,
            "width": null
          }
        },
        "be134a39e0b54df6bebe6b8a4744980f": {
          "model_module": "@jupyter-widgets/controls",
          "model_module_version": "1.5.0",
          "model_name": "DescriptionStyleModel",
          "state": {
            "_model_module": "@jupyter-widgets/controls",
            "_model_module_version": "1.5.0",
            "_model_name": "DescriptionStyleModel",
            "_view_count": null,
            "_view_module": "@jupyter-widgets/base",
            "_view_module_version": "1.2.0",
            "_view_name": "StyleView",
            "description_width": ""
          }
        },
        "ce6c8ed557ea4188b3520fc1e14eb2ba": {
          "model_module": "@jupyter-widgets/controls",
          "model_module_version": "1.5.0",
          "model_name": "HTMLModel",
          "state": {
            "_dom_classes": [],
            "_model_module": "@jupyter-widgets/controls",
            "_model_module_version": "1.5.0",
            "_model_name": "HTMLModel",
            "_view_count": null,
            "_view_module": "@jupyter-widgets/controls",
            "_view_module_version": "1.5.0",
            "_view_name": "HTMLView",
            "description": "",
            "description_tooltip": null,
            "layout": "IPY_MODEL_ef56597f7c8242a7ac123b13b68f0a48",
            "placeholder": "​",
            "style": "IPY_MODEL_be134a39e0b54df6bebe6b8a4744980f",
            "value": " 653815/653815 [00:07&lt;00:00, 58262.70it/s]"
          }
        },
        "d599bd7fdf4148fdb203397d4dffc90d": {
          "model_module": "@jupyter-widgets/controls",
          "model_module_version": "1.5.0",
          "model_name": "HBoxModel",
          "state": {
            "_dom_classes": [],
            "_model_module": "@jupyter-widgets/controls",
            "_model_module_version": "1.5.0",
            "_model_name": "HBoxModel",
            "_view_count": null,
            "_view_module": "@jupyter-widgets/controls",
            "_view_module_version": "1.5.0",
            "_view_name": "HBoxView",
            "box_style": "",
            "children": [
              "IPY_MODEL_0ae438932b1a4d619116e115dbebc5fc",
              "IPY_MODEL_efb0d94aa11d487c8794eee71ded353b",
              "IPY_MODEL_ce6c8ed557ea4188b3520fc1e14eb2ba"
            ],
            "layout": "IPY_MODEL_6fdaab153cca4e3689f170157b873756"
          }
        },
        "db5caf6d629b40b3b649acf3c59ae6e1": {
          "model_module": "@jupyter-widgets/base",
          "model_module_version": "1.2.0",
          "model_name": "LayoutModel",
          "state": {
            "_model_module": "@jupyter-widgets/base",
            "_model_module_version": "1.2.0",
            "_model_name": "LayoutModel",
            "_view_count": null,
            "_view_module": "@jupyter-widgets/base",
            "_view_module_version": "1.2.0",
            "_view_name": "LayoutView",
            "align_content": null,
            "align_items": null,
            "align_self": null,
            "border": null,
            "bottom": null,
            "display": null,
            "flex": null,
            "flex_flow": null,
            "grid_area": null,
            "grid_auto_columns": null,
            "grid_auto_flow": null,
            "grid_auto_rows": null,
            "grid_column": null,
            "grid_gap": null,
            "grid_row": null,
            "grid_template_areas": null,
            "grid_template_columns": null,
            "grid_template_rows": null,
            "height": null,
            "justify_content": null,
            "justify_items": null,
            "left": null,
            "margin": null,
            "max_height": null,
            "max_width": null,
            "min_height": null,
            "min_width": null,
            "object_fit": null,
            "object_position": null,
            "order": null,
            "overflow": null,
            "overflow_x": null,
            "overflow_y": null,
            "padding": null,
            "right": null,
            "top": null,
            "visibility": null,
            "width": null
          }
        },
        "dd0d79136e6f4cbe99aa49db5abfe930": {
          "model_module": "@jupyter-widgets/base",
          "model_module_version": "1.2.0",
          "model_name": "LayoutModel",
          "state": {
            "_model_module": "@jupyter-widgets/base",
            "_model_module_version": "1.2.0",
            "_model_name": "LayoutModel",
            "_view_count": null,
            "_view_module": "@jupyter-widgets/base",
            "_view_module_version": "1.2.0",
            "_view_name": "LayoutView",
            "align_content": null,
            "align_items": null,
            "align_self": null,
            "border": null,
            "bottom": null,
            "display": null,
            "flex": null,
            "flex_flow": null,
            "grid_area": null,
            "grid_auto_columns": null,
            "grid_auto_flow": null,
            "grid_auto_rows": null,
            "grid_column": null,
            "grid_gap": null,
            "grid_row": null,
            "grid_template_areas": null,
            "grid_template_columns": null,
            "grid_template_rows": null,
            "height": null,
            "justify_content": null,
            "justify_items": null,
            "left": null,
            "margin": null,
            "max_height": null,
            "max_width": null,
            "min_height": null,
            "min_width": null,
            "object_fit": null,
            "object_position": null,
            "order": null,
            "overflow": null,
            "overflow_x": null,
            "overflow_y": null,
            "padding": null,
            "right": null,
            "top": null,
            "visibility": null,
            "width": null
          }
        },
        "ef56597f7c8242a7ac123b13b68f0a48": {
          "model_module": "@jupyter-widgets/base",
          "model_module_version": "1.2.0",
          "model_name": "LayoutModel",
          "state": {
            "_model_module": "@jupyter-widgets/base",
            "_model_module_version": "1.2.0",
            "_model_name": "LayoutModel",
            "_view_count": null,
            "_view_module": "@jupyter-widgets/base",
            "_view_module_version": "1.2.0",
            "_view_name": "LayoutView",
            "align_content": null,
            "align_items": null,
            "align_self": null,
            "border": null,
            "bottom": null,
            "display": null,
            "flex": null,
            "flex_flow": null,
            "grid_area": null,
            "grid_auto_columns": null,
            "grid_auto_flow": null,
            "grid_auto_rows": null,
            "grid_column": null,
            "grid_gap": null,
            "grid_row": null,
            "grid_template_areas": null,
            "grid_template_columns": null,
            "grid_template_rows": null,
            "height": null,
            "justify_content": null,
            "justify_items": null,
            "left": null,
            "margin": null,
            "max_height": null,
            "max_width": null,
            "min_height": null,
            "min_width": null,
            "object_fit": null,
            "object_position": null,
            "order": null,
            "overflow": null,
            "overflow_x": null,
            "overflow_y": null,
            "padding": null,
            "right": null,
            "top": null,
            "visibility": null,
            "width": null
          }
        },
        "efb0d94aa11d487c8794eee71ded353b": {
          "model_module": "@jupyter-widgets/controls",
          "model_module_version": "1.5.0",
          "model_name": "FloatProgressModel",
          "state": {
            "_dom_classes": [],
            "_model_module": "@jupyter-widgets/controls",
            "_model_module_version": "1.5.0",
            "_model_name": "FloatProgressModel",
            "_view_count": null,
            "_view_module": "@jupyter-widgets/controls",
            "_view_module_version": "1.5.0",
            "_view_name": "ProgressView",
            "bar_style": "success",
            "description": "",
            "description_tooltip": null,
            "layout": "IPY_MODEL_db5caf6d629b40b3b649acf3c59ae6e1",
            "max": 653815,
            "min": 0,
            "orientation": "horizontal",
            "style": "IPY_MODEL_f9e3b537f080420faabff39e855b301e",
            "value": 653815
          }
        },
        "f9e3b537f080420faabff39e855b301e": {
          "model_module": "@jupyter-widgets/controls",
          "model_module_version": "1.5.0",
          "model_name": "ProgressStyleModel",
          "state": {
            "_model_module": "@jupyter-widgets/controls",
            "_model_module_version": "1.5.0",
            "_model_name": "ProgressStyleModel",
            "_view_count": null,
            "_view_module": "@jupyter-widgets/base",
            "_view_module_version": "1.2.0",
            "_view_name": "StyleView",
            "bar_color": null,
            "description_width": ""
          }
        }
      }
    }
  },
  "nbformat": 4,
  "nbformat_minor": 0
}

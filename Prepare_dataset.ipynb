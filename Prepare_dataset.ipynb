{
  "cells": [
    {
      "cell_type": "code",
      "source": [
        "!pip install unidecode python-Levenshtein\n",
        "!pip install evaluate\n",
        "!pip install sacrebleu"
      ],
      "metadata": {
        "colab": {
          "base_uri": "https://localhost:8080/"
        },
        "id": "fv_DJy4cc_U_",
        "outputId": "5f92b6db-33a5-4b9e-da76-033aef50e492"
      },
      "execution_count": null,
      "outputs": [
        {
          "output_type": "stream",
          "name": "stdout",
          "text": [
            "Collecting unidecode\n",
            "  Downloading Unidecode-1.3.8-py3-none-any.whl (235 kB)\n",
            "\u001b[2K     \u001b[90m━━━━━━━━━━━━━━━━━━━━━━━━━━━━━━━━━━━━━━━━\u001b[0m \u001b[32m235.5/235.5 kB\u001b[0m \u001b[31m2.9 MB/s\u001b[0m eta \u001b[36m0:00:00\u001b[0m\n",
            "\u001b[?25hCollecting python-Levenshtein\n",
            "  Downloading python_Levenshtein-0.25.1-py3-none-any.whl (9.4 kB)\n",
            "Collecting Levenshtein==0.25.1 (from python-Levenshtein)\n",
            "  Downloading Levenshtein-0.25.1-cp310-cp310-manylinux_2_17_x86_64.manylinux2014_x86_64.whl (177 kB)\n",
            "\u001b[2K     \u001b[90m━━━━━━━━━━━━━━━━━━━━━━━━━━━━━━━━━━━━━━━━\u001b[0m \u001b[32m177.4/177.4 kB\u001b[0m \u001b[31m3.4 MB/s\u001b[0m eta \u001b[36m0:00:00\u001b[0m\n",
            "\u001b[?25hCollecting rapidfuzz<4.0.0,>=3.8.0 (from Levenshtein==0.25.1->python-Levenshtein)\n",
            "  Downloading rapidfuzz-3.9.3-cp310-cp310-manylinux_2_17_x86_64.manylinux2014_x86_64.whl (3.4 MB)\n",
            "\u001b[2K     \u001b[90m━━━━━━━━━━━━━━━━━━━━━━━━━━━━━━━━━━━━━━━━\u001b[0m \u001b[32m3.4/3.4 MB\u001b[0m \u001b[31m15.7 MB/s\u001b[0m eta \u001b[36m0:00:00\u001b[0m\n",
            "\u001b[?25hInstalling collected packages: unidecode, rapidfuzz, Levenshtein, python-Levenshtein\n",
            "Successfully installed Levenshtein-0.25.1 python-Levenshtein-0.25.1 rapidfuzz-3.9.3 unidecode-1.3.8\n",
            "Collecting evaluate\n",
            "  Downloading evaluate-0.4.2-py3-none-any.whl (84 kB)\n",
            "\u001b[2K     \u001b[90m━━━━━━━━━━━━━━━━━━━━━━━━━━━━━━━━━━━━━━━━\u001b[0m \u001b[32m84.1/84.1 kB\u001b[0m \u001b[31m3.0 MB/s\u001b[0m eta \u001b[36m0:00:00\u001b[0m\n",
            "\u001b[?25hCollecting datasets>=2.0.0 (from evaluate)\n",
            "  Downloading datasets-2.20.0-py3-none-any.whl (547 kB)\n",
            "\u001b[2K     \u001b[90m━━━━━━━━━━━━━━━━━━━━━━━━━━━━━━━━━━━━━━━━\u001b[0m \u001b[32m547.8/547.8 kB\u001b[0m \u001b[31m8.6 MB/s\u001b[0m eta \u001b[36m0:00:00\u001b[0m\n",
            "\u001b[?25hRequirement already satisfied: numpy>=1.17 in /usr/local/lib/python3.10/dist-packages (from evaluate) (1.25.2)\n",
            "Collecting dill (from evaluate)\n",
            "  Downloading dill-0.3.8-py3-none-any.whl (116 kB)\n",
            "\u001b[2K     \u001b[90m━━━━━━━━━━━━━━━━━━━━━━━━━━━━━━━━━━━━━━━━\u001b[0m \u001b[32m116.3/116.3 kB\u001b[0m \u001b[31m7.7 MB/s\u001b[0m eta \u001b[36m0:00:00\u001b[0m\n",
            "\u001b[?25hRequirement already satisfied: pandas in /usr/local/lib/python3.10/dist-packages (from evaluate) (2.0.3)\n",
            "Requirement already satisfied: requests>=2.19.0 in /usr/local/lib/python3.10/dist-packages (from evaluate) (2.31.0)\n",
            "Requirement already satisfied: tqdm>=4.62.1 in /usr/local/lib/python3.10/dist-packages (from evaluate) (4.66.4)\n",
            "Collecting xxhash (from evaluate)\n",
            "  Downloading xxhash-3.4.1-cp310-cp310-manylinux_2_17_x86_64.manylinux2014_x86_64.whl (194 kB)\n",
            "\u001b[2K     \u001b[90m━━━━━━━━━━━━━━━━━━━━━━━━━━━━━━━━━━━━━━━━\u001b[0m \u001b[32m194.1/194.1 kB\u001b[0m \u001b[31m9.8 MB/s\u001b[0m eta \u001b[36m0:00:00\u001b[0m\n",
            "\u001b[?25hCollecting multiprocess (from evaluate)\n",
            "  Downloading multiprocess-0.70.16-py310-none-any.whl (134 kB)\n",
            "\u001b[2K     \u001b[90m━━━━━━━━━━━━━━━━━━━━━━━━━━━━━━━━━━━━━━━━\u001b[0m \u001b[32m134.8/134.8 kB\u001b[0m \u001b[31m8.6 MB/s\u001b[0m eta \u001b[36m0:00:00\u001b[0m\n",
            "\u001b[?25hRequirement already satisfied: fsspec[http]>=2021.05.0 in /usr/local/lib/python3.10/dist-packages (from evaluate) (2023.6.0)\n",
            "Requirement already satisfied: huggingface-hub>=0.7.0 in /usr/local/lib/python3.10/dist-packages (from evaluate) (0.23.4)\n",
            "Requirement already satisfied: packaging in /usr/local/lib/python3.10/dist-packages (from evaluate) (24.1)\n",
            "Requirement already satisfied: filelock in /usr/local/lib/python3.10/dist-packages (from datasets>=2.0.0->evaluate) (3.15.3)\n",
            "Collecting pyarrow>=15.0.0 (from datasets>=2.0.0->evaluate)\n",
            "  Downloading pyarrow-16.1.0-cp310-cp310-manylinux_2_28_x86_64.whl (40.8 MB)\n",
            "\u001b[2K     \u001b[90m━━━━━━━━━━━━━━━━━━━━━━━━━━━━━━━━━━━━━━━━\u001b[0m \u001b[32m40.8/40.8 MB\u001b[0m \u001b[31m10.0 MB/s\u001b[0m eta \u001b[36m0:00:00\u001b[0m\n",
            "\u001b[?25hRequirement already satisfied: pyarrow-hotfix in /usr/local/lib/python3.10/dist-packages (from datasets>=2.0.0->evaluate) (0.6)\n",
            "Collecting requests>=2.19.0 (from evaluate)\n",
            "  Downloading requests-2.32.3-py3-none-any.whl (64 kB)\n",
            "\u001b[2K     \u001b[90m━━━━━━━━━━━━━━━━━━━━━━━━━━━━━━━━━━━━━━━━\u001b[0m \u001b[32m64.9/64.9 kB\u001b[0m \u001b[31m8.6 MB/s\u001b[0m eta \u001b[36m0:00:00\u001b[0m\n",
            "\u001b[?25hRequirement already satisfied: aiohttp in /usr/local/lib/python3.10/dist-packages (from datasets>=2.0.0->evaluate) (3.9.5)\n",
            "Requirement already satisfied: pyyaml>=5.1 in /usr/local/lib/python3.10/dist-packages (from datasets>=2.0.0->evaluate) (6.0.1)\n",
            "Requirement already satisfied: typing-extensions>=3.7.4.3 in /usr/local/lib/python3.10/dist-packages (from huggingface-hub>=0.7.0->evaluate) (4.12.2)\n",
            "Requirement already satisfied: charset-normalizer<4,>=2 in /usr/local/lib/python3.10/dist-packages (from requests>=2.19.0->evaluate) (3.3.2)\n",
            "Requirement already satisfied: idna<4,>=2.5 in /usr/local/lib/python3.10/dist-packages (from requests>=2.19.0->evaluate) (3.7)\n",
            "Requirement already satisfied: urllib3<3,>=1.21.1 in /usr/local/lib/python3.10/dist-packages (from requests>=2.19.0->evaluate) (2.0.7)\n",
            "Requirement already satisfied: certifi>=2017.4.17 in /usr/local/lib/python3.10/dist-packages (from requests>=2.19.0->evaluate) (2024.6.2)\n",
            "Requirement already satisfied: python-dateutil>=2.8.2 in /usr/local/lib/python3.10/dist-packages (from pandas->evaluate) (2.8.2)\n",
            "Requirement already satisfied: pytz>=2020.1 in /usr/local/lib/python3.10/dist-packages (from pandas->evaluate) (2023.4)\n",
            "Requirement already satisfied: tzdata>=2022.1 in /usr/local/lib/python3.10/dist-packages (from pandas->evaluate) (2024.1)\n",
            "Requirement already satisfied: aiosignal>=1.1.2 in /usr/local/lib/python3.10/dist-packages (from aiohttp->datasets>=2.0.0->evaluate) (1.3.1)\n",
            "Requirement already satisfied: attrs>=17.3.0 in /usr/local/lib/python3.10/dist-packages (from aiohttp->datasets>=2.0.0->evaluate) (23.2.0)\n",
            "Requirement already satisfied: frozenlist>=1.1.1 in /usr/local/lib/python3.10/dist-packages (from aiohttp->datasets>=2.0.0->evaluate) (1.4.1)\n",
            "Requirement already satisfied: multidict<7.0,>=4.5 in /usr/local/lib/python3.10/dist-packages (from aiohttp->datasets>=2.0.0->evaluate) (6.0.5)\n",
            "Requirement already satisfied: yarl<2.0,>=1.0 in /usr/local/lib/python3.10/dist-packages (from aiohttp->datasets>=2.0.0->evaluate) (1.9.4)\n",
            "Requirement already satisfied: async-timeout<5.0,>=4.0 in /usr/local/lib/python3.10/dist-packages (from aiohttp->datasets>=2.0.0->evaluate) (4.0.3)\n",
            "Requirement already satisfied: six>=1.5 in /usr/local/lib/python3.10/dist-packages (from python-dateutil>=2.8.2->pandas->evaluate) (1.16.0)\n",
            "Installing collected packages: xxhash, requests, pyarrow, dill, multiprocess, datasets, evaluate\n",
            "  Attempting uninstall: requests\n",
            "    Found existing installation: requests 2.31.0\n",
            "    Uninstalling requests-2.31.0:\n",
            "      Successfully uninstalled requests-2.31.0\n",
            "  Attempting uninstall: pyarrow\n",
            "    Found existing installation: pyarrow 14.0.2\n",
            "    Uninstalling pyarrow-14.0.2:\n",
            "      Successfully uninstalled pyarrow-14.0.2\n",
            "\u001b[31mERROR: pip's dependency resolver does not currently take into account all the packages that are installed. This behaviour is the source of the following dependency conflicts.\n",
            "cudf-cu12 24.4.1 requires pyarrow<15.0.0a0,>=14.0.1, but you have pyarrow 16.1.0 which is incompatible.\n",
            "google-colab 1.0.0 requires requests==2.31.0, but you have requests 2.32.3 which is incompatible.\n",
            "ibis-framework 8.0.0 requires pyarrow<16,>=2, but you have pyarrow 16.1.0 which is incompatible.\u001b[0m\u001b[31m\n",
            "\u001b[0mSuccessfully installed datasets-2.20.0 dill-0.3.8 evaluate-0.4.2 multiprocess-0.70.16 pyarrow-16.1.0 requests-2.32.3 xxhash-3.4.1\n",
            "Collecting sacrebleu\n",
            "  Downloading sacrebleu-2.4.2-py3-none-any.whl (106 kB)\n",
            "\u001b[2K     \u001b[90m━━━━━━━━━━━━━━━━━━━━━━━━━━━━━━━━━━━━━━━━\u001b[0m \u001b[32m106.7/106.7 kB\u001b[0m \u001b[31m3.4 MB/s\u001b[0m eta \u001b[36m0:00:00\u001b[0m\n",
            "\u001b[?25hCollecting portalocker (from sacrebleu)\n",
            "  Downloading portalocker-2.10.0-py3-none-any.whl (18 kB)\n",
            "Requirement already satisfied: regex in /usr/local/lib/python3.10/dist-packages (from sacrebleu) (2024.5.15)\n",
            "Requirement already satisfied: tabulate>=0.8.9 in /usr/local/lib/python3.10/dist-packages (from sacrebleu) (0.9.0)\n",
            "Requirement already satisfied: numpy>=1.17 in /usr/local/lib/python3.10/dist-packages (from sacrebleu) (1.25.2)\n",
            "Collecting colorama (from sacrebleu)\n",
            "  Downloading colorama-0.4.6-py2.py3-none-any.whl (25 kB)\n",
            "Requirement already satisfied: lxml in /usr/local/lib/python3.10/dist-packages (from sacrebleu) (4.9.4)\n",
            "Installing collected packages: portalocker, colorama, sacrebleu\n",
            "Successfully installed colorama-0.4.6 portalocker-2.10.0 sacrebleu-2.4.2\n"
          ]
        }
      ]
    },
    {
      "cell_type": "markdown",
      "source": [
        "# DOWNLOAD DATASET"
      ],
      "metadata": {
        "id": "-UwEGTJB-Vr7"
      }
    },
    {
      "cell_type": "code",
      "execution_count": null,
      "metadata": {
        "colab": {
          "base_uri": "https://localhost:8080/"
        },
        "id": "p21Sh5xR7vlK",
        "outputId": "50df734e-373a-41f9-85db-f579d126e9bd"
      },
      "outputs": [
        {
          "output_type": "stream",
          "name": "stderr",
          "text": [
            "[nltk_data] Downloading package punkt to /root/nltk_data...\n",
            "[nltk_data]   Unzipping tokenizers/punkt.zip.\n"
          ]
        },
        {
          "output_type": "execute_result",
          "data": {
            "text/plain": [
              "True"
            ]
          },
          "metadata": {},
          "execution_count": 2
        }
      ],
      "source": [
        "from glob import glob\n",
        "import os\n",
        "import numpy as np\n",
        "import pandas as pd\n",
        "import sys\n",
        "import re\n",
        "\n",
        "import nltk\n",
        "nltk.download('punkt') # Download the Punkt tokenizer models if you haven't already\n"
      ]
    },
    {
      "cell_type": "code",
      "source": [
        "!git clone https://github.com/duyvuleo/VNTC.git"
      ],
      "metadata": {
        "colab": {
          "base_uri": "https://localhost:8080/"
        },
        "id": "-t1UpH1U76SB",
        "outputId": "65cf1793-7f4b-4feb-fb63-0e2270f8dc6b"
      },
      "execution_count": null,
      "outputs": [
        {
          "output_type": "stream",
          "name": "stdout",
          "text": [
            "Cloning into 'VNTC'...\n",
            "remote: Enumerating objects: 39, done.\u001b[K\n",
            "remote: Total 39 (delta 0), reused 0 (delta 0), pack-reused 39\u001b[K\n",
            "Receiving objects: 100% (39/39), 160.90 MiB | 17.19 MiB/s, done.\n",
            "Resolving deltas: 100% (4/4), done.\n",
            "Updating files: 100% (15/15), done.\n",
            "Filtering content: 100% (2/2), 168.95 MiB | 51.29 MiB/s, done.\n"
          ]
        }
      ]
    },
    {
      "cell_type": "code",
      "source": [
        "!pip install patool\n"
      ],
      "metadata": {
        "colab": {
          "base_uri": "https://localhost:8080/"
        },
        "id": "UymN7HJy8gtC",
        "outputId": "1ebdfee8-37c1-41e5-bb66-731f4be0eb0a"
      },
      "execution_count": null,
      "outputs": [
        {
          "output_type": "stream",
          "name": "stdout",
          "text": [
            "Collecting patool\n",
            "  Downloading patool-2.3.0-py2.py3-none-any.whl (96 kB)\n",
            "\u001b[?25l     \u001b[90m━━━━━━━━━━━━━━━━━━━━━━━━━━━━━━━━━━━━━━━━\u001b[0m \u001b[32m0.0/96.6 kB\u001b[0m \u001b[31m?\u001b[0m eta \u001b[36m-:--:--\u001b[0m\r\u001b[2K     \u001b[90m━━━━━━━━━━━━━━━━━━━━━━━━━━━━━━━━━━━━━━━━\u001b[0m \u001b[32m96.6/96.6 kB\u001b[0m \u001b[31m2.8 MB/s\u001b[0m eta \u001b[36m0:00:00\u001b[0m\n",
            "\u001b[?25hInstalling collected packages: patool\n",
            "Successfully installed patool-2.3.0\n"
          ]
        }
      ]
    },
    {
      "cell_type": "code",
      "source": [
        "import patoolib\n",
        "patoolib.extract_archive(\"/content/VNTC/Data/27Topics/Ver1.1/Train.rar\", outdir=\"/content/Train\")\n",
        "patoolib.extract_archive(\"/content/VNTC/Data/27Topics/Ver1.1/Test.rar\", outdir=\"/content/Test\")\n"
      ],
      "metadata": {
        "colab": {
          "base_uri": "https://localhost:8080/",
          "height": 382
        },
        "id": "BPjzRt6y8PtF",
        "outputId": "4089590a-9122-4dad-f12a-ad2575872047",
        "collapsed": true
      },
      "execution_count": null,
      "outputs": [
        {
          "output_type": "stream",
          "name": "stderr",
          "text": [
            "INFO patool: Extracting /content/VNTC/Data/27Topics/Ver1.1/Train.rar ...\n",
            "INFO:patool:Extracting /content/VNTC/Data/27Topics/Ver1.1/Train.rar ...\n",
            "INFO patool: ... creating output directory `/content/Train'.\n",
            "INFO:patool:... creating output directory `/content/Train'.\n",
            "INFO patool: running /usr/bin/unrar x -- /content/VNTC/Data/27Topics/Ver1.1/Train.rar\n",
            "INFO:patool:running /usr/bin/unrar x -- /content/VNTC/Data/27Topics/Ver1.1/Train.rar\n",
            "INFO patool:     with cwd='/content/Train', input=''\n",
            "INFO:patool:    with cwd='/content/Train', input=''\n",
            "INFO patool: ... /content/VNTC/Data/27Topics/Ver1.1/Train.rar extracted to `/content/Train'.\n",
            "INFO:patool:... /content/VNTC/Data/27Topics/Ver1.1/Train.rar extracted to `/content/Train'.\n",
            "INFO patool: Extracting /content/VNTC/Data/27Topics/Ver1.1/Test.rar ...\n",
            "INFO:patool:Extracting /content/VNTC/Data/27Topics/Ver1.1/Test.rar ...\n",
            "INFO patool: ... creating output directory `/content/Test'.\n",
            "INFO:patool:... creating output directory `/content/Test'.\n",
            "INFO patool: running /usr/bin/unrar x -- /content/VNTC/Data/27Topics/Ver1.1/Test.rar\n",
            "INFO:patool:running /usr/bin/unrar x -- /content/VNTC/Data/27Topics/Ver1.1/Test.rar\n",
            "INFO patool:     with cwd='/content/Test', input=''\n",
            "INFO:patool:    with cwd='/content/Test', input=''\n",
            "INFO patool: ... /content/VNTC/Data/27Topics/Ver1.1/Test.rar extracted to `/content/Test'.\n",
            "INFO:patool:... /content/VNTC/Data/27Topics/Ver1.1/Test.rar extracted to `/content/Test'.\n"
          ]
        },
        {
          "output_type": "execute_result",
          "data": {
            "text/plain": [
              "'/content/Test'"
            ],
            "application/vnd.google.colaboratory.intrinsic+json": {
              "type": "string"
            }
          },
          "metadata": {},
          "execution_count": 5
        }
      ]
    },
    {
      "cell_type": "code",
      "execution_count": null,
      "metadata": {
        "colab": {
          "base_uri": "https://localhost:8080/"
        },
        "id": "qJlqLhwK7vlR",
        "outputId": "079df361-71bd-404c-c835-29a1fbe0cef0"
      },
      "outputs": [
        {
          "output_type": "execute_result",
          "data": {
            "text/plain": [
              "26451"
            ]
          },
          "metadata": {},
          "execution_count": 6
        }
      ],
      "source": [
        "file_paths_train = glob('/content/Train/new train/*/*.txt')\n",
        "file_paths_test = glob('/content/Test/new test/*/*.txt')\n",
        "file_paths = file_paths_train + file_paths_test\n",
        "len(file_paths)"
      ]
    },
    {
      "cell_type": "markdown",
      "source": [
        "# PREPARE DATA"
      ],
      "metadata": {
        "id": "OehWRG_C-fkd"
      }
    },
    {
      "cell_type": "code",
      "execution_count": null,
      "metadata": {
        "colab": {
          "base_uri": "https://localhost:8080/"
        },
        "id": "gxflc8QA7vlS",
        "outputId": "2c8dce45-dc17-465f-906e-206e2b0680e9"
      },
      "outputs": [
        {
          "output_type": "stream",
          "name": "stderr",
          "text": [
            "<ipython-input-7-d05506e76d3e>:1: TqdmExperimentalWarning: Using `tqdm.autonotebook.tqdm` in notebook mode. Use `tqdm.tqdm` instead to force console mode (e.g. in jupyter console)\n",
            "  from tqdm.autonotebook import tqdm\n"
          ]
        }
      ],
      "source": [
        "from tqdm.autonotebook import tqdm"
      ]
    },
    {
      "cell_type": "code",
      "execution_count": null,
      "metadata": {
        "colab": {
          "base_uri": "https://localhost:8080/",
          "height": 49,
          "referenced_widgets": [
            "76f8873031544309ae64f65312255cdd",
            "6030a5dd75404f0c97f54c07d99174bc",
            "2209f1f7bd2d4ebe82bfe32fd0e996d0",
            "24c8cc93764043d09ad362cca4bb7082",
            "b6f47e996bf04a7a8f4668ab26a0eb74",
            "06b76605048d43fea37cdc97a0877fdb",
            "5325154bdc1c4ca5aad9fa986ac73c6e",
            "701d5b5c5e634fac9d8cbdd9acd45eba",
            "b0c297c0634a4738a6182c3519679118",
            "7037e40fb2a745a0bddd1338ec834874",
            "32922f7126624f6db6d7cf93f0ad4211"
          ]
        },
        "id": "1JNMZvZ_7vlS",
        "outputId": "1a3a1bbe-d018-4cb6-ba75-be5ac5c8dc60"
      },
      "outputs": [
        {
          "output_type": "display_data",
          "data": {
            "text/plain": [
              "  0%|          | 0/26451 [00:00<?, ?it/s]"
            ],
            "application/vnd.jupyter.widget-view+json": {
              "version_major": 2,
              "version_minor": 0,
              "model_id": "76f8873031544309ae64f65312255cdd"
            }
          },
          "metadata": {}
        }
      ],
      "source": [
        "data = []\n",
        "count = 0\n",
        "for path in tqdm(file_paths):\n",
        "  with open(path,'rb') as f:\n",
        "    contents = f.read()\n",
        "    contents = contents.decode(\"utf-16\")\n",
        "    contents = contents.replace(\"\\r\\n\",\". \")\n",
        "    sentences = nltk.sent_tokenize(contents)\n",
        "\n",
        "    data.extend(sentences)\n",
        "\n",
        "# Shuffle\n",
        "import random\n",
        "\n",
        "random.shuffle(data)"
      ]
    },
    {
      "cell_type": "code",
      "execution_count": null,
      "metadata": {
        "colab": {
          "base_uri": "https://localhost:8080/",
          "height": 49,
          "referenced_widgets": [
            "d599bd7fdf4148fdb203397d4dffc90d",
            "0ae438932b1a4d619116e115dbebc5fc",
            "efb0d94aa11d487c8794eee71ded353b",
            "ce6c8ed557ea4188b3520fc1e14eb2ba",
            "6fdaab153cca4e3689f170157b873756",
            "dd0d79136e6f4cbe99aa49db5abfe930",
            "111499f03bcf455e8ccf332f93450616",
            "db5caf6d629b40b3b649acf3c59ae6e1",
            "f9e3b537f080420faabff39e855b301e",
            "ef56597f7c8242a7ac123b13b68f0a48",
            "be134a39e0b54df6bebe6b8a4744980f"
          ]
        },
        "id": "KP6HIsUt7vlT",
        "outputId": "9f96d963-c1e8-4c11-bb15-1bb2a13bd76e"
      },
      "outputs": [
        {
          "output_type": "display_data",
          "data": {
            "text/plain": [
              "  0%|          | 0/653815 [00:00<?, ?it/s]"
            ],
            "application/vnd.jupyter.widget-view+json": {
              "version_major": 2,
              "version_minor": 0,
              "model_id": "d599bd7fdf4148fdb203397d4dffc90d"
            }
          },
          "metadata": {}
        }
      ],
      "source": [
        "data_processed = []\n",
        "\n",
        "# Use tqdm to create a progress bar\n",
        "for content in tqdm(data):\n",
        "    if len(content) > 50:\n",
        "        content = content.replace('..', '.'). \\\n",
        "                            replace('\"', ''). \\\n",
        "                            replace(': .', '.'). \\\n",
        "                            replace('. .', '.'). \\\n",
        "                            replace(\"'\", ''). \\\n",
        "                            replace('“', ''). \\\n",
        "                            replace('”', '')\n",
        "\n",
        "        # Check length of words\n",
        "        words = content.split()\n",
        "        for word in words:\n",
        "            if len(word) > 10:\n",
        "                content = None\n",
        "\n",
        "        if content == None:\n",
        "            continue\n",
        "\n",
        "        if content[0] == '-':\n",
        "            content = content.replace('-', '')\n",
        "\n",
        "        if content[0] == ' ':\n",
        "            content = content[1:]\n",
        "\n",
        "        if '. - ' in content:\n",
        "            content = content.replace('. - ', '. ')\n",
        "\n",
        "        if '.. ' in content:\n",
        "            content = content.replace('.. ', '... ')\n",
        "\n",
        "        if '?.' in content:\n",
        "            content = content.replace('?.', '?')\n",
        "\n",
        "        if ' ?.' in content:\n",
        "            content = content.replace(' ?.', '?')\n",
        "\n",
        "        if '&' in content:\n",
        "            continue\n",
        "\n",
        "        if '( ' in content:\n",
        "            content = content.replace('( ', '(')\n",
        "\n",
        "        if ' )' in content:\n",
        "            content = content.replace(' )', ')')\n",
        "\n",
        "        if '()' in content:\n",
        "            content = content.replace('()', '')\n",
        "\n",
        "        if content[-2:] == ' .':\n",
        "            content = content.replace(content[-2:], '.')\n",
        "            #print(content)\n",
        "\n",
        "        if '… ' in content:\n",
        "            content = content.replace('… ', '... ')\n",
        "\n",
        "        if '….' in content:\n",
        "            content = content.replace('….', '...')\n",
        "\n",
        "        if '…' in content:\n",
        "            continue\n",
        "\n",
        "        if ':.' in content:\n",
        "            continue\n",
        "\n",
        "        if content.isascii():\n",
        "            continue\n",
        "\n",
        "        if '  ' in content:\n",
        "            content = content.replace('  ', ' ')\n",
        "\n",
        "        match = re.search(r\"\\.\\s\\d+\\.$\", content)\n",
        "        if match:\n",
        "            content = re.sub(r\"\\.\\s\\d+\\.$\", \".\", content)\n",
        "\n",
        "        if content[0] == '·':\n",
        "            continue\n",
        "\n",
        "\n",
        "        data_processed.append(content)\n"
      ]
    },
    {
      "cell_type": "code",
      "execution_count": null,
      "metadata": {
        "colab": {
          "base_uri": "https://localhost:8080/"
        },
        "id": "3caQJXir7vlT",
        "outputId": "30a4da70-0f25-4c3d-b59f-c98bc309a60c"
      },
      "outputs": [
        {
          "output_type": "execute_result",
          "data": {
            "text/plain": [
              "369673"
            ]
          },
          "metadata": {},
          "execution_count": 10
        }
      ],
      "source": [
        "len(data_processed)"
      ]
    },
    {
      "cell_type": "code",
      "execution_count": null,
      "metadata": {
        "colab": {
          "base_uri": "https://localhost:8080/"
        },
        "id": "U4R4VbSE7vlU",
        "outputId": "82eac4df-77b9-4e05-927f-fae2397832a1"
      },
      "outputs": [
        {
          "output_type": "stream",
          "name": "stdout",
          "text": [
            "359993\n"
          ]
        }
      ],
      "source": [
        "# extract Latin- characters only\n",
        "alphabet = '^[ _abcdefghijklmnopqrstuvwxyz0123456789áàảãạâấầẩẫậăắằẳẵặóòỏõọôốồổỗộơớờởỡợéèẻẽẹêếềểễệúùủũụưứừửữựíìỉĩịýỳỷỹỵđ!/\\\"\\',\\-\\.:;?_\\(\\)]+$'\n",
        "data=[]\n",
        "\n",
        "for sentence in data_processed:\n",
        "    if re.match(alphabet, sentence.lower()):\n",
        "        sentence = sentence.strip()\n",
        "\n",
        "        data.append(sentence)\n",
        "\n",
        "print(len(data))"
      ]
    },
    {
      "cell_type": "markdown",
      "source": [
        "# CHIA TRAIN VÀ TEST"
      ],
      "metadata": {
        "id": "xt29eWD7fNhW"
      }
    },
    {
      "cell_type": "code",
      "source": [
        "test_size = int(0.1*len(data))\n",
        "\n",
        "train_data = data[:-test_size]\n",
        "test_data = data[-test_size:]"
      ],
      "metadata": {
        "id": "FUkvL9zNfMHq"
      },
      "execution_count": null,
      "outputs": []
    },
    {
      "cell_type": "markdown",
      "source": [
        "# NGRAM TRAIN"
      ],
      "metadata": {
        "id": "065JAieR-141"
      }
    },
    {
      "cell_type": "code",
      "execution_count": null,
      "metadata": {
        "colab": {
          "base_uri": "https://localhost:8080/"
        },
        "id": "4JZaqLjR7vlV",
        "outputId": "90a338c3-b01a-410a-f0ad-f92ed791a4d8"
      },
      "outputs": [
        {
          "output_type": "stream",
          "name": "stderr",
          "text": [
            "100%|██████████| 302492/302492 [00:03<00:00, 84939.76it/s] \n"
          ]
        }
      ],
      "source": [
        "import nltk\n",
        "import pandas as pd\n",
        "from tqdm import tqdm\n",
        "import re\n",
        "import itertools\n",
        "import sys\n",
        "import numpy as np\n",
        "\n",
        "def extract_phrases(text):\n",
        "        return re.findall(r'\\w[\\w ]+', text)\n",
        "\n",
        "def gen_ngrams(text, n=5):\n",
        "    tokens = text.split()\n",
        "\n",
        "    return [tokens] if len(tokens) < n else nltk.ngrams(text.split(), n)\n",
        "\n",
        "def processing(data):\n",
        "\n",
        "    phrases = itertools.chain.from_iterable(extract_phrases(text) for text in data)\n",
        "    phrases = [p.strip() for p in phrases if len(p.split()) > 1]\n",
        "\n",
        "    # gen ngrams\n",
        "    list_ngrams = []\n",
        "    for p in tqdm(phrases):\n",
        "\n",
        "        list_ngrams.extend(\n",
        "            \" \".join(ngr)\n",
        "            for ngr in gen_ngrams(p, 5)\n",
        "            if len(\" \".join(ngr)) < 46\n",
        "        )\n",
        "\n",
        "    return list_ngrams\n",
        "\n",
        "train_ngrams = processing(train_data)\n"
      ]
    },
    {
      "cell_type": "code",
      "source": [
        "len(train_ngrams)"
      ],
      "metadata": {
        "colab": {
          "base_uri": "https://localhost:8080/"
        },
        "id": "ixYs47-43poq",
        "outputId": "f635b13c-8693-4d26-f49e-778af45b5520"
      },
      "execution_count": null,
      "outputs": [
        {
          "output_type": "execute_result",
          "data": {
            "text/plain": [
              "2026887"
            ]
          },
          "metadata": {},
          "execution_count": 54
        }
      ]
    },
    {
      "cell_type": "markdown",
      "source": [
        "# ADD NOISE"
      ],
      "metadata": {
        "id": "aLLxFRcr-_1a"
      }
    },
    {
      "cell_type": "code",
      "source": [
        "import numpy as np\n",
        "import re\n",
        "import unidecode\n",
        "import nltk\n",
        "nltk.download('punkt')\n",
        "from nltk.tokenize import word_tokenize\n",
        "import string\n",
        "\n",
        "\n",
        "class SynthesizeData(object):\n",
        "    \"\"\"\n",
        "    Uitils class to create artificial miss-spelled words\n",
        "    Args:\n",
        "        vocab_path: path to vocab file. Vocab file is expected to be a set of words, separate by ' ', no newline charactor.\n",
        "    \"\"\"\n",
        "\n",
        "    def __init__(self, vocab_path=\"\"):\n",
        "\n",
        "        self.tokenizer = word_tokenize\n",
        "        self.word_couples = [['sương', 'xương'], ['sĩ', 'sỹ'], ['sẽ', 'sẻ'], ['sã', 'sả'], ['sả', 'xả'], ['sẽ', 'sẻ'],\n",
        "                             ['mùi', 'muồi'],\n",
        "                             ['chỉnh', 'chỉn'], ['sữa', 'sửa'], ['chuẩn', 'chẩn'], ['lẻ', 'lẽ'], ['chẳng', 'chẵng'],\n",
        "                             ['cổ', 'cỗ'],\n",
        "                             ['sát', 'xát'], ['cập', 'cặp'], ['truyện', 'chuyện'], ['xá', 'sá'], ['giả', 'dả'],\n",
        "                             ['đỡ', 'đở'],\n",
        "                             ['giữ', 'dữ'], ['giã', 'dã'], ['xảo', 'sảo'], ['kiểm', 'kiễm'], ['cuộc', 'cục'],\n",
        "                             ['dạng', 'dạn'],\n",
        "                             ['tản', 'tảng'], ['ngành', 'nghành'], ['nghề', 'ngề'], ['nổ', 'nỗ'], ['rảnh', 'rãnh'],\n",
        "                             ['sẵn', 'sẳn'],\n",
        "                             ['sáng', 'xán'], ['xuất', 'suất'], ['suôn', 'suông'], ['sử', 'xử'], ['sắc', 'xắc'],\n",
        "                             ['chữa', 'chửa'],\n",
        "                             ['thắn', 'thắng'], ['dỡ', 'dở'], ['trải', 'trãi'], ['trao', 'trau'], ['trung', 'chung'],\n",
        "                             ['thăm', 'tham'],\n",
        "                             ['sét', 'xét'], ['dục', 'giục'], ['tả', 'tã'], ['sông', 'xông'], ['sáo', 'xáo'],\n",
        "                             ['sang', 'xang'],['tôi','tui'],\n",
        "                             ['ngã', 'ngả'], ['xuống', 'suống'], ['xuồng', 'suồng']]\n",
        "\n",
        "        self.char_couples = [['i', 'y'], ['s', 'x'], ['gi', 'd'],\n",
        "                             ['ă', 'â'], ['ch', 'tr'], ['ng', 'n'],['b','p'],['r','g'],\n",
        "                             ['nh', 'n'], ['ngh', 'ng'], ['ục', 'uộc'], ['o', 'u'],\n",
        "                             ['ă', 'a'], ['o', 'ô'], ['ả', 'ã'], ['ổ', 'ỗ'], ['ủ', 'ũ'], ['ễ', 'ể'],\n",
        "                             ['e', 'ê'], ['à', 'ờ'], ['ằ', 'à'], ['ẩn', 'uẩn'], ['ẽ', 'ẻ'], ['ùi', 'uồi'], ['ă', 'â'],\n",
        "                             ['ở', 'ỡ'], ['ỹ', 'ỷ'], ['ỉ', 'ĩ'], ['ị', 'ỵ'],\n",
        "                             ['ấ', 'á'], ['n', 'l'], ['qu', 'w'], ['ph', 'f'], ['d', 'z'], ['c', 'k'], ['qu', 'q'],\n",
        "                             ['i', 'j'], ['gi', 'j'],['gi','z'],['qu','v'],['m','n']\n",
        "                             ]\n",
        "\n",
        "        self.teencode_dict = {'mình': ['mk', 'mik', 'mjk'], 'vô': ['zô', 'zo', 'vo'], 'vậy': ['zậy', 'z', 'zay', 'za'],\n",
        "                              'phải': ['fải', 'fai', ], 'biết': ['bit', 'biet'],\n",
        "                              'rồi': ['rùi', 'ròi', 'r'], 'bây': ['bi', 'bay'], 'giờ': ['h', ],\n",
        "                              'không': ['k', 'ko', 'khong', 'hk', 'hong', 'hông', '0', 'kg', 'kh', ],\n",
        "                              'đi': ['di', 'dj', ], 'gì': ['j', ], 'em': ['e', ], 'được': ['dc', 'đc', ], 'tao': ['t'],\n",
        "                              'tôi': ['t'], 'chồng': ['ck'], 'vợ': ['vk']\n",
        "\n",
        "                              }\n",
        "\n",
        "        self.typo={\"ă\":\"aw\",\"â\":\"aa\",\"á\":\"as\",\"à\":\"af\",\"ả\":\"ar\",\"ã\":\"ax\",\"ạ\":\"aj\",\"ắ\":\"aws\",\"ổ\":\"oor\",\"ỗ\":\"oox\",\"ộ\":\"ooj\",\"ơ\":\"ow\",\n",
        "                  \"ằ\":\"awf\",\"ẳ\":\"awr\",\"ẵ\":\"awx\",\"ặ\":\"awj\",\"ó\":\"os\",\"ò\":\"of\",\"ỏ\":\"or\",\"õ\":\"ox\",\"ọ\":\"oj\",\"ô\":\"oo\",\"ố\":\"oos\",\"ồ\":\"oof\",\n",
        "                  \"ớ\":\"ows\",\"ờ\":\"owf\",\"ở\":\"owr\",\"ỡ\":\"owx\",\"ợ\":\"owj\",\"é\":\"es\",\"è\":\"ef\",\"ẻ\":\"er\",\"ẽ\":\"ex\",\"ẹ\":\"ej\",\"ê\":\"ee\",\"ế\":\"ees\",\"ề\":\"eef\",\n",
        "                  \"ể\":\"eer\",\"ễ\":\"eex\",\"ệ\":\"eej\",\"ú\":\"us\",\"ù\":\"uf\",\"ủ\":\"ur\",\"ũ\":\"ux\",\"ụ\":\"uj\",\"ư\":\"uw\",\"ứ\":\"uws\",\"ừ\":\"uwf\",\"ử\":\"uwr\",\"ữ\":\"uwx\",\n",
        "                  \"ự\":\"uwj\",\"í\":\"is\",\"ì\":\"if\",\"ỉ\":\"ir\",\"ị\":\"ij\",\"ĩ\":\"ix\",\"ý\":\"ys\",\"ỳ\":\"yf\",\"ỷ\":\"yr\",\"ỵ\":\"yj\",\"đ\":\"dd\",\n",
        "                  \"Ă\":\"Aw\",\"Â\":\"Aa\",\"Á\":\"As\",\"À\":\"Af\",\"Ả\":\"Ar\",\"Ã\":\"Ax\",\"Ạ\":\"Aj\",\"Ắ\":\"Aws\",\"Ổ\":\"Oor\",\"Ỗ\":\"Oox\",\"Ộ\":\"Ooj\",\"Ơ\":\"Ow\",\n",
        "                  \"Ằ\":\"AWF\",\"Ẳ\":\"Awr\",\"Ẵ\":\"Awx\",\"Ặ\":\"Awj\",\"Ó\":\"Os\",\"Ò\":\"Of\",\"Ỏ\":\"Or\",\"Õ\":\"Ox\",\"Ọ\":\"Oj\",\"Ô\":\"Oo\",\"Ố\":\"Oos\",\"Ồ\":\"Oof\",\n",
        "                  \"Ớ\":\"Ows\",\"Ờ\":\"Owf\",\"Ở\":\"Owr\",\"Ỡ\":\"Owx\",\"Ợ\":\"Owj\",\"É\":\"Es\",\"È\":\"Ef\",\"Ẻ\":\"Er\",\"Ẽ\":\"Ex\",\"Ẹ\":\"Ej\",\"Ê\":\"Ee\",\"Ế\":\"Ees\",\"Ề\":\"Eef\",\n",
        "                  \"Ể\":\"Eer\",\"Ễ\":\"Eex\",\"Ệ\":\"Eej\",\"Ú\":\"Us\",\"Ù\":\"Uf\",\"Ủ\":\"Ur\",\"Ũ\":\"Ux\",\"Ụ\":\"Uj\",\"Ư\":\"Uw\",\"Ứ\":\"Uws\",\"Ừ\":\"Uwf\",\"Ử\":\"Uwr\",\"Ữ\":\"Uwx\",\n",
        "                  \"Ự\":\"Uwj\",\"Í\":\"Is\",\"Ì\":\"If\",\"Ỉ\":\"Ir\",\"Ị\":\"Ij\",\"Ĩ\":\"Ix\",\"Ý\":\"Ys\",\"Ỳ\":\"Yf\",\"Ỷ\":\"Yr\",\"Ỵ\":\"Yj\",\"Đ\":\"Dd\"}\n",
        "        # self.typo = {\"ă\": [\"aw\", \"a8\"], \"â\": [\"aa\", \"a6\"], \"á\": [\"as\", \"a1\"], \"à\": [\"af\", \"a2\"], \"ả\": [\"ar\", \"a3\"],\n",
        "        #              \"ã\": [\"ax\", \"a4\"], \"ạ\": [\"aj\", \"a5\"], \"ắ\": [\"aws\", \"ă1\"], \"ổ\": [\"oor\", \"ô3\"], \"ỗ\": [\"oox\", \"ô4\"],\n",
        "        #              \"ộ\": [\"ooj\", \"ô5\"], \"ơ\": [\"ow\", \"o7\"],\n",
        "        #              \"ằ\": [\"awf\", \"ă2\"], \"ẳ\": [\"awr\", \"ă3\"], \"ẵ\": [\"awx\", \"ă4\"], \"ặ\": [\"awj\", \"ă5\"], \"ó\": [\"os\", \"o1\"],\n",
        "        #              \"ò\": [\"of\", \"o2\"], \"ỏ\": [\"or\", \"o3\"], \"õ\": [\"ox\", \"o4\"], \"ọ\": [\"oj\", \"o5\"], \"ô\": [\"oo\", \"o6\"],\n",
        "        #              \"ố\": [\"oos\", \"ô1\"], \"ồ\": [\"oof\", \"ô2\"],\n",
        "        #              \"ớ\": [\"ows\", \"ơ1\"], \"ờ\": [\"owf\", \"ơ2\"], \"ở\": [\"owr\", \"ơ2\"], \"ỡ\": [\"owx\", \"ơ4\"], \"ợ\": [\"owj\", \"ơ5\"],\n",
        "        #              \"é\": [\"es\", \"e1\"], \"è\": [\"ef\", \"e2\"], \"ẻ\": [\"er\", \"e3\"], \"ẽ\": [\"ex\", \"e4\"], \"ẹ\": [\"ej\", \"e5\"],\n",
        "        #              \"ê\": [\"ee\", \"e6\"], \"ế\": [\"ees\", \"ê1\"], \"ề\": [\"eef\", \"ê2\"],\n",
        "        #              \"ể\": [\"eer\", \"ê3\"], \"ễ\": [\"eex\", \"ê3\"], \"ệ\": [\"eej\", \"ê5\"], \"ú\": [\"us\", \"u1\"], \"ù\": [\"uf\", \"u2\"],\n",
        "        #              \"ủ\": [\"ur\", \"u3\"], \"ũ\": [\"ux\", \"u4\"], \"ụ\": [\"uj\", \"u5\"], \"ư\": [\"uw\", \"u7\"], \"ứ\": [\"uws\", \"ư1\"],\n",
        "        #              \"ừ\": [\"uwf\", \"ư2\"], \"ử\": [\"uwr\", \"ư3\"], \"ữ\": [\"uwx\", \"ư4\"],\n",
        "        #              \"ự\": [\"uwj\", \"ư5\"], \"í\": [\"is\", \"i1\"], \"ì\": [\"if\", \"i2\"], \"ỉ\": [\"ir\", \"i3\"], \"ị\": [\"ij\", \"i5\"],\n",
        "        #              \"ĩ\": [\"ix\", \"i4\"], \"ý\": [\"ys\", \"y1\"], \"ỳ\": [\"yf\", \"y2\"], \"ỷ\": [\"yr\", \"y3\"], \"ỵ\": [\"yj\", \"y5\"],\n",
        "        #              \"đ\": [\"dd\", \"d9\"],\n",
        "        #              \"Ă\": [\"Aw\", \"A8\"], \"Â\": [\"Aa\", \"A6\"], \"Á\": [\"As\", \"A1\"], \"À\": [\"Af\", \"A2\"], \"Ả\": [\"Ar\", \"A3\"],\n",
        "        #              \"Ã\": [\"Ax\", \"A4\"], \"Ạ\": [\"Aj\", \"A5\"], \"Ắ\": [\"Aws\", \"Ă1\"], \"Ổ\": [\"Oor\", \"Ô3\"], \"Ỗ\": [\"Oox\", \"Ô4\"],\n",
        "        #              \"Ộ\": [\"Ooj\", \"Ô5\"], \"Ơ\": [\"Ow\", \"O7\"],\n",
        "        #              \"Ằ\": [\"AWF\", \"Ă2\"], \"Ẳ\": [\"Awr\", \"Ă3\"], \"Ẵ\": [\"Awx\", \"Ă4\"], \"Ặ\": [\"Awj\", \"Ă5\"], \"Ó\": [\"Os\", \"O1\"],\n",
        "        #              \"Ò\": [\"Of\", \"O2\"], \"Ỏ\": [\"Or\", \"O3\"], \"Õ\": [\"Ox\", \"O4\"], \"Ọ\": [\"Oj\", \"O5\"], \"Ô\": [\"Oo\", \"O6\"],\n",
        "        #              \"Ố\": [\"Oos\", \"Ô1\"], \"Ồ\": [\"Oof\", \"Ô2\"],\n",
        "        #              \"Ớ\": [\"Ows\", \"Ơ1\"], \"Ờ\": [\"Owf\", \"Ơ2\"], \"Ở\": [\"Owr\", \"Ơ3\"], \"Ỡ\": [\"Owx\", \"Ơ4\"], \"Ợ\": [\"Owj\", \"Ơ5\"],\n",
        "        #              \"É\": [\"Es\", \"E1\"], \"È\": [\"Ef\", \"E2\"], \"Ẻ\": [\"Er\", \"E3\"], \"Ẽ\": [\"Ex\", \"E4\"], \"Ẹ\": [\"Ej\", \"E5\"],\n",
        "        #              \"Ê\": [\"Ee\", \"E6\"], \"Ế\": [\"Ees\", \"Ê1\"], \"Ề\": [\"Eef\", \"Ê2\"],\n",
        "        #              \"Ể\": [\"Eer\", \"Ê3\"], \"Ễ\": [\"Eex\", \"Ê4\"], \"Ệ\": [\"Eej\", \"Ê5\"], \"Ú\": [\"Us\", \"U1\"], \"Ù\": [\"Uf\", \"U2\"],\n",
        "        #              \"Ủ\": [\"Ur\", \"U3\"], \"Ũ\": [\"Ux\", \"U4\"], \"Ụ\": [\"Uj\", \"U5\"], \"Ư\": [\"Uw\", \"U7\"], \"Ứ\": [\"Uws\", \"Ư1\"],\n",
        "        #              \"Ừ\": [\"Uwf\", \"Ư2\"], \"Ử\": [\"Uwr\", \"Ư3\"], \"Ữ\": [\"Uwx\", \"Ư4\"],\n",
        "        #              \"Ự\": [\"Uwj\", \"Ư5\"], \"Í\": [\"Is\", \"I1\"], \"Ì\": [\"If\", \"I2\"], \"Ỉ\": [\"Ir\", \"I3\"], \"Ị\": [\"Ij\", \"I5\"],\n",
        "        #              \"Ĩ\": [\"Ix\", \"I4\"], \"Ý\": [\"Ys\", \"Y1\"], \"Ỳ\": [\"Yf\", \"Y2\"], \"Ỷ\": [\"Yr\", \"Y3\"], \"Ỵ\": [\"Yj\", \"Y5\"],\n",
        "        #              \"Đ\": [\"Dd\", \"D9\"]}\n",
        "\n",
        "        self.all_word_candidates = self.get_all_word_candidates(self.word_couples)\n",
        "        self.string_all_word_candidates = ' '.join(self.all_word_candidates)\n",
        "        self.all_char_candidates = self.get_all_char_candidates()\n",
        "\n",
        "    def replace_teencode(self, word):\n",
        "        candidates = self.teencode_dict.get(word, None)\n",
        "        if candidates is not None:\n",
        "            chosen_one = 0\n",
        "            if len(candidates) > 1:\n",
        "                chosen_one = np.random.randint(0, len(candidates))\n",
        "            return candidates[chosen_one]\n",
        "\n",
        "\n",
        "    def replace_word_candidate(self, word):\n",
        "        \"\"\"\n",
        "        Return a homophone word of the input word.\n",
        "        \"\"\"\n",
        "        capital_flag = word[0].isupper()\n",
        "        word = word.lower()\n",
        "        if capital_flag and word in self.teencode_dict:\n",
        "            return self.replace_teencode(word).capitalize()\n",
        "        elif word in self.teencode_dict:\n",
        "            return self.replace_teencode(word)\n",
        "\n",
        "        for couple in self.word_couples:\n",
        "            for i in range(2):\n",
        "                if couple[i] == word:\n",
        "                    if i == 0:\n",
        "                        return couple[1].capitalize() if capital_flag else couple[1]\n",
        "                    else:\n",
        "                        return couple[0].capitalize() if capital_flag else couple[0]\n",
        "\n",
        "    def replace_char_candidate(self, char):\n",
        "        \"\"\"\n",
        "        return a homophone char/subword of the input char.\n",
        "        \"\"\"\n",
        "        for couple in self.char_couples:\n",
        "            for i in range(2):\n",
        "                if couple[i] == char:\n",
        "                    return couple[1] if i == 0 else couple[0]\n",
        "\n",
        "    def replace_char_candidate_typo(self, char):\n",
        "        \"\"\"\n",
        "        return a homophone char/subword of the input char.\n",
        "        \"\"\"\n",
        "        i = np.random.randint(0, 2)\n",
        "\n",
        "        return self.typo[char][i]\n",
        "\n",
        "    def get_all_char_candidates(self, ):\n",
        "\n",
        "        all_char_candidates = []\n",
        "        for couple in self.char_couples:\n",
        "            all_char_candidates.extend(couple)\n",
        "        return all_char_candidates\n",
        "\n",
        "    def get_all_word_candidates(self, word_couples):\n",
        "\n",
        "        all_word_candidates = []\n",
        "        for couple in self.word_couples:\n",
        "            all_word_candidates.extend(couple)\n",
        "        return all_word_candidates\n",
        "\n",
        "    def remove_diacritics(self, text, onehot_label):\n",
        "        \"\"\"\n",
        "        Replace word which has diacritics with the same word without diacritics\n",
        "        Args:\n",
        "            text: a list of word tokens\n",
        "            onehot_label: onehot array indicate position of word that has already modify, so this\n",
        "            function only choose the word that do not has onehot label == 1.\n",
        "        return: a list of word tokens has one word that its diacritics was removed,\n",
        "                a list of onehot label indicate the position of words that has been modified.\n",
        "        \"\"\"\n",
        "        idx = np.random.randint(0, len(onehot_label))\n",
        "        prevent_loop = 0\n",
        "        while onehot_label[idx] == 1 or text[idx] == unidecode.unidecode(text[idx]) or text[idx] in string.punctuation:\n",
        "            idx = np.random.randint(0, len(onehot_label))\n",
        "            prevent_loop += 1\n",
        "            if prevent_loop > 10:\n",
        "                return False, text, onehot_label\n",
        "\n",
        "        onehot_label[idx] = 1\n",
        "        text[idx] = unidecode.unidecode(text[idx])\n",
        "        return True, text, onehot_label\n",
        "\n",
        "    def remove_letter(self, text, onehot_label):\n",
        "        \"\"\"\n",
        "        Replace, add (or remove) a random letter in a random chosen word with a random letter\n",
        "        Args:\n",
        "            text: a list of word tokens\n",
        "            onehot_label: onehot array indicate position of word that has already modify, so this\n",
        "            function only choose the word that do not has onehot label == 1.\n",
        "        return: a list of word tokens has one word that has been modified,\n",
        "                a list of onehot label indicate the position of words that has been modified.\n",
        "        \"\"\"\n",
        "        idx = np.random.randint(0, len(onehot_label))\n",
        "        prevent_loop = 0\n",
        "        while onehot_label[idx] == 1 or text[idx].isnumeric() or text[idx] in string.punctuation:\n",
        "            idx = np.random.randint(0, len(onehot_label))\n",
        "            prevent_loop += 1\n",
        "            if prevent_loop > 10:\n",
        "                return False, text, onehot_label\n",
        "\n",
        "        chosen_letter = text[idx][np.random.randint(0, len(text[idx]))]\n",
        "        try:\n",
        "            text[idx] = re.sub(chosen_letter, '', text[idx])\n",
        "        except:\n",
        "            return False, text, onehot_label\n",
        "\n",
        "        onehot_label[idx] = 1\n",
        "        return True, text, onehot_label\n",
        "\n",
        "    def replace_with_homophone_word(self, text, onehot_label):\n",
        "        \"\"\"\n",
        "        Replace a candidate word (if exist in the word_couple) with its homophone. if successful, return True, else False\n",
        "        Args:\n",
        "            text: a list of word tokens\n",
        "            onehot_label: onehot array indicate position of word that has already modify, so this\n",
        "            function only choose the word that do not has onehot label == 1.\n",
        "        return: True, text, onehot_label if successful replace, else False, text, onehot_label\n",
        "        \"\"\"\n",
        "        candidates = [\n",
        "            (i, text[i])\n",
        "            for i in range(len(text))\n",
        "            if text[i].lower() in self.all_word_candidates\n",
        "            or text[i].lower() in self.teencode_dict.keys()\n",
        "        ]\n",
        "        if not candidates:\n",
        "            return False, text, onehot_label\n",
        "\n",
        "        idx = np.random.randint(0, len(candidates))\n",
        "        prevent_loop = 0\n",
        "        while onehot_label[candidates[idx][0]] == 1:\n",
        "            idx = np.random.choice(np.arange(0, len(candidates)))\n",
        "            prevent_loop += 1\n",
        "            if prevent_loop > 5:\n",
        "                return False, text, onehot_label\n",
        "\n",
        "        text[candidates[idx][0]] = self.replace_word_candidate(candidates[idx][1])\n",
        "        onehot_label[candidates[idx][0]] = 1\n",
        "        return True, text, onehot_label\n",
        "\n",
        "    def replace_with_homophone_letter(self, text, onehot_label):\n",
        "        \"\"\"\n",
        "        Replace a subword/letter with its homophones\n",
        "        Args:\n",
        "            text: a list of word tokens\n",
        "            onehot_label: onehot array indicate position of word that has already modify, so this\n",
        "            function only choose the word that do not has onehot label == 1.\n",
        "        return: True, text, onehot_label if successful replace, else False, None, None\n",
        "        \"\"\"\n",
        "        candidates = []\n",
        "        for i in range(len(text)):\n",
        "            for char in self.all_char_candidates:\n",
        "                if re.search(char, text[i]) is not None:\n",
        "                    candidates.append((i, char))\n",
        "                    break\n",
        "\n",
        "        if not candidates:\n",
        "            return False, text, onehot_label\n",
        "        idx = np.random.randint(0, len(candidates))\n",
        "        prevent_loop = 0\n",
        "        while onehot_label[candidates[idx][0]] == 1:\n",
        "            idx = np.random.randint(0, len(candidates))\n",
        "            prevent_loop += 1\n",
        "            if prevent_loop > 5:\n",
        "                return False, text, onehot_label\n",
        "\n",
        "        replaced = self.replace_char_candidate(candidates[idx][1])\n",
        "        text[candidates[idx][0]] = re.sub(candidates[idx][1], replaced, text[candidates[idx][0]])\n",
        "\n",
        "        onehot_label[candidates[idx][0]] = 1\n",
        "        return True, text, onehot_label\n",
        "\n",
        "    def replace_with_typo_letter(self, text, onehot_label):\n",
        "        \"\"\"\n",
        "        Replace a subword/letter with its homophones\n",
        "        Args:\n",
        "            text: a list of word tokens\n",
        "            onehot_label: onehot array indicate position of word that has already modify, so this\n",
        "            function only choose the word that do not has onehot label == 1.\n",
        "        return: True, text, onehot_label if successful replace, else False, None, None\n",
        "        \"\"\"\n",
        "        # find index noise\n",
        "        idx = np.random.randint(0, len(onehot_label))\n",
        "        prevent_loop = 0\n",
        "        while onehot_label[idx] == 1 or text[idx].isnumeric() or text[idx] in string.punctuation:\n",
        "            idx = np.random.randint(0, len(onehot_label))\n",
        "            prevent_loop += 1\n",
        "            if prevent_loop > 10:\n",
        "                return False, text, onehot_label\n",
        "\n",
        "        index_noise = idx\n",
        "        onehot_label[index_noise] = 1\n",
        "\n",
        "        word_noise = text[index_noise]\n",
        "        for j in range(0, len(word_noise)):\n",
        "            char = word_noise[j]\n",
        "\n",
        "            if char in self.typo:\n",
        "                replaced = self.replace_char_candidate_typo(char)\n",
        "                word_noise = word_noise[: j] + replaced + word_noise[j + 1:]\n",
        "                text[index_noise] = word_noise\n",
        "                return True, text, onehot_label\n",
        "        return True, text, onehot_label\n",
        "\n",
        "    def random_space_ratio(self,text, ratio = 0.1):\n",
        "        \"\"\"\n",
        "        Randomly remove spaces from a string with a given ratio.\n",
        "\n",
        "        Args:\n",
        "          text: The string to process.\n",
        "          ratio: The ratio of spaces to remove (between 0 and 1).\n",
        "\n",
        "        Returns:\n",
        "          The string with random spaces removed.\n",
        "        \"\"\"\n",
        "        mask = np.random.rand(len(text)) < ratio\n",
        "\n",
        "        text = [char for i, char in enumerate(text) if not (char == \" \" and mask[i])]\n",
        "\n",
        "        return \"\".join(text)\n",
        "\n",
        "    def add_noise(self, sentence, percent_err=0.3, num_type_err=5):\n",
        "        tokens = self.tokenizer(sentence)\n",
        "        onehot_label = [0] * len(tokens)\n",
        "\n",
        "        num_wrong = int(np.ceil(percent_err * len(tokens)))\n",
        "        num_wrong = np.random.randint(1, num_wrong + 1)\n",
        "        if np.random.rand() < 0.05:\n",
        "            num_wrong = 0\n",
        "\n",
        "        for _ in range(0, num_wrong):\n",
        "            err = np.random.randint(0, num_type_err + 1)\n",
        "\n",
        "            if err == 0:\n",
        "                _, tokens, onehot_label = self.replace_with_homophone_letter(tokens, onehot_label)\n",
        "            elif err == 1 or err == 2:\n",
        "                _, tokens, onehot_label = self.replace_with_typo_letter(tokens, onehot_label)\n",
        "            elif err == 3:\n",
        "                _, tokens, onehot_label = self.replace_with_homophone_word(tokens, onehot_label)\n",
        "            elif err == 4:\n",
        "                _, tokens, onehot_label = self.remove_letter(tokens, onehot_label)\n",
        "            elif err == 5:\n",
        "                _, tokens, onehot_label = self.remove_diacritics(tokens, onehot_label)\n",
        "            else:\n",
        "                continue\n",
        "\n",
        "        tokens = ' '.join(tokens)\n",
        "        tokens = self.random_space_ratio(text = tokens)\n",
        "\n",
        "        return tokens\n",
        "\n"
      ],
      "metadata": {
        "id": "iTw2dKIvgZq5",
        "colab": {
          "base_uri": "https://localhost:8080/"
        },
        "outputId": "ca1934b8-65d9-4fea-f5f1-10afb0101aec"
      },
      "execution_count": null,
      "outputs": [
        {
          "output_type": "stream",
          "name": "stderr",
          "text": [
            "[nltk_data] Downloading package punkt to /root/nltk_data...\n",
            "[nltk_data]   Package punkt is already up-to-date!\n"
          ]
        }
      ]
    },
    {
      "cell_type": "code",
      "source": [
        "synt = SynthesizeData()\n",
        "noise_train_ngrams = []\n",
        "for ngram in tqdm(train_ngrams):\n",
        "  noise_train_ngrams.append(synt.add_noise(ngram))"
      ],
      "metadata": {
        "colab": {
          "base_uri": "https://localhost:8080/"
        },
        "id": "2zXOIgzGSWRL",
        "outputId": "29cad9f5-0662-44be-caab-d389666cabbd"
      },
      "execution_count": null,
      "outputs": [
        {
          "output_type": "stream",
          "name": "stderr",
          "text": [
            "100%|██████████| 6579290/6579290 [20:51<00:00, 5255.15it/s]\n"
          ]
        }
      ]
    },
    {
      "cell_type": "code",
      "source": [
        "noise_test_data = []\n",
        "for sentence in tqdm(test_data):\n",
        "  noise_test_data.append(synt.add_noise(sentence))"
      ],
      "metadata": {
        "colab": {
          "base_uri": "https://localhost:8080/"
        },
        "id": "ONIBa6mzgdFt",
        "outputId": "8b170caf-9e50-42e6-8ef2-e25acf491b8b"
      },
      "execution_count": null,
      "outputs": [
        {
          "output_type": "stream",
          "name": "stderr",
          "text": [
            "100%|██████████| 35999/35999 [00:45<00:00, 788.56it/s]\n"
          ]
        }
      ]
    },
    {
      "cell_type": "markdown",
      "source": [
        "# GHI VÀO FILE CSV"
      ],
      "metadata": {
        "id": "-tqlMYr1gdRv"
      }
    },
    {
      "cell_type": "code",
      "source": [
        "import csv\n",
        "\n",
        "with open('train_data.csv', 'w', newline='', encoding='utf-8') as f:\n",
        "    writer = csv.writer(f)\n",
        "    writer.writerow(['input','output'])\n",
        "    for noise_ngram,ngram in zip(noise_train_ngrams,train_ngrams):\n",
        "        writer.writerow([noise_ngram,ngram])"
      ],
      "metadata": {
        "id": "Z7B-mv4ccagj"
      },
      "execution_count": null,
      "outputs": []
    },
    {
      "cell_type": "code",
      "source": [
        "with open('test_data.csv', 'w', newline='', encoding='utf-8') as f:\n",
        "    writer = csv.writer(f)\n",
        "    writer.writerow(['input','output'])\n",
        "    for noise_sen,sen in zip(noise_test_data,test_data):\n",
        "        writer.writerow([noise_sen,sen])"
      ],
      "metadata": {
        "id": "e4oRlMxEdkaE"
      },
      "execution_count": null,
      "outputs": []
    },
    {
      "cell_type": "code",
      "source": [],
      "metadata": {
        "id": "vfGIby0y4iam"
      },
      "execution_count": null,
      "outputs": []
    }
  ],
  "metadata": {
    "kernelspec": {
      "display_name": "Python 3",
      "name": "python3"
    },
    "language_info": {
      "codemirror_mode": {
        "name": "ipython",
        "version": 3
      },
      "file_extension": ".py",
      "mimetype": "text/x-python",
      "name": "python",
      "nbconvert_exporter": "python",
      "pygments_lexer": "ipython3",
      "version": "3.10.9"
    },
    "orig_nbformat": 4,
    "vscode": {
      "interpreter": {
        "hash": "3b7a843eca1cab639b36c3fbecef55435faf57387ff90456c4ff67b93cd6a8d2"
      }
    },
    "colab": {
      "provenance": [],
      "gpuType": "T4",
      "toc_visible": true
    },
    "widgets": {
      "application/vnd.jupyter.widget-state+json": {
        "76f8873031544309ae64f65312255cdd": {
          "model_module": "@jupyter-widgets/controls",
          "model_name": "HBoxModel",
          "model_module_version": "1.5.0",
          "state": {
            "_dom_classes": [],
            "_model_module": "@jupyter-widgets/controls",
            "_model_module_version": "1.5.0",
            "_model_name": "HBoxModel",
            "_view_count": null,
            "_view_module": "@jupyter-widgets/controls",
            "_view_module_version": "1.5.0",
            "_view_name": "HBoxView",
            "box_style": "",
            "children": [
              "IPY_MODEL_6030a5dd75404f0c97f54c07d99174bc",
              "IPY_MODEL_2209f1f7bd2d4ebe82bfe32fd0e996d0",
              "IPY_MODEL_24c8cc93764043d09ad362cca4bb7082"
            ],
            "layout": "IPY_MODEL_b6f47e996bf04a7a8f4668ab26a0eb74"
          }
        },
        "6030a5dd75404f0c97f54c07d99174bc": {
          "model_module": "@jupyter-widgets/controls",
          "model_name": "HTMLModel",
          "model_module_version": "1.5.0",
          "state": {
            "_dom_classes": [],
            "_model_module": "@jupyter-widgets/controls",
            "_model_module_version": "1.5.0",
            "_model_name": "HTMLModel",
            "_view_count": null,
            "_view_module": "@jupyter-widgets/controls",
            "_view_module_version": "1.5.0",
            "_view_name": "HTMLView",
            "description": "",
            "description_tooltip": null,
            "layout": "IPY_MODEL_06b76605048d43fea37cdc97a0877fdb",
            "placeholder": "​",
            "style": "IPY_MODEL_5325154bdc1c4ca5aad9fa986ac73c6e",
            "value": "100%"
          }
        },
        "2209f1f7bd2d4ebe82bfe32fd0e996d0": {
          "model_module": "@jupyter-widgets/controls",
          "model_name": "FloatProgressModel",
          "model_module_version": "1.5.0",
          "state": {
            "_dom_classes": [],
            "_model_module": "@jupyter-widgets/controls",
            "_model_module_version": "1.5.0",
            "_model_name": "FloatProgressModel",
            "_view_count": null,
            "_view_module": "@jupyter-widgets/controls",
            "_view_module_version": "1.5.0",
            "_view_name": "ProgressView",
            "bar_style": "success",
            "description": "",
            "description_tooltip": null,
            "layout": "IPY_MODEL_701d5b5c5e634fac9d8cbdd9acd45eba",
            "max": 26451,
            "min": 0,
            "orientation": "horizontal",
            "style": "IPY_MODEL_b0c297c0634a4738a6182c3519679118",
            "value": 26451
          }
        },
        "24c8cc93764043d09ad362cca4bb7082": {
          "model_module": "@jupyter-widgets/controls",
          "model_name": "HTMLModel",
          "model_module_version": "1.5.0",
          "state": {
            "_dom_classes": [],
            "_model_module": "@jupyter-widgets/controls",
            "_model_module_version": "1.5.0",
            "_model_name": "HTMLModel",
            "_view_count": null,
            "_view_module": "@jupyter-widgets/controls",
            "_view_module_version": "1.5.0",
            "_view_name": "HTMLView",
            "description": "",
            "description_tooltip": null,
            "layout": "IPY_MODEL_7037e40fb2a745a0bddd1338ec834874",
            "placeholder": "​",
            "style": "IPY_MODEL_32922f7126624f6db6d7cf93f0ad4211",
            "value": " 26451/26451 [00:32&lt;00:00, 1337.19it/s]"
          }
        },
        "b6f47e996bf04a7a8f4668ab26a0eb74": {
          "model_module": "@jupyter-widgets/base",
          "model_name": "LayoutModel",
          "model_module_version": "1.2.0",
          "state": {
            "_model_module": "@jupyter-widgets/base",
            "_model_module_version": "1.2.0",
            "_model_name": "LayoutModel",
            "_view_count": null,
            "_view_module": "@jupyter-widgets/base",
            "_view_module_version": "1.2.0",
            "_view_name": "LayoutView",
            "align_content": null,
            "align_items": null,
            "align_self": null,
            "border": null,
            "bottom": null,
            "display": null,
            "flex": null,
            "flex_flow": null,
            "grid_area": null,
            "grid_auto_columns": null,
            "grid_auto_flow": null,
            "grid_auto_rows": null,
            "grid_column": null,
            "grid_gap": null,
            "grid_row": null,
            "grid_template_areas": null,
            "grid_template_columns": null,
            "grid_template_rows": null,
            "height": null,
            "justify_content": null,
            "justify_items": null,
            "left": null,
            "margin": null,
            "max_height": null,
            "max_width": null,
            "min_height": null,
            "min_width": null,
            "object_fit": null,
            "object_position": null,
            "order": null,
            "overflow": null,
            "overflow_x": null,
            "overflow_y": null,
            "padding": null,
            "right": null,
            "top": null,
            "visibility": null,
            "width": null
          }
        },
        "06b76605048d43fea37cdc97a0877fdb": {
          "model_module": "@jupyter-widgets/base",
          "model_name": "LayoutModel",
          "model_module_version": "1.2.0",
          "state": {
            "_model_module": "@jupyter-widgets/base",
            "_model_module_version": "1.2.0",
            "_model_name": "LayoutModel",
            "_view_count": null,
            "_view_module": "@jupyter-widgets/base",
            "_view_module_version": "1.2.0",
            "_view_name": "LayoutView",
            "align_content": null,
            "align_items": null,
            "align_self": null,
            "border": null,
            "bottom": null,
            "display": null,
            "flex": null,
            "flex_flow": null,
            "grid_area": null,
            "grid_auto_columns": null,
            "grid_auto_flow": null,
            "grid_auto_rows": null,
            "grid_column": null,
            "grid_gap": null,
            "grid_row": null,
            "grid_template_areas": null,
            "grid_template_columns": null,
            "grid_template_rows": null,
            "height": null,
            "justify_content": null,
            "justify_items": null,
            "left": null,
            "margin": null,
            "max_height": null,
            "max_width": null,
            "min_height": null,
            "min_width": null,
            "object_fit": null,
            "object_position": null,
            "order": null,
            "overflow": null,
            "overflow_x": null,
            "overflow_y": null,
            "padding": null,
            "right": null,
            "top": null,
            "visibility": null,
            "width": null
          }
        },
        "5325154bdc1c4ca5aad9fa986ac73c6e": {
          "model_module": "@jupyter-widgets/controls",
          "model_name": "DescriptionStyleModel",
          "model_module_version": "1.5.0",
          "state": {
            "_model_module": "@jupyter-widgets/controls",
            "_model_module_version": "1.5.0",
            "_model_name": "DescriptionStyleModel",
            "_view_count": null,
            "_view_module": "@jupyter-widgets/base",
            "_view_module_version": "1.2.0",
            "_view_name": "StyleView",
            "description_width": ""
          }
        },
        "701d5b5c5e634fac9d8cbdd9acd45eba": {
          "model_module": "@jupyter-widgets/base",
          "model_name": "LayoutModel",
          "model_module_version": "1.2.0",
          "state": {
            "_model_module": "@jupyter-widgets/base",
            "_model_module_version": "1.2.0",
            "_model_name": "LayoutModel",
            "_view_count": null,
            "_view_module": "@jupyter-widgets/base",
            "_view_module_version": "1.2.0",
            "_view_name": "LayoutView",
            "align_content": null,
            "align_items": null,
            "align_self": null,
            "border": null,
            "bottom": null,
            "display": null,
            "flex": null,
            "flex_flow": null,
            "grid_area": null,
            "grid_auto_columns": null,
            "grid_auto_flow": null,
            "grid_auto_rows": null,
            "grid_column": null,
            "grid_gap": null,
            "grid_row": null,
            "grid_template_areas": null,
            "grid_template_columns": null,
            "grid_template_rows": null,
            "height": null,
            "justify_content": null,
            "justify_items": null,
            "left": null,
            "margin": null,
            "max_height": null,
            "max_width": null,
            "min_height": null,
            "min_width": null,
            "object_fit": null,
            "object_position": null,
            "order": null,
            "overflow": null,
            "overflow_x": null,
            "overflow_y": null,
            "padding": null,
            "right": null,
            "top": null,
            "visibility": null,
            "width": null
          }
        },
        "b0c297c0634a4738a6182c3519679118": {
          "model_module": "@jupyter-widgets/controls",
          "model_name": "ProgressStyleModel",
          "model_module_version": "1.5.0",
          "state": {
            "_model_module": "@jupyter-widgets/controls",
            "_model_module_version": "1.5.0",
            "_model_name": "ProgressStyleModel",
            "_view_count": null,
            "_view_module": "@jupyter-widgets/base",
            "_view_module_version": "1.2.0",
            "_view_name": "StyleView",
            "bar_color": null,
            "description_width": ""
          }
        },
        "7037e40fb2a745a0bddd1338ec834874": {
          "model_module": "@jupyter-widgets/base",
          "model_name": "LayoutModel",
          "model_module_version": "1.2.0",
          "state": {
            "_model_module": "@jupyter-widgets/base",
            "_model_module_version": "1.2.0",
            "_model_name": "LayoutModel",
            "_view_count": null,
            "_view_module": "@jupyter-widgets/base",
            "_view_module_version": "1.2.0",
            "_view_name": "LayoutView",
            "align_content": null,
            "align_items": null,
            "align_self": null,
            "border": null,
            "bottom": null,
            "display": null,
            "flex": null,
            "flex_flow": null,
            "grid_area": null,
            "grid_auto_columns": null,
            "grid_auto_flow": null,
            "grid_auto_rows": null,
            "grid_column": null,
            "grid_gap": null,
            "grid_row": null,
            "grid_template_areas": null,
            "grid_template_columns": null,
            "grid_template_rows": null,
            "height": null,
            "justify_content": null,
            "justify_items": null,
            "left": null,
            "margin": null,
            "max_height": null,
            "max_width": null,
            "min_height": null,
            "min_width": null,
            "object_fit": null,
            "object_position": null,
            "order": null,
            "overflow": null,
            "overflow_x": null,
            "overflow_y": null,
            "padding": null,
            "right": null,
            "top": null,
            "visibility": null,
            "width": null
          }
        },
        "32922f7126624f6db6d7cf93f0ad4211": {
          "model_module": "@jupyter-widgets/controls",
          "model_name": "DescriptionStyleModel",
          "model_module_version": "1.5.0",
          "state": {
            "_model_module": "@jupyter-widgets/controls",
            "_model_module_version": "1.5.0",
            "_model_name": "DescriptionStyleModel",
            "_view_count": null,
            "_view_module": "@jupyter-widgets/base",
            "_view_module_version": "1.2.0",
            "_view_name": "StyleView",
            "description_width": ""
          }
        },
        "d599bd7fdf4148fdb203397d4dffc90d": {
          "model_module": "@jupyter-widgets/controls",
          "model_name": "HBoxModel",
          "model_module_version": "1.5.0",
          "state": {
            "_dom_classes": [],
            "_model_module": "@jupyter-widgets/controls",
            "_model_module_version": "1.5.0",
            "_model_name": "HBoxModel",
            "_view_count": null,
            "_view_module": "@jupyter-widgets/controls",
            "_view_module_version": "1.5.0",
            "_view_name": "HBoxView",
            "box_style": "",
            "children": [
              "IPY_MODEL_0ae438932b1a4d619116e115dbebc5fc",
              "IPY_MODEL_efb0d94aa11d487c8794eee71ded353b",
              "IPY_MODEL_ce6c8ed557ea4188b3520fc1e14eb2ba"
            ],
            "layout": "IPY_MODEL_6fdaab153cca4e3689f170157b873756"
          }
        },
        "0ae438932b1a4d619116e115dbebc5fc": {
          "model_module": "@jupyter-widgets/controls",
          "model_name": "HTMLModel",
          "model_module_version": "1.5.0",
          "state": {
            "_dom_classes": [],
            "_model_module": "@jupyter-widgets/controls",
            "_model_module_version": "1.5.0",
            "_model_name": "HTMLModel",
            "_view_count": null,
            "_view_module": "@jupyter-widgets/controls",
            "_view_module_version": "1.5.0",
            "_view_name": "HTMLView",
            "description": "",
            "description_tooltip": null,
            "layout": "IPY_MODEL_dd0d79136e6f4cbe99aa49db5abfe930",
            "placeholder": "​",
            "style": "IPY_MODEL_111499f03bcf455e8ccf332f93450616",
            "value": "100%"
          }
        },
        "efb0d94aa11d487c8794eee71ded353b": {
          "model_module": "@jupyter-widgets/controls",
          "model_name": "FloatProgressModel",
          "model_module_version": "1.5.0",
          "state": {
            "_dom_classes": [],
            "_model_module": "@jupyter-widgets/controls",
            "_model_module_version": "1.5.0",
            "_model_name": "FloatProgressModel",
            "_view_count": null,
            "_view_module": "@jupyter-widgets/controls",
            "_view_module_version": "1.5.0",
            "_view_name": "ProgressView",
            "bar_style": "success",
            "description": "",
            "description_tooltip": null,
            "layout": "IPY_MODEL_db5caf6d629b40b3b649acf3c59ae6e1",
            "max": 653815,
            "min": 0,
            "orientation": "horizontal",
            "style": "IPY_MODEL_f9e3b537f080420faabff39e855b301e",
            "value": 653815
          }
        },
        "ce6c8ed557ea4188b3520fc1e14eb2ba": {
          "model_module": "@jupyter-widgets/controls",
          "model_name": "HTMLModel",
          "model_module_version": "1.5.0",
          "state": {
            "_dom_classes": [],
            "_model_module": "@jupyter-widgets/controls",
            "_model_module_version": "1.5.0",
            "_model_name": "HTMLModel",
            "_view_count": null,
            "_view_module": "@jupyter-widgets/controls",
            "_view_module_version": "1.5.0",
            "_view_name": "HTMLView",
            "description": "",
            "description_tooltip": null,
            "layout": "IPY_MODEL_ef56597f7c8242a7ac123b13b68f0a48",
            "placeholder": "​",
            "style": "IPY_MODEL_be134a39e0b54df6bebe6b8a4744980f",
            "value": " 653815/653815 [00:07&lt;00:00, 58262.70it/s]"
          }
        },
        "6fdaab153cca4e3689f170157b873756": {
          "model_module": "@jupyter-widgets/base",
          "model_name": "LayoutModel",
          "model_module_version": "1.2.0",
          "state": {
            "_model_module": "@jupyter-widgets/base",
            "_model_module_version": "1.2.0",
            "_model_name": "LayoutModel",
            "_view_count": null,
            "_view_module": "@jupyter-widgets/base",
            "_view_module_version": "1.2.0",
            "_view_name": "LayoutView",
            "align_content": null,
            "align_items": null,
            "align_self": null,
            "border": null,
            "bottom": null,
            "display": null,
            "flex": null,
            "flex_flow": null,
            "grid_area": null,
            "grid_auto_columns": null,
            "grid_auto_flow": null,
            "grid_auto_rows": null,
            "grid_column": null,
            "grid_gap": null,
            "grid_row": null,
            "grid_template_areas": null,
            "grid_template_columns": null,
            "grid_template_rows": null,
            "height": null,
            "justify_content": null,
            "justify_items": null,
            "left": null,
            "margin": null,
            "max_height": null,
            "max_width": null,
            "min_height": null,
            "min_width": null,
            "object_fit": null,
            "object_position": null,
            "order": null,
            "overflow": null,
            "overflow_x": null,
            "overflow_y": null,
            "padding": null,
            "right": null,
            "top": null,
            "visibility": null,
            "width": null
          }
        },
        "dd0d79136e6f4cbe99aa49db5abfe930": {
          "model_module": "@jupyter-widgets/base",
          "model_name": "LayoutModel",
          "model_module_version": "1.2.0",
          "state": {
            "_model_module": "@jupyter-widgets/base",
            "_model_module_version": "1.2.0",
            "_model_name": "LayoutModel",
            "_view_count": null,
            "_view_module": "@jupyter-widgets/base",
            "_view_module_version": "1.2.0",
            "_view_name": "LayoutView",
            "align_content": null,
            "align_items": null,
            "align_self": null,
            "border": null,
            "bottom": null,
            "display": null,
            "flex": null,
            "flex_flow": null,
            "grid_area": null,
            "grid_auto_columns": null,
            "grid_auto_flow": null,
            "grid_auto_rows": null,
            "grid_column": null,
            "grid_gap": null,
            "grid_row": null,
            "grid_template_areas": null,
            "grid_template_columns": null,
            "grid_template_rows": null,
            "height": null,
            "justify_content": null,
            "justify_items": null,
            "left": null,
            "margin": null,
            "max_height": null,
            "max_width": null,
            "min_height": null,
            "min_width": null,
            "object_fit": null,
            "object_position": null,
            "order": null,
            "overflow": null,
            "overflow_x": null,
            "overflow_y": null,
            "padding": null,
            "right": null,
            "top": null,
            "visibility": null,
            "width": null
          }
        },
        "111499f03bcf455e8ccf332f93450616": {
          "model_module": "@jupyter-widgets/controls",
          "model_name": "DescriptionStyleModel",
          "model_module_version": "1.5.0",
          "state": {
            "_model_module": "@jupyter-widgets/controls",
            "_model_module_version": "1.5.0",
            "_model_name": "DescriptionStyleModel",
            "_view_count": null,
            "_view_module": "@jupyter-widgets/base",
            "_view_module_version": "1.2.0",
            "_view_name": "StyleView",
            "description_width": ""
          }
        },
        "db5caf6d629b40b3b649acf3c59ae6e1": {
          "model_module": "@jupyter-widgets/base",
          "model_name": "LayoutModel",
          "model_module_version": "1.2.0",
          "state": {
            "_model_module": "@jupyter-widgets/base",
            "_model_module_version": "1.2.0",
            "_model_name": "LayoutModel",
            "_view_count": null,
            "_view_module": "@jupyter-widgets/base",
            "_view_module_version": "1.2.0",
            "_view_name": "LayoutView",
            "align_content": null,
            "align_items": null,
            "align_self": null,
            "border": null,
            "bottom": null,
            "display": null,
            "flex": null,
            "flex_flow": null,
            "grid_area": null,
            "grid_auto_columns": null,
            "grid_auto_flow": null,
            "grid_auto_rows": null,
            "grid_column": null,
            "grid_gap": null,
            "grid_row": null,
            "grid_template_areas": null,
            "grid_template_columns": null,
            "grid_template_rows": null,
            "height": null,
            "justify_content": null,
            "justify_items": null,
            "left": null,
            "margin": null,
            "max_height": null,
            "max_width": null,
            "min_height": null,
            "min_width": null,
            "object_fit": null,
            "object_position": null,
            "order": null,
            "overflow": null,
            "overflow_x": null,
            "overflow_y": null,
            "padding": null,
            "right": null,
            "top": null,
            "visibility": null,
            "width": null
          }
        },
        "f9e3b537f080420faabff39e855b301e": {
          "model_module": "@jupyter-widgets/controls",
          "model_name": "ProgressStyleModel",
          "model_module_version": "1.5.0",
          "state": {
            "_model_module": "@jupyter-widgets/controls",
            "_model_module_version": "1.5.0",
            "_model_name": "ProgressStyleModel",
            "_view_count": null,
            "_view_module": "@jupyter-widgets/base",
            "_view_module_version": "1.2.0",
            "_view_name": "StyleView",
            "bar_color": null,
            "description_width": ""
          }
        },
        "ef56597f7c8242a7ac123b13b68f0a48": {
          "model_module": "@jupyter-widgets/base",
          "model_name": "LayoutModel",
          "model_module_version": "1.2.0",
          "state": {
            "_model_module": "@jupyter-widgets/base",
            "_model_module_version": "1.2.0",
            "_model_name": "LayoutModel",
            "_view_count": null,
            "_view_module": "@jupyter-widgets/base",
            "_view_module_version": "1.2.0",
            "_view_name": "LayoutView",
            "align_content": null,
            "align_items": null,
            "align_self": null,
            "border": null,
            "bottom": null,
            "display": null,
            "flex": null,
            "flex_flow": null,
            "grid_area": null,
            "grid_auto_columns": null,
            "grid_auto_flow": null,
            "grid_auto_rows": null,
            "grid_column": null,
            "grid_gap": null,
            "grid_row": null,
            "grid_template_areas": null,
            "grid_template_columns": null,
            "grid_template_rows": null,
            "height": null,
            "justify_content": null,
            "justify_items": null,
            "left": null,
            "margin": null,
            "max_height": null,
            "max_width": null,
            "min_height": null,
            "min_width": null,
            "object_fit": null,
            "object_position": null,
            "order": null,
            "overflow": null,
            "overflow_x": null,
            "overflow_y": null,
            "padding": null,
            "right": null,
            "top": null,
            "visibility": null,
            "width": null
          }
        },
        "be134a39e0b54df6bebe6b8a4744980f": {
          "model_module": "@jupyter-widgets/controls",
          "model_name": "DescriptionStyleModel",
          "model_module_version": "1.5.0",
          "state": {
            "_model_module": "@jupyter-widgets/controls",
            "_model_module_version": "1.5.0",
            "_model_name": "DescriptionStyleModel",
            "_view_count": null,
            "_view_module": "@jupyter-widgets/base",
            "_view_module_version": "1.2.0",
            "_view_name": "StyleView",
            "description_width": ""
          }
        }
      }
    },
    "accelerator": "GPU"
  },
  "nbformat": 4,
  "nbformat_minor": 0
}